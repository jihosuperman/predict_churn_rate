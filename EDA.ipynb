{
 "cells": [
  {
   "attachments": {},
   "cell_type": "markdown",
   "metadata": {},
   "source": [
    "# **음악 스트리밍 서비스 kkbox의 고객 이탈률 예측**</br>\n",
    "\n",
    "\n",
    "## **프로젝트의 필요성**</br>\n",
    "> </br>\n",
    "> 기업의 입장에서, 매출을 발생시키는 고객을 신규 유입시키는 데 발생하는 비용보다 기존 고객을 이탈하지 않도록 유지하는 비용이 더 낮음.\n",
    ">\n",
    "> 특히 음악 스트리밍과 같은 구독형 비즈니스 모델을 가진 서비스의 경우 기존 고객이 이탈하지 않도록 유지하는 것은 현재의 매출만이 아닌 미래의 현금 흐름 창출에도 중요한 요소로 작용.\n",
    "> \n",
    "> 또한 고객의 이탈 데이터를 분석하여 현재 서비스 개선에 대한 의사결정의 근거를 마련할 수 있음.</br>\n",
    "> </br>\n",
    "\n",
    "## **목표**</br>\n",
    "> </br>\n",
    "> - 1차 : 머신 러닝을 통한 고객 전환 예측</br></br>\n",
    "> - 2차 : 대쉬보드 생성</br></br>\n",
    "> - 3차 : Slack을 통해 이탈 가능성이 높은 고객의 정보를 자동으로 전달할 수 있도록 시스템 구축</br>\n",
    "></br>\n",
    "\n",
    "## 추가적으로 생각해볼 수 있는 features\n",
    "\n",
    "> </br>\n",
    "> 사용자의 서비스 사용 횟수(일 단위) / 사용자의 총 서비스 가입 기간</br></br>\n",
    "> </br></br>\n",
    "> </br>\n",
    "></br> "
   ]
  },
  {
   "cell_type": "code",
   "execution_count": 214,
   "metadata": {},
   "outputs": [],
   "source": [
    "import matplotlib.pyplot as plt\n",
    "import pandas as pd\n",
    "import jiho_module as jm\n",
    "import numpy as np\n",
    "import seaborn as sns\n",
    "from pyspark.sql import SparkSession\n",
    "from pyspark.sql.functions import col, min, max, datediff, sum, when, to_date, concat_ws, substring, lag, avg, count\n",
    "from pyspark.sql.types import DateType\n",
    "from pyspark.sql.window import Window"
   ]
  },
  {
   "cell_type": "code",
   "execution_count": 238,
   "metadata": {},
   "outputs": [
    {
     "data": {
      "text/plain": [
       "<module 'jiho_module' from 'c:\\\\Users\\\\jiho\\\\Documents\\\\jiho_portfolio\\\\predict_churn_rate\\\\jiho_module.py'>"
      ]
     },
     "execution_count": 238,
     "metadata": {},
     "output_type": "execute_result"
    }
   ],
   "source": [
    "from importlib import reload\n",
    "reload(jm)"
   ]
  },
  {
   "cell_type": "code",
   "execution_count": 2,
   "metadata": {},
   "outputs": [],
   "source": [
    "spark = SparkSession.builder.appName('predict_chrun_rate').getOrCreate()"
   ]
  },
  {
   "cell_type": "code",
   "execution_count": 3,
   "metadata": {},
   "outputs": [],
   "source": [
    "train_df = spark.read.option('header', 'true').parquet('D:/kkbox-churn-prediction-challenge/data/churn_comp_refresh/id_encoding/data/new_train/new_train.parquet', inferSchema=True)\n",
    "members_df = spark.read.option('header', 'true').parquet('D:/kkbox-churn-prediction-challenge/data/churn_comp_refresh/id_encoding/data/new_members/new_members.parquet', inferSchema=True)\n",
    "transactions_df = spark.read.option('header', 'true').parquet('D:/kkbox-churn-prediction-challenge/data/churn_comp_refresh/id_encoding/data/new_transactions/new_transactions.parquet', inferSchema=True)\n",
    "userlog_df = spark.read.option('header', 'true').parquet('D:/kkbox-churn-prediction-challenge/data/churn_comp_refresh/id_encoding/data/new_user_logs/new_user_logs-001.parquet', inferSchema=True)"
   ]
  },
  {
   "attachments": {},
   "cell_type": "markdown",
   "metadata": {},
   "source": [
    "### train_df 살펴보기"
   ]
  },
  {
   "cell_type": "code",
   "execution_count": 21,
   "metadata": {},
   "outputs": [
    {
     "name": "stdout",
     "output_type": "stream",
     "text": [
      "root\n",
      " |-- msno: string (nullable = true)\n",
      " |-- is_churn: integer (nullable = true)\n",
      "\n"
     ]
    }
   ],
   "source": [
    "train_df_merged.printSchema()"
   ]
  },
  {
   "cell_type": "code",
   "execution_count": 118,
   "metadata": {},
   "outputs": [
    {
     "data": {
      "text/plain": [
       "(1963891, 1082190)"
      ]
     },
     "execution_count": 118,
     "metadata": {},
     "output_type": "execute_result"
    }
   ],
   "source": [
    "train_df_merged.count(), train_df_merged.select('msno').distinct().count()"
   ]
  },
  {
   "cell_type": "code",
   "execution_count": 7,
   "metadata": {},
   "outputs": [],
   "source": [
    "train_df_merged = train_df_merged.drop_duplicates(['msno'])"
   ]
  },
  {
   "cell_type": "code",
   "execution_count": 8,
   "metadata": {},
   "outputs": [],
   "source": [
    "train_test = train_df_merged.unionAll(test)"
   ]
  },
  {
   "cell_type": "code",
   "execution_count": 9,
   "metadata": {},
   "outputs": [
    {
     "data": {
      "text/plain": [
       "907471"
      ]
     },
     "execution_count": 9,
     "metadata": {},
     "output_type": "execute_result"
    }
   ],
   "source": [
    "test.select('msno').count()"
   ]
  },
  {
   "cell_type": "code",
   "execution_count": 10,
   "metadata": {},
   "outputs": [
    {
     "data": {
      "text/plain": [
       "907471"
      ]
     },
     "execution_count": 10,
     "metadata": {},
     "output_type": "execute_result"
    }
   ],
   "source": [
    "test.select('msno').distinct().count()"
   ]
  },
  {
   "cell_type": "code",
   "execution_count": 11,
   "metadata": {},
   "outputs": [
    {
     "data": {
      "text/plain": [
       "1143472"
      ]
     },
     "execution_count": 11,
     "metadata": {},
     "output_type": "execute_result"
    }
   ],
   "source": [
    "train_test.select('msno').distinct().count()"
   ]
  },
  {
   "cell_type": "code",
   "execution_count": 124,
   "metadata": {},
   "outputs": [
    {
     "data": {
      "text/plain": [
       "1082190"
      ]
     },
     "execution_count": 124,
     "metadata": {},
     "output_type": "execute_result"
    }
   ],
   "source": [
    "train_df_merged.count()"
   ]
  },
  {
   "cell_type": "code",
   "execution_count": 20,
   "metadata": {},
   "outputs": [
    {
     "data": {
      "text/plain": [
       "0"
      ]
     },
     "execution_count": 20,
     "metadata": {},
     "output_type": "execute_result"
    }
   ],
   "source": [
    "test.filter(col('msno')==1).count()"
   ]
  },
  {
   "cell_type": "code",
   "execution_count": 6,
   "metadata": {},
   "outputs": [
    {
     "name": "stdout",
     "output_type": "stream",
     "text": [
      "929460 63471 6.39 %\n",
      "883630 87330 8.99 %\n",
      "947710 134480 13.85 %\n"
     ]
    }
   ],
   "source": [
    "print(train_df.filter(col('is_churn') == 0).count(), \n",
    "      train_df.filter(col('is_churn') == 1).count(), \n",
    "      round(train_df.filter(col('is_churn') == 1).count()/train_df.count()*100, 2), '%')\n",
    "print(train_df_v2.filter(col('is_churn') == 0).count(), \n",
    "      train_df_v2.filter(col('is_churn') == 1).count(), \n",
    "      round(train_df_v2.filter(col('is_churn') == 1).count()/train_df_v2.count()*100, 2), '%')\n",
    "print(train_df_merged.filter(col('is_churn') == 0).count(), \n",
    "      train_df_merged.filter(col('is_churn') == 1).count(), \n",
    "      round(train_df_merged.filter(col('is_churn') == 1).count()/train_df_v2.count()*100, 2), '%')"
   ]
  },
  {
   "cell_type": "code",
   "execution_count": 7,
   "metadata": {},
   "outputs": [],
   "source": [
    "train_df_merged_grouped = train_df_merged.groupBy('is_churn').count()"
   ]
  },
  {
   "cell_type": "code",
   "execution_count": 9,
   "metadata": {},
   "outputs": [
    {
     "name": "stdout",
     "output_type": "stream",
     "text": [
      "+--------+------+\n",
      "|is_churn| count|\n",
      "+--------+------+\n",
      "|       1|134480|\n",
      "|       0|947710|\n",
      "+--------+------+\n",
      "\n"
     ]
    }
   ],
   "source": [
    "train_df_merged_grouped.show()"
   ]
  },
  {
   "cell_type": "code",
   "execution_count": 22,
   "metadata": {},
   "outputs": [
    {
     "data": {
      "text/plain": [
       "array([1, 0])"
      ]
     },
     "execution_count": 22,
     "metadata": {},
     "output_type": "execute_result"
    }
   ],
   "source": [
    "np.array(train_df_merged_grouped.select('is_churn').collect()).reshape(-1)\n",
    "np.array(train_df_merged_grouped.select('count').collect()).reshape(-1)"
   ]
  },
  {
   "cell_type": "code",
   "execution_count": 27,
   "metadata": {},
   "outputs": [
    {
     "data": {
      "image/png": "[encoded data removed]",
      "text/plain": [
       "<Figure size 500x500 with 1 Axes>"
      ]
     },
     "metadata": {},
     "output_type": "display_data"
    }
   ],
   "source": [
    "plt.figure(figsize=(5,5))\n",
    "plt.bar(x=np.array(train_df_merged_grouped.select('is_churn').collect()).reshape(-1),\n",
    "        height=np.array(train_df_merged_grouped.select('count').collect()).reshape(-1))\n",
    "plt.xticks([0,1])\n",
    "plt.show()"
   ]
  },
  {
   "cell_type": "code",
   "execution_count": 45,
   "metadata": {},
   "outputs": [
    {
     "name": "stdout",
     "output_type": "stream",
     "text": [
      "0\n",
      "0\n",
      "0\n",
      "0\n"
     ]
    }
   ],
   "source": [
    "print(train_df.filter(col('msno').isNull()).count())\n",
    "print(train_df.filter(col('is_churn').isNull()).count())\n",
    "print(train_df_v2.filter(col('msno').isNull()).count())\n",
    "print(train_df_v2.filter(col('is_churn').isNull()).count())"
   ]
  },
  {
   "cell_type": "code",
   "execution_count": 48,
   "metadata": {},
   "outputs": [
    {
     "name": "stdout",
     "output_type": "stream",
     "text": [
      "992931\n",
      "970960\n"
     ]
    }
   ],
   "source": [
    "print(train_df.select('msno').distinct().count())\n",
    "print(train_df_v2.select('msno').distinct().count())"
   ]
  },
  {
   "attachments": {},
   "cell_type": "markdown",
   "metadata": {},
   "source": [
    "### members_df 살펴보기\n",
    "\n",
    "- members_df는 v2가 없고 v3만 있음\n",
    "- v3는 2017년 11월 13일에 업데이트가 진행되었으며, 다른 데이터의 경우 2017년 3월 31일까지의 데이터만 담고 있음"
   ]
  },
  {
   "cell_type": "code",
   "execution_count": 49,
   "metadata": {},
   "outputs": [
    {
     "data": {
      "text/plain": [
       "Row(msno='Rb9UwLQTrxzBVwCB6+bCcSQWZ9JiNLC9dXtM1oEsZA8=', city=1, bd=0, gender=None, registered_via=11, registration_init_time=20110911)"
      ]
     },
     "execution_count": 49,
     "metadata": {},
     "output_type": "execute_result"
    }
   ],
   "source": [
    "members_df_v3.head()"
   ]
  },
  {
   "cell_type": "code",
   "execution_count": 52,
   "metadata": {},
   "outputs": [
    {
     "name": "stdout",
     "output_type": "stream",
     "text": [
      "msno : 0\n",
      "city : 0\n",
      "bd : 0\n",
      "gender : 4429505\n",
      "registered_via : 0\n",
      "registration_init_time : 0\n"
     ]
    }
   ],
   "source": [
    "print('msno :', members_df_v3.filter(col('msno').isNull()).count())\n",
    "print('city :', members_df_v3.filter(col('city').isNull()).count())\n",
    "print('bd :',members_df_v3.filter(col('bd').isNull()).count())\n",
    "print('gender :',members_df_v3.filter(col('gender').isNull()).count())\n",
    "print('registered_via :',members_df_v3.filter(col('registered_via').isNull()).count())\n",
    "print('registration_init_time :',members_df_v3.filter(col('registration_init_time').isNull()).count())"
   ]
  },
  {
   "cell_type": "code",
   "execution_count": 54,
   "metadata": {},
   "outputs": [
    {
     "name": "stdout",
     "output_type": "stream",
     "text": [
      "bd == 0 : 4540215\n"
     ]
    }
   ],
   "source": [
    "print('bd == 0 :',members_df_v3.filter(col('bd')==0).count())"
   ]
  },
  {
   "cell_type": "code",
   "execution_count": 60,
   "metadata": {},
   "outputs": [
    {
     "name": "stdout",
     "output_type": "stream",
     "text": [
      "distinct city : [Row(city=1), Row(city=3), Row(city=4), Row(city=5), Row(city=6), Row(city=7), Row(city=8), Row(city=9), Row(city=10), Row(city=11), Row(city=12), Row(city=13), Row(city=14), Row(city=15), Row(city=16), Row(city=17), Row(city=18), Row(city=19), Row(city=20), Row(city=21), Row(city=22)]\n"
     ]
    }
   ],
   "source": [
    "print('distinct city :', members_df_v3.select('city').distinct().orderBy(col('city')).collect())"
   ]
  },
  {
   "cell_type": "code",
   "execution_count": 61,
   "metadata": {},
   "outputs": [
    {
     "name": "stdout",
     "output_type": "stream",
     "text": [
      "distinct registered_via : [Row(registered_via=-1), Row(registered_via=1), Row(registered_via=2), Row(registered_via=3), Row(registered_via=4), Row(registered_via=5), Row(registered_via=6), Row(registered_via=7), Row(registered_via=8), Row(registered_via=9), Row(registered_via=10), Row(registered_via=11), Row(registered_via=13), Row(registered_via=14), Row(registered_via=16), Row(registered_via=17), Row(registered_via=18), Row(registered_via=19)]\n"
     ]
    }
   ],
   "source": [
    "print('distinct registered_via :', members_df_v3.select('registered_via').distinct().orderBy(col('registered_via')).collect())"
   ]
  },
  {
   "cell_type": "code",
   "execution_count": 63,
   "metadata": {},
   "outputs": [
    {
     "name": "stdout",
     "output_type": "stream",
     "text": [
      "registered_via == -1 : 1\n"
     ]
    }
   ],
   "source": [
    "print('registered_via == -1 :', members_df_v3.filter(col('registered_via')==-1).count())"
   ]
  },
  {
   "cell_type": "code",
   "execution_count": 37,
   "metadata": {},
   "outputs": [],
   "source": [
    "members_df_v3_groupby_city = members_df_v3.groupBy(\"city\").count().select('*').orderBy('city')\n",
    "members_df_v3_groupby_bd = members_df_v3.groupBy(\"bd\").count().select('*').orderBy('bd')\n",
    "members_df_v3_groupby_registered_via = members_df_v3.groupBy(\"registered_via\").count().select('*').orderBy('registered_via')\n",
    "members_df_v3_groupby_registration_init_time = members_df_v3.groupBy(\"registration_init_time\").count().select('*').orderBy('registration_init_time')"
   ]
  },
  {
   "cell_type": "code",
   "execution_count": 49,
   "metadata": {},
   "outputs": [
    {
     "data": {
      "image/png": "[encoded data removed]",
      "text/plain": [
       "<Figure size 2000x500 with 4 Axes>"
      ]
     },
     "metadata": {},
     "output_type": "display_data"
    }
   ],
   "source": [
    "plt.figure(figsize=(20,5))\n",
    "plt.subplot(1,4,1)\n",
    "plt.bar(x=np.array(members_df_v3_groupby_city.select('city').collect()).reshape(-1),\n",
    "        height=np.array(members_df_v3_groupby_city.select('count').collect()).reshape(-1))\n",
    "plt.title(\"Count per City\")\n",
    "plt.subplot(1,4,2)\n",
    "plt.hist(x=np.array(members_df_v3.select('bd').collect()).reshape(-1))\n",
    "plt.title(\"Count per AGE\")\n",
    "plt.subplot(1,4,3)\n",
    "plt.bar(x=np.array(members_df_v3_groupby_registered_via.select('registered_via').collect()).reshape(-1),\n",
    "        height=np.array(members_df_v3_groupby_registered_via.select('count').collect()).reshape(-1))\n",
    "plt.title(\"Count per registered_via\")\n",
    "plt.subplot(1,4,4)\n",
    "plt.plot(np.array(members_df_v3_groupby_registration_init_time.select('registration_init_time').collect()).reshape(-1))\n",
    "plt.title(\"Count per registration_init_time\")\n",
    "plt.show()"
   ]
  },
  {
   "cell_type": "code",
   "execution_count": 73,
   "metadata": {},
   "outputs": [
    {
     "name": "stdout",
     "output_type": "stream",
     "text": [
      "+---------------------------+\n",
      "|min(registration_init_time)|\n",
      "+---------------------------+\n",
      "|                   20040326|\n",
      "+---------------------------+\n",
      "\n",
      "None\n",
      "+---------------------------+\n",
      "|max(registration_init_time)|\n",
      "+---------------------------+\n",
      "|                   20170429|\n",
      "+---------------------------+\n",
      "\n",
      "None\n"
     ]
    }
   ],
   "source": [
    "print(members_df_v3.select(min('registration_init_time')).show())\n",
    "print(members_df_v3.select(max('registration_init_time')).show())"
   ]
  },
  {
   "attachments": {},
   "cell_type": "markdown",
   "metadata": {},
   "source": [
    "### transaction_df 살펴보기"
   ]
  },
  {
   "cell_type": "code",
   "execution_count": 79,
   "metadata": {},
   "outputs": [
    {
     "name": "stdout",
     "output_type": "stream",
     "text": [
      "root\n",
      " |-- msno: string (nullable = true)\n",
      " |-- payment_method_id: integer (nullable = true)\n",
      " |-- payment_plan_days: integer (nullable = true)\n",
      " |-- plan_list_price: integer (nullable = true)\n",
      " |-- actual_amount_paid: integer (nullable = true)\n",
      " |-- is_auto_renew: integer (nullable = true)\n",
      " |-- transaction_date: integer (nullable = true)\n",
      " |-- membership_expire_date: integer (nullable = true)\n",
      " |-- is_cancel: integer (nullable = true)\n",
      "\n"
     ]
    }
   ],
   "source": [
    "transactions_df_merged.printSchema()"
   ]
  },
  {
   "cell_type": "code",
   "execution_count": 90,
   "metadata": {},
   "outputs": [
    {
     "data": {
      "text/plain": [
       "2426143"
      ]
     },
     "execution_count": 90,
     "metadata": {},
     "output_type": "execute_result"
    }
   ],
   "source": [
    "transactions_df_merged.select('msno').distinct().count()"
   ]
  },
  {
   "cell_type": "code",
   "execution_count": 111,
   "metadata": {},
   "outputs": [
    {
     "data": {
      "text/plain": [
       "Row(msno='YyO+tlZtAXYXoZhNr3Vg3+dfVQvrBVGO8j1mfqe4ZHc=', payment_method_id=41, payment_plan_days=30, plan_list_price=129, actual_amount_paid=129, is_auto_renew=1, transaction_date=20150930, membership_expire_date=20151101, is_cancel=0)"
      ]
     },
     "execution_count": 111,
     "metadata": {},
     "output_type": "execute_result"
    }
   ],
   "source": [
    "transactions_df_merged.head()"
   ]
  },
  {
   "cell_type": "code",
   "execution_count": 107,
   "metadata": {},
   "outputs": [
    {
     "name": "stdout",
     "output_type": "stream",
     "text": [
      "+--------------------+-----------------+-----------------+---------------+------------------+-------------+----------------+----------------------+---------+\n",
      "|                msno|payment_method_id|payment_plan_days|plan_list_price|actual_amount_paid|is_auto_renew|transaction_date|membership_expire_date|is_cancel|\n",
      "+--------------------+-----------------+-----------------+---------------+------------------+-------------+----------------+----------------------+---------+\n",
      "|hqWmt5OeZ3ab3MZdX...|               41|               30|            149|               149|            1|        20150101|              20171106|        0|\n",
      "|hqWmt5OeZ3ab3MZdX...|               41|               30|            149|               149|            1|        20150104|              20171207|        0|\n",
      "|hqWmt5OeZ3ab3MZdX...|               41|               30|            149|               119|            1|        20150123|              20180107|        0|\n",
      "|hqWmt5OeZ3ab3MZdX...|               41|               30|            149|               149|            1|        20150125|              20180207|        0|\n",
      "|hqWmt5OeZ3ab3MZdX...|               41|               30|            149|               149|            1|        20150201|              20180307|        0|\n",
      "|hqWmt5OeZ3ab3MZdX...|               41|               30|            149|               149|            1|        20150204|              20180404|        0|\n",
      "|hqWmt5OeZ3ab3MZdX...|               41|               30|            149|               119|            1|        20150223|              20180502|        0|\n",
      "|hqWmt5OeZ3ab3MZdX...|               41|               30|            149|               149|            1|        20150225|              20180530|        0|\n",
      "|hqWmt5OeZ3ab3MZdX...|               41|               30|            149|               149|            1|        20150301|              20180630|        0|\n",
      "|hqWmt5OeZ3ab3MZdX...|               41|               30|            149|               149|            1|        20150304|              20180731|        0|\n",
      "|hqWmt5OeZ3ab3MZdX...|               41|               30|            149|               119|            1|        20150323|              20180831|        0|\n",
      "|hqWmt5OeZ3ab3MZdX...|               41|               30|            149|               149|            1|        20150325|              20181001|        0|\n",
      "|hqWmt5OeZ3ab3MZdX...|               41|               30|            149|               149|            1|        20150401|              20181031|        0|\n",
      "|hqWmt5OeZ3ab3MZdX...|               41|               30|            149|               149|            1|        20150404|              20181130|        0|\n",
      "|hqWmt5OeZ3ab3MZdX...|               41|                0|              0|               119|            1|        20150423|              20181230|        0|\n",
      "|hqWmt5OeZ3ab3MZdX...|               41|                0|              0|               149|            1|        20150425|              20190129|        0|\n",
      "|hqWmt5OeZ3ab3MZdX...|               41|                0|              0|               149|            1|        20150501|              20190301|        0|\n",
      "|hqWmt5OeZ3ab3MZdX...|               41|                0|              0|               149|            1|        20150504|              20190401|        0|\n",
      "|hqWmt5OeZ3ab3MZdX...|               41|               30|            149|               119|            1|        20150523|              20190502|        0|\n",
      "|hqWmt5OeZ3ab3MZdX...|               41|               30|            149|               149|            1|        20150525|              20190602|        0|\n",
      "+--------------------+-----------------+-----------------+---------------+------------------+-------------+----------------+----------------------+---------+\n",
      "only showing top 20 rows\n",
      "\n"
     ]
    }
   ],
   "source": [
    "transactions_df_merged.filter(col('msno')=='hqWmt5OeZ3ab3MZdXmYlEdMtmsBkKH9/wuqzFYh26W8=').orderBy(col('transaction_date')).show()"
   ]
  },
  {
   "cell_type": "code",
   "execution_count": 110,
   "metadata": {},
   "outputs": [
    {
     "name": "stdout",
     "output_type": "stream",
     "text": [
      "+---------------------+\n",
      "|min(transaction_date)|\n",
      "+---------------------+\n",
      "|             20150101|\n",
      "+---------------------+\n",
      "\n",
      "+---------------------+\n",
      "|max(transaction_date)|\n",
      "+---------------------+\n",
      "|             20170228|\n",
      "+---------------------+\n",
      "\n",
      "+---------------------+\n",
      "|min(transaction_date)|\n",
      "+---------------------+\n",
      "|             20150101|\n",
      "+---------------------+\n",
      "\n",
      "+---------------------+\n",
      "|max(transaction_date)|\n",
      "+---------------------+\n",
      "|             20170331|\n",
      "+---------------------+\n",
      "\n",
      "None None None None\n"
     ]
    }
   ],
   "source": [
    "print(\n",
    "    transactions_df.select(min('transaction_date')).show(),\n",
    "    transactions_df.select(max('transaction_date')).show(),\n",
    "    transactions_df_v2.select(min('transaction_date')).show(),\n",
    "    transactions_df_v2.select(max('transaction_date')).show()\n",
    ")"
   ]
  },
  {
   "cell_type": "code",
   "execution_count": 115,
   "metadata": {},
   "outputs": [
    {
     "name": "stdout",
     "output_type": "stream",
     "text": [
      "+--------------------+-----------------+-----------------+---------------+------------------+-------------+----------------+----------------------+---------+\n",
      "|                msno|payment_method_id|payment_plan_days|plan_list_price|actual_amount_paid|is_auto_renew|transaction_date|membership_expire_date|is_cancel|\n",
      "+--------------------+-----------------+-----------------+---------------+------------------+-------------+----------------+----------------------+---------+\n",
      "|hqWmt5OeZ3ab3MZdX...|               41|               30|            149|               149|            1|        20151223|              20160123|        0|\n",
      "|hqWmt5OeZ3ab3MZdX...|               41|               30|            149|               149|            1|        20151224|              20130602|        1|\n",
      "|hqWmt5OeZ3ab3MZdX...|               41|               30|            149|               149|            1|        20151224|              20131226|        1|\n",
      "|hqWmt5OeZ3ab3MZdX...|               41|               30|            149|               149|            1|        20151224|              20141224|        1|\n",
      "|hqWmt5OeZ3ab3MZdX...|               41|               30|            149|               149|            1|        20160123|              20160223|        0|\n",
      "|hqWmt5OeZ3ab3MZdX...|               41|               30|            149|               149|            1|        20160223|              20160323|        0|\n",
      "|hqWmt5OeZ3ab3MZdX...|               41|               30|            149|               149|            1|        20160323|              20160423|        0|\n",
      "|hqWmt5OeZ3ab3MZdX...|               41|               30|            149|               149|            1|        20160423|              20160523|        0|\n",
      "|hqWmt5OeZ3ab3MZdX...|               41|               30|            149|               149|            1|        20160523|              20160623|        0|\n",
      "|hqWmt5OeZ3ab3MZdX...|               41|               30|            149|               149|            1|        20160623|              20160723|        0|\n",
      "|hqWmt5OeZ3ab3MZdX...|               41|               30|            149|               149|            1|        20160723|              20160823|        0|\n",
      "|hqWmt5OeZ3ab3MZdX...|               41|               30|            149|               149|            1|        20160823|              20160923|        0|\n",
      "|hqWmt5OeZ3ab3MZdX...|               41|               30|            149|               149|            1|        20160923|              20161023|        0|\n",
      "|hqWmt5OeZ3ab3MZdX...|               41|               30|            149|               149|            1|        20161008|              20161008|        1|\n",
      "|hqWmt5OeZ3ab3MZdX...|               38|                7|              0|                 0|            0|        20170105|              20170112|        0|\n",
      "+--------------------+-----------------+-----------------+---------------+------------------+-------------+----------------+----------------------+---------+\n",
      "\n",
      "+--------------------+-----------------+-----------------+---------------+------------------+-------------+----------------+----------------------+---------+\n",
      "|                msno|payment_method_id|payment_plan_days|plan_list_price|actual_amount_paid|is_auto_renew|transaction_date|membership_expire_date|is_cancel|\n",
      "+--------------------+-----------------+-----------------+---------------+------------------+-------------+----------------+----------------------+---------+\n",
      "|hqWmt5OeZ3ab3MZdX...|               41|               30|            149|               149|            1|        20150101|              20171106|        0|\n",
      "|hqWmt5OeZ3ab3MZdX...|               41|               30|            149|               149|            1|        20150104|              20171207|        0|\n",
      "|hqWmt5OeZ3ab3MZdX...|               41|               30|            149|               119|            1|        20150123|              20180107|        0|\n",
      "|hqWmt5OeZ3ab3MZdX...|               41|               30|            149|               149|            1|        20150125|              20180207|        0|\n",
      "|hqWmt5OeZ3ab3MZdX...|               41|               30|            149|               149|            1|        20150201|              20180307|        0|\n",
      "|hqWmt5OeZ3ab3MZdX...|               41|               30|            149|               149|            1|        20150204|              20180404|        0|\n",
      "|hqWmt5OeZ3ab3MZdX...|               41|               30|            149|               119|            1|        20150223|              20180502|        0|\n",
      "|hqWmt5OeZ3ab3MZdX...|               41|               30|            149|               149|            1|        20150225|              20180530|        0|\n",
      "|hqWmt5OeZ3ab3MZdX...|               41|               30|            149|               149|            1|        20150301|              20180630|        0|\n",
      "|hqWmt5OeZ3ab3MZdX...|               41|               30|            149|               149|            1|        20150304|              20180731|        0|\n",
      "|hqWmt5OeZ3ab3MZdX...|               41|               30|            149|               119|            1|        20150323|              20180831|        0|\n",
      "|hqWmt5OeZ3ab3MZdX...|               41|               30|            149|               149|            1|        20150325|              20181001|        0|\n",
      "|hqWmt5OeZ3ab3MZdX...|               41|               30|            149|               149|            1|        20150401|              20181031|        0|\n",
      "|hqWmt5OeZ3ab3MZdX...|               41|               30|            149|               149|            1|        20150404|              20181130|        0|\n",
      "|hqWmt5OeZ3ab3MZdX...|               41|                0|              0|               119|            1|        20150423|              20181230|        0|\n",
      "|hqWmt5OeZ3ab3MZdX...|               41|                0|              0|               149|            1|        20150425|              20190129|        0|\n",
      "|hqWmt5OeZ3ab3MZdX...|               41|                0|              0|               149|            1|        20150501|              20190301|        0|\n",
      "|hqWmt5OeZ3ab3MZdX...|               41|                0|              0|               149|            1|        20150504|              20190401|        0|\n",
      "|hqWmt5OeZ3ab3MZdX...|               41|               30|            149|               119|            1|        20150523|              20190502|        0|\n",
      "|hqWmt5OeZ3ab3MZdX...|               41|               30|            149|               149|            1|        20150525|              20190602|        0|\n",
      "+--------------------+-----------------+-----------------+---------------+------------------+-------------+----------------+----------------------+---------+\n",
      "only showing top 20 rows\n",
      "\n",
      "None None\n"
     ]
    }
   ],
   "source": [
    "print(\n",
    "    transactions_df.filter(col('msno')=='hqWmt5OeZ3ab3MZdXmYlEdMtmsBkKH9/wuqzFYh26W8=').orderBy(col('transaction_date')).show(),\n",
    "    transactions_df_v2.filter(col('msno')=='hqWmt5OeZ3ab3MZdXmYlEdMtmsBkKH9/wuqzFYh26W8=').orderBy(col('transaction_date')).show()\n",
    "    )"
   ]
  },
  {
   "cell_type": "code",
   "execution_count": 119,
   "metadata": {},
   "outputs": [
    {
     "name": "stdout",
     "output_type": "stream",
     "text": [
      "payment_method_id :  [Row(payment_method_id=1), Row(payment_method_id=2), Row(payment_method_id=3), Row(payment_method_id=4), Row(payment_method_id=5), Row(payment_method_id=6), Row(payment_method_id=7), Row(payment_method_id=8), Row(payment_method_id=10), Row(payment_method_id=11), Row(payment_method_id=12), Row(payment_method_id=13), Row(payment_method_id=14), Row(payment_method_id=15), Row(payment_method_id=16), Row(payment_method_id=17), Row(payment_method_id=18), Row(payment_method_id=19), Row(payment_method_id=20), Row(payment_method_id=21), Row(payment_method_id=22), Row(payment_method_id=23), Row(payment_method_id=24), Row(payment_method_id=25), Row(payment_method_id=26), Row(payment_method_id=27), Row(payment_method_id=28), Row(payment_method_id=29), Row(payment_method_id=30), Row(payment_method_id=31), Row(payment_method_id=32), Row(payment_method_id=33), Row(payment_method_id=34), Row(payment_method_id=35), Row(payment_method_id=36), Row(payment_method_id=37), Row(payment_method_id=38), Row(payment_method_id=39), Row(payment_method_id=40), Row(payment_method_id=41)] \n",
      " payment_plan_days :  [Row(payment_plan_days=0), Row(payment_plan_days=1), Row(payment_plan_days=2), Row(payment_plan_days=3), Row(payment_plan_days=7), Row(payment_plan_days=10), Row(payment_plan_days=14), Row(payment_plan_days=15), Row(payment_plan_days=21), Row(payment_plan_days=30), Row(payment_plan_days=31), Row(payment_plan_days=35), Row(payment_plan_days=45), Row(payment_plan_days=60), Row(payment_plan_days=66), Row(payment_plan_days=70), Row(payment_plan_days=80), Row(payment_plan_days=90), Row(payment_plan_days=95), Row(payment_plan_days=99), Row(payment_plan_days=100), Row(payment_plan_days=110), Row(payment_plan_days=120), Row(payment_plan_days=180), Row(payment_plan_days=195), Row(payment_plan_days=200), Row(payment_plan_days=230), Row(payment_plan_days=240), Row(payment_plan_days=270), Row(payment_plan_days=360), Row(payment_plan_days=365), Row(payment_plan_days=395), Row(payment_plan_days=400), Row(payment_plan_days=410), Row(payment_plan_days=415), Row(payment_plan_days=425), Row(payment_plan_days=450)] \n",
      " plan_list_price :  [Row(plan_list_price=0), Row(plan_list_price=1), Row(plan_list_price=10), Row(plan_list_price=15), Row(plan_list_price=30), Row(plan_list_price=35), Row(plan_list_price=44), Row(plan_list_price=50), Row(plan_list_price=70), Row(plan_list_price=99), Row(plan_list_price=100), Row(plan_list_price=105), Row(plan_list_price=119), Row(plan_list_price=120), Row(plan_list_price=124), Row(plan_list_price=126), Row(plan_list_price=129), Row(plan_list_price=131), Row(plan_list_price=134), Row(plan_list_price=143), Row(plan_list_price=149), Row(plan_list_price=150), Row(plan_list_price=180), Row(plan_list_price=210), Row(plan_list_price=265), Row(plan_list_price=298), Row(plan_list_price=300), Row(plan_list_price=350), Row(plan_list_price=400), Row(plan_list_price=447), Row(plan_list_price=450), Row(plan_list_price=477), Row(plan_list_price=480), Row(plan_list_price=500), Row(plan_list_price=536), Row(plan_list_price=596), Row(plan_list_price=600), Row(plan_list_price=699), Row(plan_list_price=760), Row(plan_list_price=799), Row(plan_list_price=800), Row(plan_list_price=894), Row(plan_list_price=930), Row(plan_list_price=1000), Row(plan_list_price=1150), Row(plan_list_price=1200), Row(plan_list_price=1260), Row(plan_list_price=1299), Row(plan_list_price=1300), Row(plan_list_price=1399), Row(plan_list_price=1520), Row(plan_list_price=1599), Row(plan_list_price=1788), Row(plan_list_price=1825), Row(plan_list_price=2000)] \n",
      " actual_amount_paid :  [Row(actual_amount_paid=0), Row(actual_amount_paid=1), Row(actual_amount_paid=10), Row(actual_amount_paid=15), Row(actual_amount_paid=30), Row(actual_amount_paid=35), Row(actual_amount_paid=41), Row(actual_amount_paid=45), Row(actual_amount_paid=50), Row(actual_amount_paid=70), Row(actual_amount_paid=99), Row(actual_amount_paid=100), Row(actual_amount_paid=105), Row(actual_amount_paid=119), Row(actual_amount_paid=120), Row(actual_amount_paid=124), Row(actual_amount_paid=127), Row(actual_amount_paid=129), Row(actual_amount_paid=131), Row(actual_amount_paid=134), Row(actual_amount_paid=143), Row(actual_amount_paid=149), Row(actual_amount_paid=150), Row(actual_amount_paid=180), Row(actual_amount_paid=210), Row(actual_amount_paid=265), Row(actual_amount_paid=298), Row(actual_amount_paid=300), Row(actual_amount_paid=350), Row(actual_amount_paid=400), Row(actual_amount_paid=447), Row(actual_amount_paid=450), Row(actual_amount_paid=477), Row(actual_amount_paid=480), Row(actual_amount_paid=500), Row(actual_amount_paid=536), Row(actual_amount_paid=596), Row(actual_amount_paid=600), Row(actual_amount_paid=699), Row(actual_amount_paid=760), Row(actual_amount_paid=799), Row(actual_amount_paid=800), Row(actual_amount_paid=849), Row(actual_amount_paid=890), Row(actual_amount_paid=894), Row(actual_amount_paid=897), Row(actual_amount_paid=930), Row(actual_amount_paid=984), Row(actual_amount_paid=1000), Row(actual_amount_paid=1150), Row(actual_amount_paid=1200), Row(actual_amount_paid=1260), Row(actual_amount_paid=1299), Row(actual_amount_paid=1300), Row(actual_amount_paid=1399), Row(actual_amount_paid=1520), Row(actual_amount_paid=1599), Row(actual_amount_paid=1778), Row(actual_amount_paid=1780), Row(actual_amount_paid=1788), Row(actual_amount_paid=1799), Row(actual_amount_paid=1800), Row(actual_amount_paid=1802), Row(actual_amount_paid=1825), Row(actual_amount_paid=2000)] \n",
      " is_auto_renew :  [Row(is_auto_renew=0), Row(is_auto_renew=1)]\n"
     ]
    }
   ],
   "source": [
    "print(\n",
    "    'payment_method_id : ', transactions_df_merged.select('payment_method_id').distinct().orderBy('payment_method_id').collect(), '\\n',\n",
    "    'payment_plan_days : ', transactions_df_merged.select('payment_plan_days').distinct().orderBy('payment_plan_days').collect(), '\\n',\n",
    "    'plan_list_price : ', transactions_df_merged.select('plan_list_price').distinct().orderBy('plan_list_price').collect(), '\\n',\n",
    "    'actual_amount_paid : ', transactions_df_merged.select('actual_amount_paid').distinct().orderBy('actual_amount_paid').collect(), '\\n',\n",
    "    'is_auto_renew : ', transactions_df_merged.select('is_auto_renew').distinct().orderBy('is_auto_renew').collect()\n",
    ")"
   ]
  },
  {
   "attachments": {},
   "cell_type": "markdown",
   "metadata": {},
   "source": [
    "### user_log 데이터 살펴보기"
   ]
  },
  {
   "cell_type": "code",
   "execution_count": 120,
   "metadata": {},
   "outputs": [
    {
     "data": {
      "text/plain": [
       "Row(msno='rxIP2f2aN0rYNp+toI0Obt/N/FYQX8hcO1fTmmy2h34=', date=20150513, num_25=0, num_50=0, num_75=0, num_985=0, num_100=1, num_unq=1, total_secs=280.335)"
      ]
     },
     "execution_count": 120,
     "metadata": {},
     "output_type": "execute_result"
    }
   ],
   "source": [
    "user_logs_df.head()"
   ]
  },
  {
   "cell_type": "code",
   "execution_count": 22,
   "metadata": {},
   "outputs": [],
   "source": [
    "user_logs_df_merged = user_logs_df.union(user_logs_df_v2)"
   ]
  },
  {
   "cell_type": "code",
   "execution_count": 127,
   "metadata": {},
   "outputs": [
    {
     "name": "stdout",
     "output_type": "stream",
     "text": [
      "+---------+\n",
      "|min(date)|\n",
      "+---------+\n",
      "| 20150101|\n",
      "+---------+\n",
      "\n"
     ]
    }
   ],
   "source": [
    "user_logs_df_merged.select(min('date')).show()"
   ]
  },
  {
   "cell_type": "code",
   "execution_count": 129,
   "metadata": {},
   "outputs": [
    {
     "name": "stdout",
     "output_type": "stream",
     "text": [
      "msno :  0 \n",
      " date :  0 \n",
      " num_25 :  0 \n",
      " num_50 :  0 \n",
      " num_75 :  0 \n",
      " num_985 :  0 \n",
      " num_100 :  0 \n",
      " num_unq :  0 \n",
      " total_secs :  0\n"
     ]
    }
   ],
   "source": [
    "print(\n",
    "    'msno : ', user_logs_df_merged.filter(col('msno').isNull()).count(), '\\n',\n",
    "    'date : ', user_logs_df_merged.filter(col('date').isNull()).count(),'\\n',\n",
    "    'num_25 : ', user_logs_df_merged.filter(col('num_25').isNull()).count(),'\\n',\n",
    "    'num_50 : ', user_logs_df_merged.filter(col('num_50').isNull()).count(),'\\n',\n",
    "    'num_75 : ', user_logs_df_merged.filter(col('num_75').isNull()).count(),'\\n',\n",
    "    'num_985 : ', user_logs_df_merged.filter(col('num_985').isNull()).count(),'\\n',\n",
    "    'num_100 : ', user_logs_df_merged.filter(col('num_100').isNull()).count(),'\\n',\n",
    "    'num_unq : ', user_logs_df_merged.filter(col('num_unq').isNull()).count(),'\\n',\n",
    "    'total_secs : ', user_logs_df_merged.filter(col('total_secs').isNull()).count()\n",
    ")\n"
   ]
  },
  {
   "cell_type": "code",
   "execution_count": 71,
   "metadata": {},
   "outputs": [
    {
     "data": {
      "text/plain": [
       "Index(['msno', 'payment_method_id', 'payment_plan_days', 'plan_list_price',\n",
       "       'actual_amount_paid', 'is_auto_renew', 'transaction_date',\n",
       "       'membership_expire_date', 'is_cancel'],\n",
       "      dtype='object')"
      ]
     },
     "execution_count": 71,
     "metadata": {},
     "output_type": "execute_result"
    }
   ],
   "source": [
    "transactions_df_merged.columns"
   ]
  },
  {
   "cell_type": "code",
   "execution_count": 73,
   "metadata": {},
   "outputs": [],
   "source": [
    "active_count =  user_logs_df_merged.groupBy(\"msno\")[['num_25']].agg('count').rename(columns={'num_25' : 'active_days'}).reset_index()\n",
    "paid_user = transactions_df_merged.groupBy(\"msno\")[['is_cancel']].agg('count').rename(columns={'is_cancel' : 'transaction_count'}).reset_index()"
   ]
  },
  {
   "cell_type": "code",
   "execution_count": 36,
   "metadata": {},
   "outputs": [
    {
     "data": {
      "text/plain": [
       "2426143"
      ]
     },
     "execution_count": 36,
     "metadata": {},
     "output_type": "execute_result"
    }
   ],
   "source": [
    "len(transactions_df_merged.select('msno').distinct())"
   ]
  },
  {
   "cell_type": "code",
   "execution_count": 74,
   "metadata": {},
   "outputs": [
    {
     "data": {
      "text/plain": [
       "(5339422, 2426143)"
      ]
     },
     "execution_count": 74,
     "metadata": {},
     "output_type": "execute_result"
    }
   ],
   "source": [
    "len(active_count), len(paid_user)"
   ]
  },
  {
   "cell_type": "code",
   "execution_count": 59,
   "metadata": {},
   "outputs": [
    {
     "data": {
      "text/plain": [
       "6769473"
      ]
     },
     "execution_count": 59,
     "metadata": {},
     "output_type": "execute_result"
    }
   ],
   "source": [
    "len(members_df_v3)"
   ]
  },
  {
   "cell_type": "code",
   "execution_count": null,
   "metadata": {},
   "outputs": [],
   "source": [
    "len(members_df_v3)"
   ]
  },
  {
   "cell_type": "code",
   "execution_count": 62,
   "metadata": {},
   "outputs": [
    {
     "data": {
      "text/html": [
       "<div>\n",
       "<style scoped>\n",
       "    .dataframe tbody tr th:only-of-type {\n",
       "        vertical-align: middle;\n",
       "    }\n",
       "\n",
       "    .dataframe tbody tr th {\n",
       "        vertical-align: top;\n",
       "    }\n",
       "\n",
       "    .dataframe thead th {\n",
       "        text-align: right;\n",
       "    }\n",
       "</style>\n",
       "<table border=\"1\" class=\"dataframe\">\n",
       "  <thead>\n",
       "    <tr style=\"text-align: right;\">\n",
       "      <th></th>\n",
       "      <th>msno</th>\n",
       "      <th>active_days</th>\n",
       "    </tr>\n",
       "  </thead>\n",
       "  <tbody>\n",
       "    <tr>\n",
       "      <th>0</th>\n",
       "      <td>rxIP2f2aN0rYNp+toI0Obt/N/FYQX8hcO1fTmmy2h34=</td>\n",
       "      <td>142</td>\n",
       "    </tr>\n",
       "    <tr>\n",
       "      <th>1</th>\n",
       "      <td>yxiEWwE9VR5utpUecLxVdQ5B7NysUPfrNtGINaM2zA8=</td>\n",
       "      <td>680</td>\n",
       "    </tr>\n",
       "    <tr>\n",
       "      <th>2</th>\n",
       "      <td>PNxIsSLWOJDCm7pNPFzRO/6Mmg2WeZA2nf6hw6t1x3g=</td>\n",
       "      <td>119</td>\n",
       "    </tr>\n",
       "    <tr>\n",
       "      <th>3</th>\n",
       "      <td>KXF9c/T66LZIzFq+xS64icWMhDQE6miCZAtdXRjZHX8=</td>\n",
       "      <td>198</td>\n",
       "    </tr>\n",
       "    <tr>\n",
       "      <th>4</th>\n",
       "      <td>oy2721XIrBu+MEh8XjPTlt5b7gCronoHf/oFN+YwIv8=</td>\n",
       "      <td>502</td>\n",
       "    </tr>\n",
       "    <tr>\n",
       "      <th>5</th>\n",
       "      <td>zD6AnHn/qhjoROJjnwmKUsKJ1Xj4nZ3fJzVShr+LISo=</td>\n",
       "      <td>742</td>\n",
       "    </tr>\n",
       "    <tr>\n",
       "      <th>6</th>\n",
       "      <td>OcZ3fKQzHrL1BuzuFRzUiwPr8l9P8JKCFpafdYf5sCY=</td>\n",
       "      <td>646</td>\n",
       "    </tr>\n",
       "    <tr>\n",
       "      <th>7</th>\n",
       "      <td>FnqNUBvN8mysLeKba1tBkGZDLM1DhvC5iloOKM1wiuQ=</td>\n",
       "      <td>575</td>\n",
       "    </tr>\n",
       "    <tr>\n",
       "      <th>8</th>\n",
       "      <td>dW5DQO92XaG024D2QYmktyUnLc2axil74zUPAhF8sEs=</td>\n",
       "      <td>612</td>\n",
       "    </tr>\n",
       "    <tr>\n",
       "      <th>9</th>\n",
       "      <td>6QoLmaBbt/q8hVY7VBT72CurH3dTd6TT/7rK3qfwxqg=</td>\n",
       "      <td>213</td>\n",
       "    </tr>\n",
       "  </tbody>\n",
       "</table>\n",
       "</div>"
      ],
      "text/plain": [
       "                                           msno  active_days\n",
       "0  rxIP2f2aN0rYNp+toI0Obt/N/FYQX8hcO1fTmmy2h34=          142\n",
       "1  yxiEWwE9VR5utpUecLxVdQ5B7NysUPfrNtGINaM2zA8=          680\n",
       "2  PNxIsSLWOJDCm7pNPFzRO/6Mmg2WeZA2nf6hw6t1x3g=          119\n",
       "3  KXF9c/T66LZIzFq+xS64icWMhDQE6miCZAtdXRjZHX8=          198\n",
       "4  oy2721XIrBu+MEh8XjPTlt5b7gCronoHf/oFN+YwIv8=          502\n",
       "5  zD6AnHn/qhjoROJjnwmKUsKJ1Xj4nZ3fJzVShr+LISo=          742\n",
       "6  OcZ3fKQzHrL1BuzuFRzUiwPr8l9P8JKCFpafdYf5sCY=          646\n",
       "7  FnqNUBvN8mysLeKba1tBkGZDLM1DhvC5iloOKM1wiuQ=          575\n",
       "8  dW5DQO92XaG024D2QYmktyUnLc2axil74zUPAhF8sEs=          612\n",
       "9  6QoLmaBbt/q8hVY7VBT72CurH3dTd6TT/7rK3qfwxqg=          213"
      ]
     },
     "execution_count": 62,
     "metadata": {},
     "output_type": "execute_result"
    }
   ],
   "source": [
    "active_count.head(10)"
   ]
  },
  {
   "cell_type": "code",
   "execution_count": 16,
   "metadata": {},
   "outputs": [
    {
     "name": "stdout",
     "output_type": "stream",
     "text": [
      "+--------------------+-----------------+-----------------+---------------+------------------+-------------+----------------+----------------------+---------+\n",
      "|                msno|payment_method_id|payment_plan_days|plan_list_price|actual_amount_paid|is_auto_renew|transaction_date|membership_expire_date|is_cancel|\n",
      "+--------------------+-----------------+-----------------+---------------+------------------+-------------+----------------+----------------------+---------+\n",
      "|ORUaiH4z66kfVaKGv...|               41|               30|             99|                99|            1|        20170322|              20170422|        0|\n",
      "+--------------------+-----------------+-----------------+---------------+------------------+-------------+----------------+----------------------+---------+\n",
      "\n"
     ]
    }
   ],
   "source": [
    "transactions_df_v2.filter(col('msno') == 'ORUaiH4z66kfVaKGvnC4qukcfhCLY9X9Y2LWcLncvYo=').show()"
   ]
  },
  {
   "attachments": {},
   "cell_type": "markdown",
   "metadata": {},
   "source": [
    "## 데이터 병합"
   ]
  },
  {
   "cell_type": "code",
   "execution_count": 56,
   "metadata": {},
   "outputs": [],
   "source": [
    "transaction_grouped = transactions_df_merged.groupBy('msno').count()\n",
    "logs_grouped = user_logs_df_merged.groupBy('msno').count()"
   ]
  },
  {
   "cell_type": "code",
   "execution_count": 57,
   "metadata": {},
   "outputs": [],
   "source": [
    "train_memeber = train_df_merged.join(members_df_v3, on='msno', how='left')\n",
    "train_transaction = train_df_merged.join(transaction_grouped, on='msno', how='left')\n",
    "train_log = train_df_merged.join(logs_grouped, on='msno', how='left')"
   ]
  },
  {
   "cell_type": "code",
   "execution_count": 58,
   "metadata": {},
   "outputs": [
    {
     "name": "stdout",
     "output_type": "stream",
     "text": [
      "961431 120759\n",
      "1082190 0\n",
      "955159 127031\n"
     ]
    }
   ],
   "source": [
    "print(train_memeber.filter(col('city').isNotNull()).count(), train_memeber.filter(col('city').isNull()).count())\n",
    "print(train_transaction.filter(col('count').isNotNull()).count(), train_transaction.filter(col('count').isNull()).count())\n",
    "print(train_log.filter(col('count').isNotNull()).count(), train_log.filter(col('count').isNull()).count())"
   ]
  },
  {
   "cell_type": "code",
   "execution_count": null,
   "metadata": {},
   "outputs": [],
   "source": [
    "df_target = train_df_merged.join(members_df_v3, on='msno', how='inner').join(transaction_grouped, on='msno', how='inner').join(logs_grouped, on='msno', how='inner')"
   ]
  },
  {
   "cell_type": "code",
   "execution_count": 62,
   "metadata": {},
   "outputs": [],
   "source": [
    "df_target = train_df_merged.join(members_df_v3, on='msno', how='left').join(transaction_grouped, on='msno', how='left').join(logs_grouped, on='msno', how='left')"
   ]
  },
  {
   "cell_type": "code",
   "execution_count": 64,
   "metadata": {},
   "outputs": [
    {
     "data": {
      "text/plain": [
       "1082190"
      ]
     },
     "execution_count": 64,
     "metadata": {},
     "output_type": "execute_result"
    }
   ],
   "source": [
    "df_target.count()"
   ]
  },
  {
   "cell_type": "code",
   "execution_count": 6,
   "metadata": {},
   "outputs": [],
   "source": [
    "transactions_df_merged = transactions_df_merged.withColumn('prev_expire_date', lag('membership_expire_date').over(Window.partitionBy('msno').orderBy('transaction_date','membership_expire_date')))"
   ]
  },
  {
   "cell_type": "code",
   "execution_count": 7,
   "metadata": {},
   "outputs": [],
   "source": [
    "transactions_df_merged = transactions_df_merged.withColumn('periods', when(transactions_df_merged.is_cancel == 0, datediff(transactions_df_merged['membership_expire_date'], transactions_df_merged['transaction_date']))\n",
    "                                             .otherwise(datediff(transactions_df_merged['membership_expire_date'], transactions_df_merged['prev_expire_date']))\n",
    "                                )"
   ]
  },
  {
   "cell_type": "code",
   "execution_count": 8,
   "metadata": {},
   "outputs": [],
   "source": [
    "transaction_total_periods_per_user = transactions_df_merged.groupBy(\"msno\").agg(sum('periods').alias('total_periods'))"
   ]
  },
  {
   "cell_type": "code",
   "execution_count": 15,
   "metadata": {},
   "outputs": [],
   "source": [
    "logs_grouped = user_logs_df_merged.groupBy('msno').count()\n",
    "logs_grouped = logs_grouped.join(transaction_total_periods_per_user, on='msno', how='left')\n",
    "logs_grouped = logs_grouped.withColumn('active_per_periods', col('count') / col('total_periods'))"
   ]
  },
  {
   "cell_type": "code",
   "execution_count": 17,
   "metadata": {},
   "outputs": [],
   "source": [
    "df_target = train_df_merged.join(members_df_v3, on='msno', how='inner').join(logs_grouped, on='msno', how='inner')"
   ]
  },
  {
   "cell_type": "code",
   "execution_count": 24,
   "metadata": {},
   "outputs": [
    {
     "data": {
      "text/plain": [
       "['msno', 'total_periods']"
      ]
     },
     "execution_count": 24,
     "metadata": {},
     "output_type": "execute_result"
    }
   ],
   "source": [
    "transaction_total_periods_per_user.columns"
   ]
  },
  {
   "cell_type": "code",
   "execution_count": 19,
   "metadata": {},
   "outputs": [],
   "source": [
    "df_target = df_target.drop('msno')"
   ]
  },
  {
   "cell_type": "code",
   "execution_count": 20,
   "metadata": {},
   "outputs": [
    {
     "data": {
      "text/plain": [
       "['is_churn',\n",
       " 'city',\n",
       " 'bd',\n",
       " 'gender',\n",
       " 'registered_via',\n",
       " 'registration_init_time',\n",
       " 'count',\n",
       " 'total_periods',\n",
       " 'active_per_periods']"
      ]
     },
     "execution_count": 20,
     "metadata": {},
     "output_type": "execute_result"
    }
   ],
   "source": [
    "df_target.columns"
   ]
  },
  {
   "cell_type": "code",
   "execution_count": 21,
   "metadata": {},
   "outputs": [],
   "source": [
    "df_target.toPandas().to_csv('D:/kkbox-churn-prediction-challenge/data/churn_comp_refresh/df_target2.csv')"
   ]
  },
  {
   "cell_type": "code",
   "execution_count": 23,
   "metadata": {},
   "outputs": [
    {
     "data": {
      "text/plain": [
       "955126"
      ]
     },
     "execution_count": 23,
     "metadata": {},
     "output_type": "execute_result"
    }
   ],
   "source": [
    "df_target.count()"
   ]
  },
  {
   "cell_type": "code",
   "execution_count": 26,
   "metadata": {},
   "outputs": [],
   "source": [
    "df20230408 = pd.read_csv('D:/kkbox-churn-prediction-challenge/data/churn_comp_refresh/df_target3.csv')"
   ]
  },
  {
   "cell_type": "code",
   "execution_count": 38,
   "metadata": {},
   "outputs": [
    {
     "data": {
      "text/plain": [
       "<AxesSubplot: xlabel='active_per_periods', ylabel='Density'>"
      ]
     },
     "execution_count": 38,
     "metadata": {},
     "output_type": "execute_result"
    },
    {
     "data": {
      "image/png": "[encoded data removed]",
      "text/plain": [
       "<Figure size 640x480 with 1 Axes>"
      ]
     },
     "metadata": {},
     "output_type": "display_data"
    }
   ],
   "source": [
    "sns.kdeplot(data=df20230408, x='active_per_periods', hue='is_churn')"
   ]
  },
  {
   "cell_type": "code",
   "execution_count": 27,
   "metadata": {},
   "outputs": [
    {
     "name": "stdout",
     "output_type": "stream",
     "text": [
      "root\n",
      " |-- msno_num: integer (nullable = true)\n",
      " |-- payment_method_id: integer (nullable = true)\n",
      " |-- payment_plan_days: integer (nullable = true)\n",
      " |-- plan_list_price: integer (nullable = true)\n",
      " |-- actual_amount_paid: integer (nullable = true)\n",
      " |-- is_auto_renew: integer (nullable = true)\n",
      " |-- transaction_date: integer (nullable = true)\n",
      " |-- membership_expire_date: integer (nullable = true)\n",
      " |-- is_cancel: integer (nullable = true)\n",
      "\n"
     ]
    }
   ],
   "source": [
    "transactions_df.printSchema()"
   ]
  },
  {
   "cell_type": "code",
   "execution_count": 4,
   "metadata": {},
   "outputs": [],
   "source": [
    "transactions_df_grouped = transactions_df.groupBy('msno_num').count()\n",
    "userlog_df_grouped = userlog_df.groupBy('msno_num').count()"
   ]
  },
  {
   "cell_type": "code",
   "execution_count": 5,
   "metadata": {},
   "outputs": [
    {
     "data": {
      "text/plain": [
       "5339422"
      ]
     },
     "execution_count": 5,
     "metadata": {},
     "output_type": "execute_result"
    }
   ],
   "source": [
    "userlog_df_grouped.count()"
   ]
  },
  {
   "cell_type": "code",
   "execution_count": 5,
   "metadata": {},
   "outputs": [],
   "source": [
    "train_member = train_df.join(members_df, on='msno_num', how='inner')"
   ]
  },
  {
   "cell_type": "code",
   "execution_count": 6,
   "metadata": {},
   "outputs": [],
   "source": [
    "train_member_transaction = train_member.join(transactions_df_grouped, on='msno_num', how='inner')\n",
    "train_memeber_log = train_member.join(userlog_df_grouped, on='msno_num', how='inner')"
   ]
  },
  {
   "cell_type": "code",
   "execution_count": 7,
   "metadata": {},
   "outputs": [],
   "source": [
    "train_member_transaction_log = train_member_transaction.join(train_memeber_log, on='msno_num', how='inner')"
   ]
  },
  {
   "cell_type": "code",
   "execution_count": 8,
   "metadata": {},
   "outputs": [],
   "source": [
    "target_id = train_member_transaction_log.select('msno_num')"
   ]
  },
  {
   "cell_type": "code",
   "execution_count": 9,
   "metadata": {},
   "outputs": [],
   "source": [
    "sample = target_id.sample(0.005)"
   ]
  },
  {
   "cell_type": "code",
   "execution_count": 10,
   "metadata": {},
   "outputs": [],
   "source": [
    "pd_sample = sample.toPandas()"
   ]
  },
  {
   "cell_type": "code",
   "execution_count": 11,
   "metadata": {},
   "outputs": [],
   "source": [
    "train_sample = train_df.filter(col('msno_num').isin(list(pd_sample['msno_num'])))\n",
    "members_sample = members_df.filter(col('msno_num').isin(list(pd_sample['msno_num'])))\n",
    "transaction_sample = transactions_df.filter(col('msno_num').isin(list(pd_sample['msno_num'])))\n",
    "userlog_sample = userlog_df.filter(col('msno_num').isin(list(pd_sample['msno_num'])))"
   ]
  },
  {
   "cell_type": "code",
   "execution_count": 14,
   "metadata": {},
   "outputs": [],
   "source": [
    "train_sample.write.parquet('D:/kkbox-churn-prediction-challenge/data/sample/train_random_sample.parquet')\n",
    "members_sample.write.parquet('D:/kkbox-churn-prediction-challenge/data/sample/members_random_sample.parquet')\n",
    "transaction_sample.write.parquet('D:/kkbox-churn-prediction-challenge/data/sample/transaction_random_sample.parquet')"
   ]
  },
  {
   "cell_type": "code",
   "execution_count": 34,
   "metadata": {},
   "outputs": [],
   "source": [
    "total_periods = transactions_df_merged.groupBy('msno').agg(sum('periods').alias('total_periods'))"
   ]
  },
  {
   "cell_type": "code",
   "execution_count": 7,
   "metadata": {},
   "outputs": [],
   "source": [
    "user_log_avg = (user_logs_df_merged\n",
    "                .groupBy('msno')\n",
    "                .agg(count('*').alias('count'), avg('num_25') ,avg('num_50'), avg('num_75'),avg('num_985'),avg('num_100'),avg('num_unq'),avg('total_secs'))\n",
    "                )"
   ]
  },
  {
   "cell_type": "code",
   "execution_count": 265,
   "metadata": {},
   "outputs": [],
   "source": [
    "train_df = pd.read_parquet('./sample_data/sample_train.parquet')\n",
    "members_df = pd.read_parquet('./sample_data/sample_members.parquet')\n",
    "transaction_df = pd.read_parquet('./sample_data/sample_transactions.parquet')\n",
    "userlog_df = pd.read_parquet('./sample_data/sample_user_logs.parquet')"
   ]
  },
  {
   "cell_type": "markdown",
   "metadata": {},
   "source": [
    "## Transaction_data EDA"
   ]
  },
  {
   "cell_type": "code",
   "execution_count": 266,
   "metadata": {},
   "outputs": [],
   "source": [
    "transaction_df['transaction_date'] = pd.to_datetime(transaction_df['transaction_date'], format='%Y%m%d')\n",
    "transaction_df['membership_expire_date'] = pd.to_datetime(transaction_df['membership_expire_date'], format='%Y%m%d')"
   ]
  },
  {
   "cell_type": "code",
   "execution_count": 267,
   "metadata": {},
   "outputs": [],
   "source": [
    "transaction_filter1 = (transaction_df['transaction_date'] < transaction_df['membership_expire_date'])\n",
    "transaction_filter2 = ((transaction_df['membership_expire_date'] - transaction_df['transaction_date']).dt.days < transaction_df['payment_plan_days'] * 3)"
   ]
  },
  {
   "cell_type": "code",
   "execution_count": 268,
   "metadata": {},
   "outputs": [],
   "source": [
    "transaction_df_filtered = transaction_df[transaction_filter1 & transaction_filter2]"
   ]
  },
  {
   "cell_type": "code",
   "execution_count": 269,
   "metadata": {},
   "outputs": [
    {
     "name": "stderr",
     "output_type": "stream",
     "text": [
      "C:\\Users\\jiho\\AppData\\Local\\Temp\\ipykernel_13340\\1994290194.py:1: SettingWithCopyWarning: \n",
      "A value is trying to be set on a copy of a slice from a DataFrame.\n",
      "Try using .loc[row_indexer,col_indexer] = value instead\n",
      "\n",
      "See the caveats in the documentation: https://pandas.pydata.org/pandas-docs/stable/user_guide/indexing.html#returning-a-view-versus-a-copy\n",
      "  transaction_df_filtered.loc[:,'lag_membership_expire_date'] = transaction_df_filtered.sort_values(by='membership_expire_date', ascending=True).groupby('msno_num')['membership_expire_date'].shift(1)\n"
     ]
    }
   ],
   "source": [
    "transaction_df_filtered.loc[:,'lag_membership_expire_date'] = transaction_df_filtered.sort_values(by='membership_expire_date', ascending=True).groupby('msno_num')['membership_expire_date'].shift(1)"
   ]
  },
  {
   "cell_type": "code",
   "execution_count": 270,
   "metadata": {},
   "outputs": [
    {
     "name": "stderr",
     "output_type": "stream",
     "text": [
      "C:\\Users\\jiho\\AppData\\Local\\Temp\\ipykernel_13340\\1936647700.py:1: SettingWithCopyWarning: \n",
      "A value is trying to be set on a copy of a slice from a DataFrame.\n",
      "Try using .loc[row_indexer,col_indexer] = value instead\n",
      "\n",
      "See the caveats in the documentation: https://pandas.pydata.org/pandas-docs/stable/user_guide/indexing.html#returning-a-view-versus-a-copy\n",
      "  transaction_df_filtered.loc[:,'period'] = np.where(\n"
     ]
    }
   ],
   "source": [
    "transaction_df_filtered.loc[:,'period'] = np.where(\n",
    "    transaction_df_filtered['is_cancel'] == 0 ,\n",
    "    (transaction_df_filtered['membership_expire_date'] - transaction_df_filtered['transaction_date']).dt.days,\n",
    "    (transaction_df_filtered['lag_membership_expire_date'] - transaction_df_filtered['membership_expire_date']).dt.days\n",
    ")"
   ]
  },
  {
   "cell_type": "code",
   "execution_count": 271,
   "metadata": {},
   "outputs": [
    {
     "data": {
      "text/plain": [
       "<AxesSubplot: ylabel='Count'>"
      ]
     },
     "execution_count": 271,
     "metadata": {},
     "output_type": "execute_result"
    },
    {
     "data": {
      "image/png": "[encoded data removed]",
      "text/plain": [
       "<Figure size 640x480 with 1 Axes>"
      ]
     },
     "metadata": {},
     "output_type": "display_data"
    }
   ],
   "source": [
    "sns.histplot(transaction_df_filtered.groupby('msno_num')[['period']].sum())"
   ]
  },
  {
   "cell_type": "code",
   "execution_count": 272,
   "metadata": {},
   "outputs": [],
   "source": [
    "train_period = train_df.join(transaction_df_filtered.groupby('msno_num')[['period']].sum(), on='msno_num', how='inner')"
   ]
  },
  {
   "cell_type": "code",
   "execution_count": 273,
   "metadata": {},
   "outputs": [
    {
     "data": {
      "image/png": "[encoded data removed]",
      "text/plain": [
       "<Figure size 640x480 with 1 Axes>"
      ]
     },
     "metadata": {},
     "output_type": "display_data"
    }
   ],
   "source": [
    "jm.compare_density(train_period, 'period')"
   ]
  },
  {
   "attachments": {},
   "cell_type": "markdown",
   "metadata": {},
   "source": [
    "## User Log EDA"
   ]
  },
  {
   "cell_type": "code",
   "execution_count": 274,
   "metadata": {},
   "outputs": [],
   "source": [
    "userlog_df[userlog_df.total_secs > 86400]\n",
    "userlog_filter1 = (userlog_df.total_secs > 0)\n",
    "userlog_df_filtered = userlog_df[userlog_filter1]"
   ]
  },
  {
   "cell_type": "code",
   "execution_count": 275,
   "metadata": {},
   "outputs": [
    {
     "data": {
      "text/html": [
       "<div>\n",
       "<style scoped>\n",
       "    .dataframe tbody tr th:only-of-type {\n",
       "        vertical-align: middle;\n",
       "    }\n",
       "\n",
       "    .dataframe tbody tr th {\n",
       "        vertical-align: top;\n",
       "    }\n",
       "\n",
       "    .dataframe thead th {\n",
       "        text-align: right;\n",
       "    }\n",
       "</style>\n",
       "<table border=\"1\" class=\"dataframe\">\n",
       "  <thead>\n",
       "    <tr style=\"text-align: right;\">\n",
       "      <th></th>\n",
       "      <th>msno_num</th>\n",
       "      <th>date</th>\n",
       "      <th>num_25</th>\n",
       "      <th>num_50</th>\n",
       "      <th>num_75</th>\n",
       "      <th>num_985</th>\n",
       "      <th>num_100</th>\n",
       "      <th>num_unq</th>\n",
       "      <th>total_secs</th>\n",
       "    </tr>\n",
       "  </thead>\n",
       "  <tbody>\n",
       "    <tr>\n",
       "      <th>0</th>\n",
       "      <td>311995</td>\n",
       "      <td>20150127</td>\n",
       "      <td>6</td>\n",
       "      <td>3</td>\n",
       "      <td>2</td>\n",
       "      <td>2</td>\n",
       "      <td>25</td>\n",
       "      <td>22</td>\n",
       "      <td>7311.623</td>\n",
       "    </tr>\n",
       "    <tr>\n",
       "      <th>1</th>\n",
       "      <td>311995</td>\n",
       "      <td>20150520</td>\n",
       "      <td>4</td>\n",
       "      <td>1</td>\n",
       "      <td>2</td>\n",
       "      <td>0</td>\n",
       "      <td>13</td>\n",
       "      <td>12</td>\n",
       "      <td>3252.325</td>\n",
       "    </tr>\n",
       "    <tr>\n",
       "      <th>2</th>\n",
       "      <td>311995</td>\n",
       "      <td>20150728</td>\n",
       "      <td>0</td>\n",
       "      <td>1</td>\n",
       "      <td>0</td>\n",
       "      <td>0</td>\n",
       "      <td>12</td>\n",
       "      <td>11</td>\n",
       "      <td>3135.897</td>\n",
       "    </tr>\n",
       "    <tr>\n",
       "      <th>3</th>\n",
       "      <td>311995</td>\n",
       "      <td>20151125</td>\n",
       "      <td>2</td>\n",
       "      <td>0</td>\n",
       "      <td>2</td>\n",
       "      <td>3</td>\n",
       "      <td>27</td>\n",
       "      <td>20</td>\n",
       "      <td>6353.843</td>\n",
       "    </tr>\n",
       "    <tr>\n",
       "      <th>4</th>\n",
       "      <td>311995</td>\n",
       "      <td>20160418</td>\n",
       "      <td>0</td>\n",
       "      <td>0</td>\n",
       "      <td>0</td>\n",
       "      <td>0</td>\n",
       "      <td>21</td>\n",
       "      <td>14</td>\n",
       "      <td>2991.098</td>\n",
       "    </tr>\n",
       "    <tr>\n",
       "      <th>...</th>\n",
       "      <td>...</td>\n",
       "      <td>...</td>\n",
       "      <td>...</td>\n",
       "      <td>...</td>\n",
       "      <td>...</td>\n",
       "      <td>...</td>\n",
       "      <td>...</td>\n",
       "      <td>...</td>\n",
       "      <td>...</td>\n",
       "    </tr>\n",
       "    <tr>\n",
       "      <th>4454855</th>\n",
       "      <td>7301526</td>\n",
       "      <td>20161226</td>\n",
       "      <td>4</td>\n",
       "      <td>1</td>\n",
       "      <td>4</td>\n",
       "      <td>1</td>\n",
       "      <td>50</td>\n",
       "      <td>10</td>\n",
       "      <td>12926.347</td>\n",
       "    </tr>\n",
       "    <tr>\n",
       "      <th>4454856</th>\n",
       "      <td>7301526</td>\n",
       "      <td>20161228</td>\n",
       "      <td>0</td>\n",
       "      <td>1</td>\n",
       "      <td>3</td>\n",
       "      <td>0</td>\n",
       "      <td>6</td>\n",
       "      <td>2</td>\n",
       "      <td>1969.598</td>\n",
       "    </tr>\n",
       "    <tr>\n",
       "      <th>4454857</th>\n",
       "      <td>7301526</td>\n",
       "      <td>20170103</td>\n",
       "      <td>0</td>\n",
       "      <td>0</td>\n",
       "      <td>1</td>\n",
       "      <td>1</td>\n",
       "      <td>0</td>\n",
       "      <td>2</td>\n",
       "      <td>337.562</td>\n",
       "    </tr>\n",
       "    <tr>\n",
       "      <th>4454858</th>\n",
       "      <td>7301526</td>\n",
       "      <td>20170104</td>\n",
       "      <td>1</td>\n",
       "      <td>1</td>\n",
       "      <td>1</td>\n",
       "      <td>1</td>\n",
       "      <td>8</td>\n",
       "      <td>5</td>\n",
       "      <td>2353.406</td>\n",
       "    </tr>\n",
       "    <tr>\n",
       "      <th>4454859</th>\n",
       "      <td>7301526</td>\n",
       "      <td>20170105</td>\n",
       "      <td>0</td>\n",
       "      <td>0</td>\n",
       "      <td>0</td>\n",
       "      <td>2</td>\n",
       "      <td>123</td>\n",
       "      <td>1</td>\n",
       "      <td>25593.268</td>\n",
       "    </tr>\n",
       "  </tbody>\n",
       "</table>\n",
       "<p>4454289 rows × 9 columns</p>\n",
       "</div>"
      ],
      "text/plain": [
       "         msno_num      date  num_25  num_50  num_75  num_985  num_100  \\\n",
       "0          311995  20150127       6       3       2        2       25   \n",
       "1          311995  20150520       4       1       2        0       13   \n",
       "2          311995  20150728       0       1       0        0       12   \n",
       "3          311995  20151125       2       0       2        3       27   \n",
       "4          311995  20160418       0       0       0        0       21   \n",
       "...           ...       ...     ...     ...     ...      ...      ...   \n",
       "4454855   7301526  20161226       4       1       4        1       50   \n",
       "4454856   7301526  20161228       0       1       3        0        6   \n",
       "4454857   7301526  20170103       0       0       1        1        0   \n",
       "4454858   7301526  20170104       1       1       1        1        8   \n",
       "4454859   7301526  20170105       0       0       0        2      123   \n",
       "\n",
       "         num_unq  total_secs  \n",
       "0             22    7311.623  \n",
       "1             12    3252.325  \n",
       "2             11    3135.897  \n",
       "3             20    6353.843  \n",
       "4             14    2991.098  \n",
       "...          ...         ...  \n",
       "4454855       10   12926.347  \n",
       "4454856        2    1969.598  \n",
       "4454857        2     337.562  \n",
       "4454858        5    2353.406  \n",
       "4454859        1   25593.268  \n",
       "\n",
       "[4454289 rows x 9 columns]"
      ]
     },
     "execution_count": 275,
     "metadata": {},
     "output_type": "execute_result"
    }
   ],
   "source": [
    "userlog_df_filtered"
   ]
  },
  {
   "cell_type": "code",
   "execution_count": 278,
   "metadata": {},
   "outputs": [
    {
     "data": {
      "text/plain": [
       "(0.0, 500000.0)"
      ]
     },
     "execution_count": 278,
     "metadata": {},
     "output_type": "execute_result"
    },
    {
     "data": {
      "image/png": "[encoded data removed]",
      "text/plain": [
       "<Figure size 800x800 with 1 Axes>"
      ]
     },
     "metadata": {},
     "output_type": "display_data"
    }
   ],
   "source": [
    "plt.figure(figsize=(8,8))\n",
    "sns.scatterplot(x=(userlog_df_filtered[userlog_df_filtered.total_secs > 86400].num_100), y=userlog_df_filtered[userlog_df_filtered.total_secs > 86400].total_secs)\n",
    "plt.xlim([0, 4000])\n",
    "plt.ylim([0,500000])"
   ]
  },
  {
   "cell_type": "code",
   "execution_count": 279,
   "metadata": {},
   "outputs": [],
   "source": [
    "userlog_df_grouped_avg = (userlog_df_filtered\n",
    "                          .groupby('msno_num')\n",
    "                          .agg({\n",
    "                            'msno_num' : 'count',\n",
    "                            'num_25' : 'mean',\n",
    "                            'num_50' : 'mean',\n",
    "                            'num_75' : 'mean',\n",
    "                            'num_985' : 'mean',\n",
    "                            'num_100' : 'mean',\n",
    "                            'num_unq' : 'mean',\n",
    "                            'total_secs' : 'mean'\n",
    "                          })\n",
    "                          )"
   ]
  },
  {
   "cell_type": "code",
   "execution_count": 282,
   "metadata": {},
   "outputs": [
    {
     "data": {
      "text/html": [
       "<div>\n",
       "<style scoped>\n",
       "    .dataframe tbody tr th:only-of-type {\n",
       "        vertical-align: middle;\n",
       "    }\n",
       "\n",
       "    .dataframe tbody tr th {\n",
       "        vertical-align: top;\n",
       "    }\n",
       "\n",
       "    .dataframe thead th {\n",
       "        text-align: right;\n",
       "    }\n",
       "</style>\n",
       "<table border=\"1\" class=\"dataframe\">\n",
       "  <thead>\n",
       "    <tr style=\"text-align: right;\">\n",
       "      <th></th>\n",
       "      <th>msno_num</th>\n",
       "      <th>is_churn</th>\n",
       "    </tr>\n",
       "  </thead>\n",
       "  <tbody>\n",
       "    <tr>\n",
       "      <th>0</th>\n",
       "      <td>12120</td>\n",
       "      <td>0</td>\n",
       "    </tr>\n",
       "    <tr>\n",
       "      <th>1</th>\n",
       "      <td>13193</td>\n",
       "      <td>0</td>\n",
       "    </tr>\n",
       "    <tr>\n",
       "      <th>2</th>\n",
       "      <td>17474</td>\n",
       "      <td>1</td>\n",
       "    </tr>\n",
       "    <tr>\n",
       "      <th>3</th>\n",
       "      <td>19991</td>\n",
       "      <td>0</td>\n",
       "    </tr>\n",
       "    <tr>\n",
       "      <th>4</th>\n",
       "      <td>20371</td>\n",
       "      <td>0</td>\n",
       "    </tr>\n",
       "    <tr>\n",
       "      <th>...</th>\n",
       "      <td>...</td>\n",
       "      <td>...</td>\n",
       "    </tr>\n",
       "    <tr>\n",
       "      <th>15294</th>\n",
       "      <td>7362310</td>\n",
       "      <td>0</td>\n",
       "    </tr>\n",
       "    <tr>\n",
       "      <th>15295</th>\n",
       "      <td>7363415</td>\n",
       "      <td>0</td>\n",
       "    </tr>\n",
       "    <tr>\n",
       "      <th>15296</th>\n",
       "      <td>7373309</td>\n",
       "      <td>1</td>\n",
       "    </tr>\n",
       "    <tr>\n",
       "      <th>15297</th>\n",
       "      <td>7373344</td>\n",
       "      <td>0</td>\n",
       "    </tr>\n",
       "    <tr>\n",
       "      <th>15298</th>\n",
       "      <td>7375076</td>\n",
       "      <td>0</td>\n",
       "    </tr>\n",
       "  </tbody>\n",
       "</table>\n",
       "<p>15299 rows × 2 columns</p>\n",
       "</div>"
      ],
      "text/plain": [
       "       msno_num  is_churn\n",
       "0         12120         0\n",
       "1         13193         0\n",
       "2         17474         1\n",
       "3         19991         0\n",
       "4         20371         0\n",
       "...         ...       ...\n",
       "15294   7362310         0\n",
       "15295   7363415         0\n",
       "15296   7373309         1\n",
       "15297   7373344         0\n",
       "15298   7375076         0\n",
       "\n",
       "[15299 rows x 2 columns]"
      ]
     },
     "execution_count": 282,
     "metadata": {},
     "output_type": "execute_result"
    }
   ],
   "source": [
    "train_df"
   ]
  },
  {
   "cell_type": "code",
   "execution_count": 280,
   "metadata": {},
   "outputs": [
    {
     "data": {
      "text/html": [
       "<div>\n",
       "<style scoped>\n",
       "    .dataframe tbody tr th:only-of-type {\n",
       "        vertical-align: middle;\n",
       "    }\n",
       "\n",
       "    .dataframe tbody tr th {\n",
       "        vertical-align: top;\n",
       "    }\n",
       "\n",
       "    .dataframe thead th {\n",
       "        text-align: right;\n",
       "    }\n",
       "</style>\n",
       "<table border=\"1\" class=\"dataframe\">\n",
       "  <thead>\n",
       "    <tr style=\"text-align: right;\">\n",
       "      <th></th>\n",
       "      <th>msno_num</th>\n",
       "      <th>num_25</th>\n",
       "      <th>num_50</th>\n",
       "      <th>num_75</th>\n",
       "      <th>num_985</th>\n",
       "      <th>num_100</th>\n",
       "      <th>num_unq</th>\n",
       "      <th>total_secs</th>\n",
       "    </tr>\n",
       "    <tr>\n",
       "      <th>msno_num</th>\n",
       "      <th></th>\n",
       "      <th></th>\n",
       "      <th></th>\n",
       "      <th></th>\n",
       "      <th></th>\n",
       "      <th></th>\n",
       "      <th></th>\n",
       "      <th></th>\n",
       "    </tr>\n",
       "  </thead>\n",
       "  <tbody>\n",
       "    <tr>\n",
       "      <th>1400</th>\n",
       "      <td>175</td>\n",
       "      <td>0.520000</td>\n",
       "      <td>0.262857</td>\n",
       "      <td>0.308571</td>\n",
       "      <td>0.377143</td>\n",
       "      <td>76.097143</td>\n",
       "      <td>58.777143</td>\n",
       "      <td>17091.255457</td>\n",
       "    </tr>\n",
       "    <tr>\n",
       "      <th>1429</th>\n",
       "      <td>277</td>\n",
       "      <td>8.400722</td>\n",
       "      <td>1.927798</td>\n",
       "      <td>1.368231</td>\n",
       "      <td>1.620939</td>\n",
       "      <td>19.072202</td>\n",
       "      <td>24.599278</td>\n",
       "      <td>5738.887285</td>\n",
       "    </tr>\n",
       "    <tr>\n",
       "      <th>2994</th>\n",
       "      <td>582</td>\n",
       "      <td>18.369416</td>\n",
       "      <td>2.347079</td>\n",
       "      <td>1.321306</td>\n",
       "      <td>1.237113</td>\n",
       "      <td>39.144330</td>\n",
       "      <td>56.785223</td>\n",
       "      <td>10310.834806</td>\n",
       "    </tr>\n",
       "    <tr>\n",
       "      <th>3018</th>\n",
       "      <td>270</td>\n",
       "      <td>9.303704</td>\n",
       "      <td>1.777778</td>\n",
       "      <td>0.944444</td>\n",
       "      <td>0.562963</td>\n",
       "      <td>16.218519</td>\n",
       "      <td>23.881481</td>\n",
       "      <td>4430.969270</td>\n",
       "    </tr>\n",
       "    <tr>\n",
       "      <th>3397</th>\n",
       "      <td>535</td>\n",
       "      <td>3.609346</td>\n",
       "      <td>0.930841</td>\n",
       "      <td>0.642991</td>\n",
       "      <td>0.616822</td>\n",
       "      <td>16.551402</td>\n",
       "      <td>18.186916</td>\n",
       "      <td>4280.917465</td>\n",
       "    </tr>\n",
       "    <tr>\n",
       "      <th>...</th>\n",
       "      <td>...</td>\n",
       "      <td>...</td>\n",
       "      <td>...</td>\n",
       "      <td>...</td>\n",
       "      <td>...</td>\n",
       "      <td>...</td>\n",
       "      <td>...</td>\n",
       "      <td>...</td>\n",
       "    </tr>\n",
       "    <tr>\n",
       "      <th>7374403</th>\n",
       "      <td>85</td>\n",
       "      <td>2.141176</td>\n",
       "      <td>0.741176</td>\n",
       "      <td>0.400000</td>\n",
       "      <td>0.423529</td>\n",
       "      <td>66.741176</td>\n",
       "      <td>39.964706</td>\n",
       "      <td>17078.558294</td>\n",
       "    </tr>\n",
       "    <tr>\n",
       "      <th>7375076</th>\n",
       "      <td>21</td>\n",
       "      <td>4.380952</td>\n",
       "      <td>1.285714</td>\n",
       "      <td>0.476190</td>\n",
       "      <td>0.476190</td>\n",
       "      <td>4.666667</td>\n",
       "      <td>10.095238</td>\n",
       "      <td>1649.737476</td>\n",
       "    </tr>\n",
       "    <tr>\n",
       "      <th>7375630</th>\n",
       "      <td>47</td>\n",
       "      <td>4.553191</td>\n",
       "      <td>2.340426</td>\n",
       "      <td>1.297872</td>\n",
       "      <td>0.936170</td>\n",
       "      <td>1.957447</td>\n",
       "      <td>9.382979</td>\n",
       "      <td>1229.187000</td>\n",
       "    </tr>\n",
       "    <tr>\n",
       "      <th>7376113</th>\n",
       "      <td>462</td>\n",
       "      <td>1.199134</td>\n",
       "      <td>1.220779</td>\n",
       "      <td>0.564935</td>\n",
       "      <td>0.365801</td>\n",
       "      <td>28.538961</td>\n",
       "      <td>15.857143</td>\n",
       "      <td>7273.843799</td>\n",
       "    </tr>\n",
       "    <tr>\n",
       "      <th>7376265</th>\n",
       "      <td>318</td>\n",
       "      <td>6.216981</td>\n",
       "      <td>1.666667</td>\n",
       "      <td>1.176101</td>\n",
       "      <td>1.207547</td>\n",
       "      <td>23.399371</td>\n",
       "      <td>23.987421</td>\n",
       "      <td>6162.589381</td>\n",
       "    </tr>\n",
       "  </tbody>\n",
       "</table>\n",
       "<p>15299 rows × 8 columns</p>\n",
       "</div>"
      ],
      "text/plain": [
       "          msno_num     num_25    num_50    num_75   num_985    num_100  \\\n",
       "msno_num                                                                 \n",
       "1400           175   0.520000  0.262857  0.308571  0.377143  76.097143   \n",
       "1429           277   8.400722  1.927798  1.368231  1.620939  19.072202   \n",
       "2994           582  18.369416  2.347079  1.321306  1.237113  39.144330   \n",
       "3018           270   9.303704  1.777778  0.944444  0.562963  16.218519   \n",
       "3397           535   3.609346  0.930841  0.642991  0.616822  16.551402   \n",
       "...            ...        ...       ...       ...       ...        ...   \n",
       "7374403         85   2.141176  0.741176  0.400000  0.423529  66.741176   \n",
       "7375076         21   4.380952  1.285714  0.476190  0.476190   4.666667   \n",
       "7375630         47   4.553191  2.340426  1.297872  0.936170   1.957447   \n",
       "7376113        462   1.199134  1.220779  0.564935  0.365801  28.538961   \n",
       "7376265        318   6.216981  1.666667  1.176101  1.207547  23.399371   \n",
       "\n",
       "            num_unq    total_secs  \n",
       "msno_num                           \n",
       "1400      58.777143  17091.255457  \n",
       "1429      24.599278   5738.887285  \n",
       "2994      56.785223  10310.834806  \n",
       "3018      23.881481   4430.969270  \n",
       "3397      18.186916   4280.917465  \n",
       "...             ...           ...  \n",
       "7374403   39.964706  17078.558294  \n",
       "7375076   10.095238   1649.737476  \n",
       "7375630    9.382979   1229.187000  \n",
       "7376113   15.857143   7273.843799  \n",
       "7376265   23.987421   6162.589381  \n",
       "\n",
       "[15299 rows x 8 columns]"
      ]
     },
     "execution_count": 280,
     "metadata": {},
     "output_type": "execute_result"
    }
   ],
   "source": [
    "userlog_df_grouped_avg"
   ]
  },
  {
   "cell_type": "code",
   "execution_count": 281,
   "metadata": {},
   "outputs": [
    {
     "ename": "ValueError",
     "evalue": "columns overlap but no suffix specified: Index(['msno_num'], dtype='object')",
     "output_type": "error",
     "traceback": [
      "\u001b[1;31m---------------------------------------------------------------------------\u001b[0m",
      "\u001b[1;31mValueError\u001b[0m                                Traceback (most recent call last)",
      "Cell \u001b[1;32mIn[281], line 1\u001b[0m\n\u001b[1;32m----> 1\u001b[0m train_log \u001b[39m=\u001b[39m train_df\u001b[39m.\u001b[39;49mjoin(userlog_df_grouped_avg, on\u001b[39m=\u001b[39;49m\u001b[39m'\u001b[39;49m\u001b[39mmsno_num\u001b[39;49m\u001b[39m'\u001b[39;49m, how\u001b[39m=\u001b[39;49m\u001b[39m'\u001b[39;49m\u001b[39minner\u001b[39;49m\u001b[39m'\u001b[39;49m)\n",
      "File \u001b[1;32mc:\\Users\\jiho\\anaconda3\\envs\\ds_study\\lib\\site-packages\\pandas\\core\\frame.py:9976\u001b[0m, in \u001b[0;36mDataFrame.join\u001b[1;34m(self, other, on, how, lsuffix, rsuffix, sort, validate)\u001b[0m\n\u001b[0;32m   9813\u001b[0m \u001b[39mdef\u001b[39;00m \u001b[39mjoin\u001b[39m(\n\u001b[0;32m   9814\u001b[0m     \u001b[39mself\u001b[39m,\n\u001b[0;32m   9815\u001b[0m     other: DataFrame \u001b[39m|\u001b[39m Series \u001b[39m|\u001b[39m \u001b[39mlist\u001b[39m[DataFrame \u001b[39m|\u001b[39m Series],\n\u001b[1;32m   (...)\u001b[0m\n\u001b[0;32m   9821\u001b[0m     validate: \u001b[39mstr\u001b[39m \u001b[39m|\u001b[39m \u001b[39mNone\u001b[39;00m \u001b[39m=\u001b[39m \u001b[39mNone\u001b[39;00m,\n\u001b[0;32m   9822\u001b[0m ) \u001b[39m-\u001b[39m\u001b[39m>\u001b[39m DataFrame:\n\u001b[0;32m   9823\u001b[0m     \u001b[39m\"\"\"\u001b[39;00m\n\u001b[0;32m   9824\u001b[0m \u001b[39m    Join columns of another DataFrame.\u001b[39;00m\n\u001b[0;32m   9825\u001b[0m \n\u001b[1;32m   (...)\u001b[0m\n\u001b[0;32m   9974\u001b[0m \u001b[39m    5  K1  A5   B1\u001b[39;00m\n\u001b[0;32m   9975\u001b[0m \u001b[39m    \"\"\"\u001b[39;00m\n\u001b[1;32m-> 9976\u001b[0m     \u001b[39mreturn\u001b[39;00m \u001b[39mself\u001b[39;49m\u001b[39m.\u001b[39;49m_join_compat(\n\u001b[0;32m   9977\u001b[0m         other,\n\u001b[0;32m   9978\u001b[0m         on\u001b[39m=\u001b[39;49mon,\n\u001b[0;32m   9979\u001b[0m         how\u001b[39m=\u001b[39;49mhow,\n\u001b[0;32m   9980\u001b[0m         lsuffix\u001b[39m=\u001b[39;49mlsuffix,\n\u001b[0;32m   9981\u001b[0m         rsuffix\u001b[39m=\u001b[39;49mrsuffix,\n\u001b[0;32m   9982\u001b[0m         sort\u001b[39m=\u001b[39;49msort,\n\u001b[0;32m   9983\u001b[0m         validate\u001b[39m=\u001b[39;49mvalidate,\n\u001b[0;32m   9984\u001b[0m     )\n",
      "File \u001b[1;32mc:\\Users\\jiho\\anaconda3\\envs\\ds_study\\lib\\site-packages\\pandas\\core\\frame.py:10015\u001b[0m, in \u001b[0;36mDataFrame._join_compat\u001b[1;34m(self, other, on, how, lsuffix, rsuffix, sort, validate)\u001b[0m\n\u001b[0;32m  10005\u001b[0m     \u001b[39mif\u001b[39;00m how \u001b[39m==\u001b[39m \u001b[39m\"\u001b[39m\u001b[39mcross\u001b[39m\u001b[39m\"\u001b[39m:\n\u001b[0;32m  10006\u001b[0m         \u001b[39mreturn\u001b[39;00m merge(\n\u001b[0;32m  10007\u001b[0m             \u001b[39mself\u001b[39m,\n\u001b[0;32m  10008\u001b[0m             other,\n\u001b[1;32m   (...)\u001b[0m\n\u001b[0;32m  10013\u001b[0m             validate\u001b[39m=\u001b[39mvalidate,\n\u001b[0;32m  10014\u001b[0m         )\n\u001b[1;32m> 10015\u001b[0m     \u001b[39mreturn\u001b[39;00m merge(\n\u001b[0;32m  10016\u001b[0m         \u001b[39mself\u001b[39;49m,\n\u001b[0;32m  10017\u001b[0m         other,\n\u001b[0;32m  10018\u001b[0m         left_on\u001b[39m=\u001b[39;49mon,\n\u001b[0;32m  10019\u001b[0m         how\u001b[39m=\u001b[39;49mhow,\n\u001b[0;32m  10020\u001b[0m         left_index\u001b[39m=\u001b[39;49mon \u001b[39mis\u001b[39;49;00m \u001b[39mNone\u001b[39;49;00m,\n\u001b[0;32m  10021\u001b[0m         right_index\u001b[39m=\u001b[39;49m\u001b[39mTrue\u001b[39;49;00m,\n\u001b[0;32m  10022\u001b[0m         suffixes\u001b[39m=\u001b[39;49m(lsuffix, rsuffix),\n\u001b[0;32m  10023\u001b[0m         sort\u001b[39m=\u001b[39;49msort,\n\u001b[0;32m  10024\u001b[0m         validate\u001b[39m=\u001b[39;49mvalidate,\n\u001b[0;32m  10025\u001b[0m     )\n\u001b[0;32m  10026\u001b[0m \u001b[39melse\u001b[39;00m:\n\u001b[0;32m  10027\u001b[0m     \u001b[39mif\u001b[39;00m on \u001b[39mis\u001b[39;00m \u001b[39mnot\u001b[39;00m \u001b[39mNone\u001b[39;00m:\n",
      "File \u001b[1;32mc:\\Users\\jiho\\anaconda3\\envs\\ds_study\\lib\\site-packages\\pandas\\core\\reshape\\merge.py:124\u001b[0m, in \u001b[0;36mmerge\u001b[1;34m(left, right, how, on, left_on, right_on, left_index, right_index, sort, suffixes, copy, indicator, validate)\u001b[0m\n\u001b[0;32m     93\u001b[0m \u001b[39m@Substitution\u001b[39m(\u001b[39m\"\u001b[39m\u001b[39m\\n\u001b[39;00m\u001b[39mleft : DataFrame or named Series\u001b[39m\u001b[39m\"\u001b[39m)\n\u001b[0;32m     94\u001b[0m \u001b[39m@Appender\u001b[39m(_merge_doc, indents\u001b[39m=\u001b[39m\u001b[39m0\u001b[39m)\n\u001b[0;32m     95\u001b[0m \u001b[39mdef\u001b[39;00m \u001b[39mmerge\u001b[39m(\n\u001b[1;32m   (...)\u001b[0m\n\u001b[0;32m    108\u001b[0m     validate: \u001b[39mstr\u001b[39m \u001b[39m|\u001b[39m \u001b[39mNone\u001b[39;00m \u001b[39m=\u001b[39m \u001b[39mNone\u001b[39;00m,\n\u001b[0;32m    109\u001b[0m ) \u001b[39m-\u001b[39m\u001b[39m>\u001b[39m DataFrame:\n\u001b[0;32m    110\u001b[0m     op \u001b[39m=\u001b[39m _MergeOperation(\n\u001b[0;32m    111\u001b[0m         left,\n\u001b[0;32m    112\u001b[0m         right,\n\u001b[1;32m   (...)\u001b[0m\n\u001b[0;32m    122\u001b[0m         validate\u001b[39m=\u001b[39mvalidate,\n\u001b[0;32m    123\u001b[0m     )\n\u001b[1;32m--> 124\u001b[0m     \u001b[39mreturn\u001b[39;00m op\u001b[39m.\u001b[39;49mget_result(copy\u001b[39m=\u001b[39;49mcopy)\n",
      "File \u001b[1;32mc:\\Users\\jiho\\anaconda3\\envs\\ds_study\\lib\\site-packages\\pandas\\core\\reshape\\merge.py:775\u001b[0m, in \u001b[0;36m_MergeOperation.get_result\u001b[1;34m(self, copy)\u001b[0m\n\u001b[0;32m    771\u001b[0m     \u001b[39mself\u001b[39m\u001b[39m.\u001b[39mleft, \u001b[39mself\u001b[39m\u001b[39m.\u001b[39mright \u001b[39m=\u001b[39m \u001b[39mself\u001b[39m\u001b[39m.\u001b[39m_indicator_pre_merge(\u001b[39mself\u001b[39m\u001b[39m.\u001b[39mleft, \u001b[39mself\u001b[39m\u001b[39m.\u001b[39mright)\n\u001b[0;32m    773\u001b[0m join_index, left_indexer, right_indexer \u001b[39m=\u001b[39m \u001b[39mself\u001b[39m\u001b[39m.\u001b[39m_get_join_info()\n\u001b[1;32m--> 775\u001b[0m result \u001b[39m=\u001b[39m \u001b[39mself\u001b[39;49m\u001b[39m.\u001b[39;49m_reindex_and_concat(\n\u001b[0;32m    776\u001b[0m     join_index, left_indexer, right_indexer, copy\u001b[39m=\u001b[39;49mcopy\n\u001b[0;32m    777\u001b[0m )\n\u001b[0;32m    778\u001b[0m result \u001b[39m=\u001b[39m result\u001b[39m.\u001b[39m__finalize__(\u001b[39mself\u001b[39m, method\u001b[39m=\u001b[39m\u001b[39mself\u001b[39m\u001b[39m.\u001b[39m_merge_type)\n\u001b[0;32m    780\u001b[0m \u001b[39mif\u001b[39;00m \u001b[39mself\u001b[39m\u001b[39m.\u001b[39mindicator:\n",
      "File \u001b[1;32mc:\\Users\\jiho\\anaconda3\\envs\\ds_study\\lib\\site-packages\\pandas\\core\\reshape\\merge.py:729\u001b[0m, in \u001b[0;36m_MergeOperation._reindex_and_concat\u001b[1;34m(self, join_index, left_indexer, right_indexer, copy)\u001b[0m\n\u001b[0;32m    726\u001b[0m left \u001b[39m=\u001b[39m \u001b[39mself\u001b[39m\u001b[39m.\u001b[39mleft[:]\n\u001b[0;32m    727\u001b[0m right \u001b[39m=\u001b[39m \u001b[39mself\u001b[39m\u001b[39m.\u001b[39mright[:]\n\u001b[1;32m--> 729\u001b[0m llabels, rlabels \u001b[39m=\u001b[39m _items_overlap_with_suffix(\n\u001b[0;32m    730\u001b[0m     \u001b[39mself\u001b[39;49m\u001b[39m.\u001b[39;49mleft\u001b[39m.\u001b[39;49m_info_axis, \u001b[39mself\u001b[39;49m\u001b[39m.\u001b[39;49mright\u001b[39m.\u001b[39;49m_info_axis, \u001b[39mself\u001b[39;49m\u001b[39m.\u001b[39;49msuffixes\n\u001b[0;32m    731\u001b[0m )\n\u001b[0;32m    733\u001b[0m \u001b[39mif\u001b[39;00m left_indexer \u001b[39mis\u001b[39;00m \u001b[39mnot\u001b[39;00m \u001b[39mNone\u001b[39;00m:\n\u001b[0;32m    734\u001b[0m     \u001b[39m# Pinning the index here (and in the right code just below) is not\u001b[39;00m\n\u001b[0;32m    735\u001b[0m     \u001b[39m#  necessary, but makes the `.take` more performant if we have e.g.\u001b[39;00m\n\u001b[0;32m    736\u001b[0m     \u001b[39m#  a MultiIndex for left.index.\u001b[39;00m\n\u001b[0;32m    737\u001b[0m     lmgr \u001b[39m=\u001b[39m left\u001b[39m.\u001b[39m_mgr\u001b[39m.\u001b[39mreindex_indexer(\n\u001b[0;32m    738\u001b[0m         join_index,\n\u001b[0;32m    739\u001b[0m         left_indexer,\n\u001b[1;32m   (...)\u001b[0m\n\u001b[0;32m    744\u001b[0m         use_na_proxy\u001b[39m=\u001b[39m\u001b[39mTrue\u001b[39;00m,\n\u001b[0;32m    745\u001b[0m     )\n",
      "File \u001b[1;32mc:\\Users\\jiho\\anaconda3\\envs\\ds_study\\lib\\site-packages\\pandas\\core\\reshape\\merge.py:2458\u001b[0m, in \u001b[0;36m_items_overlap_with_suffix\u001b[1;34m(left, right, suffixes)\u001b[0m\n\u001b[0;32m   2455\u001b[0m lsuffix, rsuffix \u001b[39m=\u001b[39m suffixes\n\u001b[0;32m   2457\u001b[0m \u001b[39mif\u001b[39;00m \u001b[39mnot\u001b[39;00m lsuffix \u001b[39mand\u001b[39;00m \u001b[39mnot\u001b[39;00m rsuffix:\n\u001b[1;32m-> 2458\u001b[0m     \u001b[39mraise\u001b[39;00m \u001b[39mValueError\u001b[39;00m(\u001b[39mf\u001b[39m\u001b[39m\"\u001b[39m\u001b[39mcolumns overlap but no suffix specified: \u001b[39m\u001b[39m{\u001b[39;00mto_rename\u001b[39m}\u001b[39;00m\u001b[39m\"\u001b[39m)\n\u001b[0;32m   2460\u001b[0m \u001b[39mdef\u001b[39;00m \u001b[39mrenamer\u001b[39m(x, suffix):\n\u001b[0;32m   2461\u001b[0m     \u001b[39m\"\"\"\u001b[39;00m\n\u001b[0;32m   2462\u001b[0m \u001b[39m    Rename the left and right indices.\u001b[39;00m\n\u001b[0;32m   2463\u001b[0m \n\u001b[1;32m   (...)\u001b[0m\n\u001b[0;32m   2474\u001b[0m \u001b[39m    x : renamed column name\u001b[39;00m\n\u001b[0;32m   2475\u001b[0m \u001b[39m    \"\"\"\u001b[39;00m\n",
      "\u001b[1;31mValueError\u001b[0m: columns overlap but no suffix specified: Index(['msno_num'], dtype='object')"
     ]
    }
   ],
   "source": [
    "train_log = train_df.join(userlog_df_grouped_avg, on='msno_num', how='inner', )"
   ]
  },
  {
   "cell_type": "code",
   "execution_count": 262,
   "metadata": {},
   "outputs": [
    {
     "data": {
      "text/html": [
       "<div>\n",
       "<style scoped>\n",
       "    .dataframe tbody tr th:only-of-type {\n",
       "        vertical-align: middle;\n",
       "    }\n",
       "\n",
       "    .dataframe tbody tr th {\n",
       "        vertical-align: top;\n",
       "    }\n",
       "\n",
       "    .dataframe thead th {\n",
       "        text-align: right;\n",
       "    }\n",
       "</style>\n",
       "<table border=\"1\" class=\"dataframe\">\n",
       "  <thead>\n",
       "    <tr style=\"text-align: right;\">\n",
       "      <th></th>\n",
       "      <th>msno_num</th>\n",
       "      <th>is_churn</th>\n",
       "      <th>num_25</th>\n",
       "      <th>num_50</th>\n",
       "      <th>num_75</th>\n",
       "      <th>num_985</th>\n",
       "      <th>num_100</th>\n",
       "      <th>num_unq</th>\n",
       "      <th>total_secs</th>\n",
       "    </tr>\n",
       "  </thead>\n",
       "  <tbody>\n",
       "    <tr>\n",
       "      <th>0</th>\n",
       "      <td>12120</td>\n",
       "      <td>0</td>\n",
       "      <td>8.309783</td>\n",
       "      <td>1.961957</td>\n",
       "      <td>1.177536</td>\n",
       "      <td>0.851449</td>\n",
       "      <td>18.677536</td>\n",
       "      <td>22.920290</td>\n",
       "      <td>5070.038375</td>\n",
       "    </tr>\n",
       "    <tr>\n",
       "      <th>1</th>\n",
       "      <td>13193</td>\n",
       "      <td>0</td>\n",
       "      <td>1.086614</td>\n",
       "      <td>0.328084</td>\n",
       "      <td>0.309711</td>\n",
       "      <td>0.451444</td>\n",
       "      <td>12.341207</td>\n",
       "      <td>13.598425</td>\n",
       "      <td>3528.667079</td>\n",
       "    </tr>\n",
       "    <tr>\n",
       "      <th>2</th>\n",
       "      <td>17474</td>\n",
       "      <td>1</td>\n",
       "      <td>2.964286</td>\n",
       "      <td>2.071429</td>\n",
       "      <td>1.392857</td>\n",
       "      <td>4.428571</td>\n",
       "      <td>24.428571</td>\n",
       "      <td>27.321429</td>\n",
       "      <td>7721.734107</td>\n",
       "    </tr>\n",
       "    <tr>\n",
       "      <th>3</th>\n",
       "      <td>19991</td>\n",
       "      <td>0</td>\n",
       "      <td>4.103448</td>\n",
       "      <td>0.793103</td>\n",
       "      <td>0.241379</td>\n",
       "      <td>0.793103</td>\n",
       "      <td>26.241379</td>\n",
       "      <td>27.241379</td>\n",
       "      <td>6884.835000</td>\n",
       "    </tr>\n",
       "    <tr>\n",
       "      <th>4</th>\n",
       "      <td>20371</td>\n",
       "      <td>0</td>\n",
       "      <td>5.052632</td>\n",
       "      <td>1.421053</td>\n",
       "      <td>1.093567</td>\n",
       "      <td>0.771930</td>\n",
       "      <td>21.122807</td>\n",
       "      <td>25.081871</td>\n",
       "      <td>4685.818275</td>\n",
       "    </tr>\n",
       "    <tr>\n",
       "      <th>...</th>\n",
       "      <td>...</td>\n",
       "      <td>...</td>\n",
       "      <td>...</td>\n",
       "      <td>...</td>\n",
       "      <td>...</td>\n",
       "      <td>...</td>\n",
       "      <td>...</td>\n",
       "      <td>...</td>\n",
       "      <td>...</td>\n",
       "    </tr>\n",
       "    <tr>\n",
       "      <th>15294</th>\n",
       "      <td>7362310</td>\n",
       "      <td>0</td>\n",
       "      <td>8.589641</td>\n",
       "      <td>2.398406</td>\n",
       "      <td>1.722444</td>\n",
       "      <td>1.555113</td>\n",
       "      <td>26.579017</td>\n",
       "      <td>36.266932</td>\n",
       "      <td>7794.794839</td>\n",
       "    </tr>\n",
       "    <tr>\n",
       "      <th>15295</th>\n",
       "      <td>7363415</td>\n",
       "      <td>0</td>\n",
       "      <td>6.939114</td>\n",
       "      <td>1.297048</td>\n",
       "      <td>1.114391</td>\n",
       "      <td>1.012915</td>\n",
       "      <td>18.822878</td>\n",
       "      <td>26.964945</td>\n",
       "      <td>5112.401839</td>\n",
       "    </tr>\n",
       "    <tr>\n",
       "      <th>15296</th>\n",
       "      <td>7373309</td>\n",
       "      <td>1</td>\n",
       "      <td>5.890578</td>\n",
       "      <td>1.641337</td>\n",
       "      <td>1.471125</td>\n",
       "      <td>1.285714</td>\n",
       "      <td>106.234043</td>\n",
       "      <td>88.194529</td>\n",
       "      <td>25573.025778</td>\n",
       "    </tr>\n",
       "    <tr>\n",
       "      <th>15297</th>\n",
       "      <td>7373344</td>\n",
       "      <td>0</td>\n",
       "      <td>2.000000</td>\n",
       "      <td>0.400000</td>\n",
       "      <td>0.200000</td>\n",
       "      <td>1.000000</td>\n",
       "      <td>2.400000</td>\n",
       "      <td>4.000000</td>\n",
       "      <td>827.759800</td>\n",
       "    </tr>\n",
       "    <tr>\n",
       "      <th>15298</th>\n",
       "      <td>7375076</td>\n",
       "      <td>0</td>\n",
       "      <td>4.380952</td>\n",
       "      <td>1.285714</td>\n",
       "      <td>0.476190</td>\n",
       "      <td>0.476190</td>\n",
       "      <td>4.666667</td>\n",
       "      <td>10.095238</td>\n",
       "      <td>1649.737476</td>\n",
       "    </tr>\n",
       "  </tbody>\n",
       "</table>\n",
       "<p>15299 rows × 9 columns</p>\n",
       "</div>"
      ],
      "text/plain": [
       "       msno_num  is_churn    num_25    num_50    num_75   num_985     num_100  \\\n",
       "0         12120         0  8.309783  1.961957  1.177536  0.851449   18.677536   \n",
       "1         13193         0  1.086614  0.328084  0.309711  0.451444   12.341207   \n",
       "2         17474         1  2.964286  2.071429  1.392857  4.428571   24.428571   \n",
       "3         19991         0  4.103448  0.793103  0.241379  0.793103   26.241379   \n",
       "4         20371         0  5.052632  1.421053  1.093567  0.771930   21.122807   \n",
       "...         ...       ...       ...       ...       ...       ...         ...   \n",
       "15294   7362310         0  8.589641  2.398406  1.722444  1.555113   26.579017   \n",
       "15295   7363415         0  6.939114  1.297048  1.114391  1.012915   18.822878   \n",
       "15296   7373309         1  5.890578  1.641337  1.471125  1.285714  106.234043   \n",
       "15297   7373344         0  2.000000  0.400000  0.200000  1.000000    2.400000   \n",
       "15298   7375076         0  4.380952  1.285714  0.476190  0.476190    4.666667   \n",
       "\n",
       "         num_unq    total_secs  \n",
       "0      22.920290   5070.038375  \n",
       "1      13.598425   3528.667079  \n",
       "2      27.321429   7721.734107  \n",
       "3      27.241379   6884.835000  \n",
       "4      25.081871   4685.818275  \n",
       "...          ...           ...  \n",
       "15294  36.266932   7794.794839  \n",
       "15295  26.964945   5112.401839  \n",
       "15296  88.194529  25573.025778  \n",
       "15297   4.000000    827.759800  \n",
       "15298  10.095238   1649.737476  \n",
       "\n",
       "[15299 rows x 9 columns]"
      ]
     },
     "execution_count": 262,
     "metadata": {},
     "output_type": "execute_result"
    }
   ],
   "source": [
    "train_log"
   ]
  },
  {
   "cell_type": "code",
   "execution_count": 228,
   "metadata": {},
   "outputs": [
    {
     "data": {
      "image/png": "[encoded data removed]",
      "text/plain": [
       "<Figure size 1200x600 with 8 Axes>"
      ]
     },
     "metadata": {},
     "output_type": "display_data"
    }
   ],
   "source": [
    "fig, axs = plt.subplots(2, 4, figsize=(12, 6))\n",
    "for idx, col in enumerate(['msno_num', 'num_25', 'num_50', 'num_75', 'num_985', 'num_100', 'num_unq', 'total_secs']):\n",
    "    ax = axs.flatten()[idx]\n",
    "    jm.compare_density(train_log, col, ax=ax)\n",
    "    ax.set_title(col)\n",
    "    ax.set_xlabel('Density')\n",
    "    ax.set_ylabel('Frequency')\n",
    "    \n",
    "plt.tight_layout()\n",
    "plt.show()"
   ]
  },
  {
   "cell_type": "code",
   "execution_count": 287,
   "metadata": {},
   "outputs": [
    {
     "data": {
      "text/plain": [
       "(1099654482.137567, 6952.987861029869)"
      ]
     },
     "execution_count": 287,
     "metadata": {},
     "output_type": "execute_result"
    }
   ],
   "source": [
    "train_log[train_log['is_churn'] == 0]['total_secs'].mean(), train_log[train_log['is_churn'] == 1]['total_secs'].mean()"
   ]
  },
  {
   "cell_type": "code",
   "execution_count": 289,
   "metadata": {},
   "outputs": [
    {
     "data": {
      "text/plain": [
       "14686898154304.082"
      ]
     },
     "execution_count": 289,
     "metadata": {},
     "output_type": "execute_result"
    }
   ],
   "source": [
    "(train_log[train_log['is_churn'] == 0]['total_secs']).max()"
   ]
  },
  {
   "cell_type": "code",
   "execution_count": 291,
   "metadata": {},
   "outputs": [
    {
     "data": {
      "text/html": [
       "<div>\n",
       "<style scoped>\n",
       "    .dataframe tbody tr th:only-of-type {\n",
       "        vertical-align: middle;\n",
       "    }\n",
       "\n",
       "    .dataframe tbody tr th {\n",
       "        vertical-align: top;\n",
       "    }\n",
       "\n",
       "    .dataframe thead th {\n",
       "        text-align: right;\n",
       "    }\n",
       "</style>\n",
       "<table border=\"1\" class=\"dataframe\">\n",
       "  <thead>\n",
       "    <tr style=\"text-align: right;\">\n",
       "      <th></th>\n",
       "      <th>msno_num</th>\n",
       "      <th>is_churn</th>\n",
       "      <th>num_25</th>\n",
       "      <th>num_50</th>\n",
       "      <th>num_75</th>\n",
       "      <th>num_985</th>\n",
       "      <th>num_100</th>\n",
       "      <th>num_unq</th>\n",
       "      <th>total_secs</th>\n",
       "    </tr>\n",
       "  </thead>\n",
       "  <tbody>\n",
       "    <tr>\n",
       "      <th>6013</th>\n",
       "      <td>5599444</td>\n",
       "      <td>0</td>\n",
       "      <td>1.737261</td>\n",
       "      <td>0.417197</td>\n",
       "      <td>0.340764</td>\n",
       "      <td>0.43949</td>\n",
       "      <td>25.914013</td>\n",
       "      <td>22.292994</td>\n",
       "      <td>1.468690e+13</td>\n",
       "    </tr>\n",
       "  </tbody>\n",
       "</table>\n",
       "</div>"
      ],
      "text/plain": [
       "      msno_num  is_churn    num_25    num_50    num_75  num_985    num_100  \\\n",
       "6013   5599444         0  1.737261  0.417197  0.340764  0.43949  25.914013   \n",
       "\n",
       "        num_unq    total_secs  \n",
       "6013  22.292994  1.468690e+13  "
      ]
     },
     "execution_count": 291,
     "metadata": {},
     "output_type": "execute_result"
    }
   ],
   "source": [
    "train_log[train_log['total_secs'] == train_log['total_secs'].max()]"
   ]
  },
  {
   "cell_type": "code",
   "execution_count": 293,
   "metadata": {},
   "outputs": [
    {
     "data": {
      "text/html": [
       "<div>\n",
       "<style scoped>\n",
       "    .dataframe tbody tr th:only-of-type {\n",
       "        vertical-align: middle;\n",
       "    }\n",
       "\n",
       "    .dataframe tbody tr th {\n",
       "        vertical-align: top;\n",
       "    }\n",
       "\n",
       "    .dataframe thead th {\n",
       "        text-align: right;\n",
       "    }\n",
       "</style>\n",
       "<table border=\"1\" class=\"dataframe\">\n",
       "  <thead>\n",
       "    <tr style=\"text-align: right;\">\n",
       "      <th></th>\n",
       "      <th>msno_num</th>\n",
       "      <th>date</th>\n",
       "      <th>num_25</th>\n",
       "      <th>num_50</th>\n",
       "      <th>num_75</th>\n",
       "      <th>num_985</th>\n",
       "      <th>num_100</th>\n",
       "      <th>num_unq</th>\n",
       "      <th>total_secs</th>\n",
       "    </tr>\n",
       "  </thead>\n",
       "  <tbody>\n",
       "    <tr>\n",
       "      <th>1656960</th>\n",
       "      <td>5599444</td>\n",
       "      <td>20150816</td>\n",
       "      <td>1</td>\n",
       "      <td>0</td>\n",
       "      <td>0</td>\n",
       "      <td>0</td>\n",
       "      <td>2</td>\n",
       "      <td>3</td>\n",
       "      <td>-9.223372e+15</td>\n",
       "    </tr>\n",
       "    <tr>\n",
       "      <th>1656899</th>\n",
       "      <td>5599444</td>\n",
       "      <td>20151004</td>\n",
       "      <td>1</td>\n",
       "      <td>0</td>\n",
       "      <td>0</td>\n",
       "      <td>0</td>\n",
       "      <td>9</td>\n",
       "      <td>10</td>\n",
       "      <td>-9.223372e+15</td>\n",
       "    </tr>\n",
       "    <tr>\n",
       "      <th>1656973</th>\n",
       "      <td>5599444</td>\n",
       "      <td>20150817</td>\n",
       "      <td>13</td>\n",
       "      <td>0</td>\n",
       "      <td>0</td>\n",
       "      <td>0</td>\n",
       "      <td>296</td>\n",
       "      <td>13</td>\n",
       "      <td>-9.223372e+15</td>\n",
       "    </tr>\n",
       "    <tr>\n",
       "      <th>1657090</th>\n",
       "      <td>5599444</td>\n",
       "      <td>20150828</td>\n",
       "      <td>1</td>\n",
       "      <td>1</td>\n",
       "      <td>1</td>\n",
       "      <td>2</td>\n",
       "      <td>20</td>\n",
       "      <td>9</td>\n",
       "      <td>-9.223372e+15</td>\n",
       "    </tr>\n",
       "    <tr>\n",
       "      <th>1656755</th>\n",
       "      <td>5599444</td>\n",
       "      <td>20150920</td>\n",
       "      <td>0</td>\n",
       "      <td>0</td>\n",
       "      <td>1</td>\n",
       "      <td>0</td>\n",
       "      <td>26</td>\n",
       "      <td>27</td>\n",
       "      <td>-9.223372e+15</td>\n",
       "    </tr>\n",
       "    <tr>\n",
       "      <th>...</th>\n",
       "      <td>...</td>\n",
       "      <td>...</td>\n",
       "      <td>...</td>\n",
       "      <td>...</td>\n",
       "      <td>...</td>\n",
       "      <td>...</td>\n",
       "      <td>...</td>\n",
       "      <td>...</td>\n",
       "      <td>...</td>\n",
       "    </tr>\n",
       "    <tr>\n",
       "      <th>1657122</th>\n",
       "      <td>5599444</td>\n",
       "      <td>20160828</td>\n",
       "      <td>0</td>\n",
       "      <td>1</td>\n",
       "      <td>0</td>\n",
       "      <td>0</td>\n",
       "      <td>116</td>\n",
       "      <td>108</td>\n",
       "      <td>2.681623e+04</td>\n",
       "    </tr>\n",
       "    <tr>\n",
       "      <th>1656715</th>\n",
       "      <td>5599444</td>\n",
       "      <td>20170115</td>\n",
       "      <td>0</td>\n",
       "      <td>0</td>\n",
       "      <td>0</td>\n",
       "      <td>1</td>\n",
       "      <td>113</td>\n",
       "      <td>86</td>\n",
       "      <td>2.805360e+04</td>\n",
       "    </tr>\n",
       "    <tr>\n",
       "      <th>1657290</th>\n",
       "      <td>5599444</td>\n",
       "      <td>20170320</td>\n",
       "      <td>8</td>\n",
       "      <td>2</td>\n",
       "      <td>4</td>\n",
       "      <td>1</td>\n",
       "      <td>111</td>\n",
       "      <td>109</td>\n",
       "      <td>2.820872e+04</td>\n",
       "    </tr>\n",
       "    <tr>\n",
       "      <th>1657081</th>\n",
       "      <td>5599444</td>\n",
       "      <td>20160404</td>\n",
       "      <td>3</td>\n",
       "      <td>0</td>\n",
       "      <td>0</td>\n",
       "      <td>0</td>\n",
       "      <td>124</td>\n",
       "      <td>52</td>\n",
       "      <td>3.280939e+04</td>\n",
       "    </tr>\n",
       "    <tr>\n",
       "      <th>1656910</th>\n",
       "      <td>5599444</td>\n",
       "      <td>20150809</td>\n",
       "      <td>0</td>\n",
       "      <td>0</td>\n",
       "      <td>0</td>\n",
       "      <td>0</td>\n",
       "      <td>1</td>\n",
       "      <td>1</td>\n",
       "      <td>9.223372e+15</td>\n",
       "    </tr>\n",
       "  </tbody>\n",
       "</table>\n",
       "<p>642 rows × 9 columns</p>\n",
       "</div>"
      ],
      "text/plain": [
       "         msno_num      date  num_25  num_50  num_75  num_985  num_100  \\\n",
       "1656960   5599444  20150816       1       0       0        0        2   \n",
       "1656899   5599444  20151004       1       0       0        0        9   \n",
       "1656973   5599444  20150817      13       0       0        0      296   \n",
       "1657090   5599444  20150828       1       1       1        2       20   \n",
       "1656755   5599444  20150920       0       0       1        0       26   \n",
       "...           ...       ...     ...     ...     ...      ...      ...   \n",
       "1657122   5599444  20160828       0       1       0        0      116   \n",
       "1656715   5599444  20170115       0       0       0        1      113   \n",
       "1657290   5599444  20170320       8       2       4        1      111   \n",
       "1657081   5599444  20160404       3       0       0        0      124   \n",
       "1656910   5599444  20150809       0       0       0        0        1   \n",
       "\n",
       "         num_unq    total_secs  \n",
       "1656960        3 -9.223372e+15  \n",
       "1656899       10 -9.223372e+15  \n",
       "1656973       13 -9.223372e+15  \n",
       "1657090        9 -9.223372e+15  \n",
       "1656755       27 -9.223372e+15  \n",
       "...          ...           ...  \n",
       "1657122      108  2.681623e+04  \n",
       "1656715       86  2.805360e+04  \n",
       "1657290      109  2.820872e+04  \n",
       "1657081       52  3.280939e+04  \n",
       "1656910        1  9.223372e+15  \n",
       "\n",
       "[642 rows x 9 columns]"
      ]
     },
     "execution_count": 293,
     "metadata": {},
     "output_type": "execute_result"
    }
   ],
   "source": [
    "userlog_df[userlog_df['msno_num'] == 5599444].sort_values('total_secs')"
   ]
  },
  {
   "cell_type": "code",
   "execution_count": 169,
   "metadata": {},
   "outputs": [],
   "source": [
    "userlog_df['date'] =pd.to_datetime(userlog_df['date'], format='%Y%m%d')"
   ]
  },
  {
   "cell_type": "code",
   "execution_count": 170,
   "metadata": {},
   "outputs": [
    {
     "data": {
      "text/plain": [
       "<AxesSubplot: xlabel='date', ylabel='Count'>"
      ]
     },
     "execution_count": 170,
     "metadata": {},
     "output_type": "execute_result"
    },
    {
     "data": {
      "image/png": "[encoded data removed]",
      "text/plain": [
       "<Figure size 640x480 with 1 Axes>"
      ]
     },
     "metadata": {},
     "output_type": "display_data"
    }
   ],
   "source": [
    "# 유저 로그가 선형적으로 증가하는 모습을 보임\n",
    "# 주기성은 어느정도 있는 것으로 보임\n",
    "\n",
    "sns.histplot(userlog_df['date'])"
   ]
  },
  {
   "cell_type": "code",
   "execution_count": 317,
   "metadata": {},
   "outputs": [],
   "source": [
    "score = dict(zip(pd.to_datetime(pd.date_range('2015-01-01', '2017-03-31'), '%Y%m%d'), np.linspace(0,1,821)))"
   ]
  },
  {
   "cell_type": "code",
   "execution_count": 318,
   "metadata": {},
   "outputs": [],
   "source": [
    "userlog_df['active_score'] = userlog_df['date'].map(score)"
   ]
  },
  {
   "cell_type": "code",
   "execution_count": 319,
   "metadata": {},
   "outputs": [
    {
     "data": {
      "text/html": [
       "<div>\n",
       "<style scoped>\n",
       "    .dataframe tbody tr th:only-of-type {\n",
       "        vertical-align: middle;\n",
       "    }\n",
       "\n",
       "    .dataframe tbody tr th {\n",
       "        vertical-align: top;\n",
       "    }\n",
       "\n",
       "    .dataframe thead th {\n",
       "        text-align: right;\n",
       "    }\n",
       "</style>\n",
       "<table border=\"1\" class=\"dataframe\">\n",
       "  <thead>\n",
       "    <tr style=\"text-align: right;\">\n",
       "      <th></th>\n",
       "      <th>msno_num</th>\n",
       "      <th>date</th>\n",
       "      <th>num_25</th>\n",
       "      <th>num_50</th>\n",
       "      <th>num_75</th>\n",
       "      <th>num_985</th>\n",
       "      <th>num_100</th>\n",
       "      <th>num_unq</th>\n",
       "      <th>total_secs</th>\n",
       "      <th>active_score</th>\n",
       "    </tr>\n",
       "  </thead>\n",
       "  <tbody>\n",
       "    <tr>\n",
       "      <th>0</th>\n",
       "      <td>311995</td>\n",
       "      <td>20150127</td>\n",
       "      <td>6</td>\n",
       "      <td>3</td>\n",
       "      <td>2</td>\n",
       "      <td>2</td>\n",
       "      <td>25</td>\n",
       "      <td>22</td>\n",
       "      <td>7311.623</td>\n",
       "      <td>NaN</td>\n",
       "    </tr>\n",
       "    <tr>\n",
       "      <th>1</th>\n",
       "      <td>311995</td>\n",
       "      <td>20150520</td>\n",
       "      <td>4</td>\n",
       "      <td>1</td>\n",
       "      <td>2</td>\n",
       "      <td>0</td>\n",
       "      <td>13</td>\n",
       "      <td>12</td>\n",
       "      <td>3252.325</td>\n",
       "      <td>NaN</td>\n",
       "    </tr>\n",
       "    <tr>\n",
       "      <th>2</th>\n",
       "      <td>311995</td>\n",
       "      <td>20150728</td>\n",
       "      <td>0</td>\n",
       "      <td>1</td>\n",
       "      <td>0</td>\n",
       "      <td>0</td>\n",
       "      <td>12</td>\n",
       "      <td>11</td>\n",
       "      <td>3135.897</td>\n",
       "      <td>NaN</td>\n",
       "    </tr>\n",
       "    <tr>\n",
       "      <th>3</th>\n",
       "      <td>311995</td>\n",
       "      <td>20151125</td>\n",
       "      <td>2</td>\n",
       "      <td>0</td>\n",
       "      <td>2</td>\n",
       "      <td>3</td>\n",
       "      <td>27</td>\n",
       "      <td>20</td>\n",
       "      <td>6353.843</td>\n",
       "      <td>NaN</td>\n",
       "    </tr>\n",
       "    <tr>\n",
       "      <th>4</th>\n",
       "      <td>311995</td>\n",
       "      <td>20160418</td>\n",
       "      <td>0</td>\n",
       "      <td>0</td>\n",
       "      <td>0</td>\n",
       "      <td>0</td>\n",
       "      <td>21</td>\n",
       "      <td>14</td>\n",
       "      <td>2991.098</td>\n",
       "      <td>NaN</td>\n",
       "    </tr>\n",
       "    <tr>\n",
       "      <th>...</th>\n",
       "      <td>...</td>\n",
       "      <td>...</td>\n",
       "      <td>...</td>\n",
       "      <td>...</td>\n",
       "      <td>...</td>\n",
       "      <td>...</td>\n",
       "      <td>...</td>\n",
       "      <td>...</td>\n",
       "      <td>...</td>\n",
       "      <td>...</td>\n",
       "    </tr>\n",
       "    <tr>\n",
       "      <th>4454855</th>\n",
       "      <td>7301526</td>\n",
       "      <td>20161226</td>\n",
       "      <td>4</td>\n",
       "      <td>1</td>\n",
       "      <td>4</td>\n",
       "      <td>1</td>\n",
       "      <td>50</td>\n",
       "      <td>10</td>\n",
       "      <td>12926.347</td>\n",
       "      <td>NaN</td>\n",
       "    </tr>\n",
       "    <tr>\n",
       "      <th>4454856</th>\n",
       "      <td>7301526</td>\n",
       "      <td>20161228</td>\n",
       "      <td>0</td>\n",
       "      <td>1</td>\n",
       "      <td>3</td>\n",
       "      <td>0</td>\n",
       "      <td>6</td>\n",
       "      <td>2</td>\n",
       "      <td>1969.598</td>\n",
       "      <td>NaN</td>\n",
       "    </tr>\n",
       "    <tr>\n",
       "      <th>4454857</th>\n",
       "      <td>7301526</td>\n",
       "      <td>20170103</td>\n",
       "      <td>0</td>\n",
       "      <td>0</td>\n",
       "      <td>1</td>\n",
       "      <td>1</td>\n",
       "      <td>0</td>\n",
       "      <td>2</td>\n",
       "      <td>337.562</td>\n",
       "      <td>NaN</td>\n",
       "    </tr>\n",
       "    <tr>\n",
       "      <th>4454858</th>\n",
       "      <td>7301526</td>\n",
       "      <td>20170104</td>\n",
       "      <td>1</td>\n",
       "      <td>1</td>\n",
       "      <td>1</td>\n",
       "      <td>1</td>\n",
       "      <td>8</td>\n",
       "      <td>5</td>\n",
       "      <td>2353.406</td>\n",
       "      <td>NaN</td>\n",
       "    </tr>\n",
       "    <tr>\n",
       "      <th>4454859</th>\n",
       "      <td>7301526</td>\n",
       "      <td>20170105</td>\n",
       "      <td>0</td>\n",
       "      <td>0</td>\n",
       "      <td>0</td>\n",
       "      <td>2</td>\n",
       "      <td>123</td>\n",
       "      <td>1</td>\n",
       "      <td>25593.268</td>\n",
       "      <td>NaN</td>\n",
       "    </tr>\n",
       "  </tbody>\n",
       "</table>\n",
       "<p>4454860 rows × 10 columns</p>\n",
       "</div>"
      ],
      "text/plain": [
       "         msno_num      date  num_25  num_50  num_75  num_985  num_100  \\\n",
       "0          311995  20150127       6       3       2        2       25   \n",
       "1          311995  20150520       4       1       2        0       13   \n",
       "2          311995  20150728       0       1       0        0       12   \n",
       "3          311995  20151125       2       0       2        3       27   \n",
       "4          311995  20160418       0       0       0        0       21   \n",
       "...           ...       ...     ...     ...     ...      ...      ...   \n",
       "4454855   7301526  20161226       4       1       4        1       50   \n",
       "4454856   7301526  20161228       0       1       3        0        6   \n",
       "4454857   7301526  20170103       0       0       1        1        0   \n",
       "4454858   7301526  20170104       1       1       1        1        8   \n",
       "4454859   7301526  20170105       0       0       0        2      123   \n",
       "\n",
       "         num_unq  total_secs  active_score  \n",
       "0             22    7311.623           NaN  \n",
       "1             12    3252.325           NaN  \n",
       "2             11    3135.897           NaN  \n",
       "3             20    6353.843           NaN  \n",
       "4             14    2991.098           NaN  \n",
       "...          ...         ...           ...  \n",
       "4454855       10   12926.347           NaN  \n",
       "4454856        2    1969.598           NaN  \n",
       "4454857        2     337.562           NaN  \n",
       "4454858        5    2353.406           NaN  \n",
       "4454859        1   25593.268           NaN  \n",
       "\n",
       "[4454860 rows x 10 columns]"
      ]
     },
     "execution_count": 319,
     "metadata": {},
     "output_type": "execute_result"
    }
   ],
   "source": [
    "userlog_df"
   ]
  },
  {
   "cell_type": "code",
   "execution_count": 312,
   "metadata": {},
   "outputs": [],
   "source": [
    "user_active_score = userlog_df.groupby('msno_num')[['active_score']].mean()"
   ]
  },
  {
   "cell_type": "code",
   "execution_count": 297,
   "metadata": {},
   "outputs": [],
   "source": [
    "train_user_active = train_df.join(user_active_score, on='msno_num', how='inner')"
   ]
  },
  {
   "cell_type": "code",
   "execution_count": 298,
   "metadata": {},
   "outputs": [
    {
     "data": {
      "image/png": "[encoded data removed]",
      "text/plain": [
       "<Figure size 640x480 with 1 Axes>"
      ]
     },
     "metadata": {},
     "output_type": "display_data"
    }
   ],
   "source": [
    "jm.compare_density(train_user_active, 'active_score')"
   ]
  },
  {
   "cell_type": "code",
   "execution_count": null,
   "metadata": {},
   "outputs": [],
   "source": []
  }
 ],
 "metadata": {
  "kernelspec": {
   "display_name": "ds_study",
   "language": "python",
   "name": "python3"
  },
  "language_info": {
   "codemirror_mode": {
    "name": "ipython",
    "version": 3
   },
   "file_extension": ".py",
   "mimetype": "text/x-python",
   "name": "python",
   "nbconvert_exporter": "python",
   "pygments_lexer": "ipython3",
   "version": "3.9.13"
  },
  "orig_nbformat": 4,
  "vscode": {
   "interpreter": {
    "hash": "ee24105d9053af755242f68e5a57bab698c7b172ade319007fef3421f55023b2"
   }
  }
 },
 "nbformat": 4,
 "nbformat_minor": 2
}
