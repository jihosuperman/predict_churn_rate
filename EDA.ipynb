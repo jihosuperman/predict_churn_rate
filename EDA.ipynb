{
 "cells": [
  {
   "attachments": {},
   "cell_type": "markdown",
   "metadata": {},
   "source": [
    "# **음악 스트리밍 서비스 kkbox의 고객 이탈률 예측**</br>\n",
    "\n",
    "\n",
    "## **프로젝트의 필요성**</br>\n",
    "> </br>\n",
    "> 기업의 입장에서, 매출을 발생시키는 고객을 신규 유입시키는 데 발생하는 비용보다 기존 고객을 이탈하지 않도록 유지하는 비용이 더 낮음.\n",
    ">\n",
    "> 특히 음악 스트리밍과 같은 구독형 비즈니스 모델을 가진 서비스의 경우 기존 고객이 이탈하지 않도록 유지하는 것은 현재의 매출만이 아닌 미래의 현금 흐름 창출에도 중요한 요소로 작용.\n",
    "> \n",
    "> 또한 고객의 이탈 데이터를 분석하여 현재 서비스 개선에 대한 의사결정의 근거를 마련할 수 있음.</br>\n",
    "> </br>\n",
    "\n",
    "## **목표**</br>\n",
    "> </br>\n",
    "> - 1차 : 머신 러닝을 통한 고객 전환 예측</br></br>\n",
    "> - 2차 : 대쉬보드 생성</br></br>\n",
    "> - 3차 : Slack을 통해 이탈 가능성이 높은 고객의 정보를 자동으로 전달할 수 있도록 시스템 구축</br>\n",
    "></br>\n",
    "\n",
    "## 추가적으로 생각해볼 수 있는 features\n",
    "\n",
    "> </br>\n",
    "> 사용자의 서비스 사용 횟수(일 단위) / 사용자의 총 서비스 가입 기간</br></br>\n",
    "> </br></br>\n",
    "> </br>\n",
    "></br> "
   ]
  },
  {
   "cell_type": "code",
   "execution_count": 44,
   "metadata": {},
   "outputs": [],
   "source": [
    "import matplotlib.pyplot as plt\n",
    "import pandas as pd\n",
    "import jiho_module as jm\n",
    "import numpy as np\n",
    "import seaborn as sns\n",
    "from pyspark.sql import SparkSession\n",
    "from pyspark.sql.functions import col, min, max, datediff, sum, when, to_date, concat_ws, substring, lag, avg, count\n",
    "from pyspark.sql.types import DateType\n",
    "from pyspark.sql.window import Window\n"
   ]
  },
  {
   "cell_type": "code",
   "execution_count": 2,
   "metadata": {},
   "outputs": [],
   "source": [
    "spark = SparkSession.builder.appName('predict_chrun_rate').getOrCreate()"
   ]
  },
  {
   "cell_type": "code",
   "execution_count": 13,
   "metadata": {},
   "outputs": [],
   "source": [
    "train_df_v2 = spark.read.option('header', 'true').csv('D:/kkbox-churn-prediction-challenge/data/churn_comp_refresh/train_v2.csv', inferSchema=True)\n",
    "train_df = spark.read.option('header', 'true').csv('D:/kkbox-churn-prediction-challenge/data/churn_comp_refresh/train.csv', inferSchema=True)\n",
    "members_df_v3 = spark.read.option('header', 'true').csv('D:/kkbox-churn-prediction-challenge/data/churn_comp_refresh/members_v3.csv', inferSchema=True)\n",
    "transactions_df_v2 = spark.read.option('header', 'true').csv('D:/kkbox-churn-prediction-challenge/data/churn_comp_refresh/transactions_v2.csv', inferSchema=True)\n",
    "transactions_df = spark.read.option('header', 'true').csv('D:/kkbox-churn-prediction-challenge/data/churn_comp_refresh/transactions.csv', inferSchema=True)\n",
    "user_logs_df_v2 = spark.read.option('header', 'true').csv('D:/kkbox-churn-prediction-challenge/data/churn_comp_refresh/user_logs_v2.csv', inferSchema=True)\n",
    "user_logs_df = spark.read.option('header', 'true').csv('D:/kkbox-churn-prediction-challenge/data/churn_comp_refresh/user_logs.csv', inferSchema=True)"
   ]
  },
  {
   "cell_type": "code",
   "execution_count": 75,
   "metadata": {},
   "outputs": [],
   "source": [
    "train_df_merged = train_df_v2.unionAll(train_df)\n",
    "train_df_merged = train_df_merged.drop_duplicates(['msno'])\n",
    "transactions_df_merged = transactions_df.unionAll(transactions_df_v2)\n",
    "user_logs_df_merged = user_logs_df.unionAll(user_logs_df_v2)"
   ]
  },
  {
   "cell_type": "code",
   "execution_count": 15,
   "metadata": {},
   "outputs": [],
   "source": [
    "members_df_v3 = jm.int_to_date(members_df_v3, 'registration_init_time')\n",
    "transactions_df_merged = jm.int_to_date(transactions_df_merged, 'transaction_date')\n",
    "transactions_df_merged = jm.int_to_date(transactions_df_merged, 'membership_expire_date')\n",
    "user_logs_df_merged = jm.int_to_date(user_logs_df_merged, 'date')"
   ]
  },
  {
   "attachments": {},
   "cell_type": "markdown",
   "metadata": {},
   "source": [
    "### train_df 살펴보기"
   ]
  },
  {
   "cell_type": "code",
   "execution_count": 21,
   "metadata": {},
   "outputs": [
    {
     "name": "stdout",
     "output_type": "stream",
     "text": [
      "root\n",
      " |-- msno: string (nullable = true)\n",
      " |-- is_churn: integer (nullable = true)\n",
      "\n"
     ]
    }
   ],
   "source": [
    "train_df_merged.printSchema()"
   ]
  },
  {
   "cell_type": "code",
   "execution_count": 118,
   "metadata": {},
   "outputs": [
    {
     "data": {
      "text/plain": [
       "(1963891, 1082190)"
      ]
     },
     "execution_count": 118,
     "metadata": {},
     "output_type": "execute_result"
    }
   ],
   "source": [
    "train_df_merged.count(), train_df_merged.select('msno').distinct().count()"
   ]
  },
  {
   "cell_type": "code",
   "execution_count": 7,
   "metadata": {},
   "outputs": [],
   "source": [
    "train_df_merged = train_df_merged.drop_duplicates(['msno'])"
   ]
  },
  {
   "cell_type": "code",
   "execution_count": 8,
   "metadata": {},
   "outputs": [],
   "source": [
    "train_test = train_df_merged.unionAll(test)"
   ]
  },
  {
   "cell_type": "code",
   "execution_count": 9,
   "metadata": {},
   "outputs": [
    {
     "data": {
      "text/plain": [
       "907471"
      ]
     },
     "execution_count": 9,
     "metadata": {},
     "output_type": "execute_result"
    }
   ],
   "source": [
    "test.select('msno').count()"
   ]
  },
  {
   "cell_type": "code",
   "execution_count": 10,
   "metadata": {},
   "outputs": [
    {
     "data": {
      "text/plain": [
       "907471"
      ]
     },
     "execution_count": 10,
     "metadata": {},
     "output_type": "execute_result"
    }
   ],
   "source": [
    "test.select('msno').distinct().count()"
   ]
  },
  {
   "cell_type": "code",
   "execution_count": 11,
   "metadata": {},
   "outputs": [
    {
     "data": {
      "text/plain": [
       "1143472"
      ]
     },
     "execution_count": 11,
     "metadata": {},
     "output_type": "execute_result"
    }
   ],
   "source": [
    "train_test.select('msno').distinct().count()"
   ]
  },
  {
   "cell_type": "code",
   "execution_count": 124,
   "metadata": {},
   "outputs": [
    {
     "data": {
      "text/plain": [
       "1082190"
      ]
     },
     "execution_count": 124,
     "metadata": {},
     "output_type": "execute_result"
    }
   ],
   "source": [
    "train_df_merged.count()"
   ]
  },
  {
   "cell_type": "code",
   "execution_count": 20,
   "metadata": {},
   "outputs": [
    {
     "data": {
      "text/plain": [
       "0"
      ]
     },
     "execution_count": 20,
     "metadata": {},
     "output_type": "execute_result"
    }
   ],
   "source": [
    "test.filter(col('msno')==1).count()"
   ]
  },
  {
   "cell_type": "code",
   "execution_count": 6,
   "metadata": {},
   "outputs": [
    {
     "name": "stdout",
     "output_type": "stream",
     "text": [
      "929460 63471 6.39 %\n",
      "883630 87330 8.99 %\n",
      "947710 134480 13.85 %\n"
     ]
    }
   ],
   "source": [
    "print(train_df.filter(col('is_churn') == 0).count(), \n",
    "      train_df.filter(col('is_churn') == 1).count(), \n",
    "      round(train_df.filter(col('is_churn') == 1).count()/train_df.count()*100, 2), '%')\n",
    "print(train_df_v2.filter(col('is_churn') == 0).count(), \n",
    "      train_df_v2.filter(col('is_churn') == 1).count(), \n",
    "      round(train_df_v2.filter(col('is_churn') == 1).count()/train_df_v2.count()*100, 2), '%')\n",
    "print(train_df_merged.filter(col('is_churn') == 0).count(), \n",
    "      train_df_merged.filter(col('is_churn') == 1).count(), \n",
    "      round(train_df_merged.filter(col('is_churn') == 1).count()/train_df_v2.count()*100, 2), '%')"
   ]
  },
  {
   "cell_type": "code",
   "execution_count": 7,
   "metadata": {},
   "outputs": [],
   "source": [
    "train_df_merged_grouped = train_df_merged.groupBy('is_churn').count()"
   ]
  },
  {
   "cell_type": "code",
   "execution_count": 9,
   "metadata": {},
   "outputs": [
    {
     "name": "stdout",
     "output_type": "stream",
     "text": [
      "+--------+------+\n",
      "|is_churn| count|\n",
      "+--------+------+\n",
      "|       1|134480|\n",
      "|       0|947710|\n",
      "+--------+------+\n",
      "\n"
     ]
    }
   ],
   "source": [
    "train_df_merged_grouped.show()"
   ]
  },
  {
   "cell_type": "code",
   "execution_count": 22,
   "metadata": {},
   "outputs": [
    {
     "data": {
      "text/plain": [
       "array([1, 0])"
      ]
     },
     "execution_count": 22,
     "metadata": {},
     "output_type": "execute_result"
    }
   ],
   "source": [
    "np.array(train_df_merged_grouped.select('is_churn').collect()).reshape(-1)\n",
    "np.array(train_df_merged_grouped.select('count').collect()).reshape(-1)"
   ]
  },
  {
   "cell_type": "code",
   "execution_count": 27,
   "metadata": {},
   "outputs": [
    {
     "data": {
      "image/png": "[encoded data removed]",
      "text/plain": [
       "<Figure size 500x500 with 1 Axes>"
      ]
     },
     "metadata": {},
     "output_type": "display_data"
    }
   ],
   "source": [
    "plt.figure(figsize=(5,5))\n",
    "plt.bar(x=np.array(train_df_merged_grouped.select('is_churn').collect()).reshape(-1),\n",
    "        height=np.array(train_df_merged_grouped.select('count').collect()).reshape(-1))\n",
    "plt.xticks([0,1])\n",
    "plt.show()"
   ]
  },
  {
   "cell_type": "code",
   "execution_count": 45,
   "metadata": {},
   "outputs": [
    {
     "name": "stdout",
     "output_type": "stream",
     "text": [
      "0\n",
      "0\n",
      "0\n",
      "0\n"
     ]
    }
   ],
   "source": [
    "print(train_df.filter(col('msno').isNull()).count())\n",
    "print(train_df.filter(col('is_churn').isNull()).count())\n",
    "print(train_df_v2.filter(col('msno').isNull()).count())\n",
    "print(train_df_v2.filter(col('is_churn').isNull()).count())"
   ]
  },
  {
   "cell_type": "code",
   "execution_count": 48,
   "metadata": {},
   "outputs": [
    {
     "name": "stdout",
     "output_type": "stream",
     "text": [
      "992931\n",
      "970960\n"
     ]
    }
   ],
   "source": [
    "print(train_df.select('msno').distinct().count())\n",
    "print(train_df_v2.select('msno').distinct().count())"
   ]
  },
  {
   "attachments": {},
   "cell_type": "markdown",
   "metadata": {},
   "source": [
    "### members_df 살펴보기\n",
    "\n",
    "- members_df는 v2가 없고 v3만 있음\n",
    "- v3는 2017년 11월 13일에 업데이트가 진행되었으며, 다른 데이터의 경우 2017년 3월 31일까지의 데이터만 담고 있음"
   ]
  },
  {
   "cell_type": "code",
   "execution_count": 49,
   "metadata": {},
   "outputs": [
    {
     "data": {
      "text/plain": [
       "Row(msno='Rb9UwLQTrxzBVwCB6+bCcSQWZ9JiNLC9dXtM1oEsZA8=', city=1, bd=0, gender=None, registered_via=11, registration_init_time=20110911)"
      ]
     },
     "execution_count": 49,
     "metadata": {},
     "output_type": "execute_result"
    }
   ],
   "source": [
    "members_df_v3.head()"
   ]
  },
  {
   "cell_type": "code",
   "execution_count": 52,
   "metadata": {},
   "outputs": [
    {
     "name": "stdout",
     "output_type": "stream",
     "text": [
      "msno : 0\n",
      "city : 0\n",
      "bd : 0\n",
      "gender : 4429505\n",
      "registered_via : 0\n",
      "registration_init_time : 0\n"
     ]
    }
   ],
   "source": [
    "print('msno :', members_df_v3.filter(col('msno').isNull()).count())\n",
    "print('city :', members_df_v3.filter(col('city').isNull()).count())\n",
    "print('bd :',members_df_v3.filter(col('bd').isNull()).count())\n",
    "print('gender :',members_df_v3.filter(col('gender').isNull()).count())\n",
    "print('registered_via :',members_df_v3.filter(col('registered_via').isNull()).count())\n",
    "print('registration_init_time :',members_df_v3.filter(col('registration_init_time').isNull()).count())"
   ]
  },
  {
   "cell_type": "code",
   "execution_count": 54,
   "metadata": {},
   "outputs": [
    {
     "name": "stdout",
     "output_type": "stream",
     "text": [
      "bd == 0 : 4540215\n"
     ]
    }
   ],
   "source": [
    "print('bd == 0 :',members_df_v3.filter(col('bd')==0).count())"
   ]
  },
  {
   "cell_type": "code",
   "execution_count": 60,
   "metadata": {},
   "outputs": [
    {
     "name": "stdout",
     "output_type": "stream",
     "text": [
      "distinct city : [Row(city=1), Row(city=3), Row(city=4), Row(city=5), Row(city=6), Row(city=7), Row(city=8), Row(city=9), Row(city=10), Row(city=11), Row(city=12), Row(city=13), Row(city=14), Row(city=15), Row(city=16), Row(city=17), Row(city=18), Row(city=19), Row(city=20), Row(city=21), Row(city=22)]\n"
     ]
    }
   ],
   "source": [
    "print('distinct city :', members_df_v3.select('city').distinct().orderBy(col('city')).collect())"
   ]
  },
  {
   "cell_type": "code",
   "execution_count": 61,
   "metadata": {},
   "outputs": [
    {
     "name": "stdout",
     "output_type": "stream",
     "text": [
      "distinct registered_via : [Row(registered_via=-1), Row(registered_via=1), Row(registered_via=2), Row(registered_via=3), Row(registered_via=4), Row(registered_via=5), Row(registered_via=6), Row(registered_via=7), Row(registered_via=8), Row(registered_via=9), Row(registered_via=10), Row(registered_via=11), Row(registered_via=13), Row(registered_via=14), Row(registered_via=16), Row(registered_via=17), Row(registered_via=18), Row(registered_via=19)]\n"
     ]
    }
   ],
   "source": [
    "print('distinct registered_via :', members_df_v3.select('registered_via').distinct().orderBy(col('registered_via')).collect())"
   ]
  },
  {
   "cell_type": "code",
   "execution_count": 63,
   "metadata": {},
   "outputs": [
    {
     "name": "stdout",
     "output_type": "stream",
     "text": [
      "registered_via == -1 : 1\n"
     ]
    }
   ],
   "source": [
    "print('registered_via == -1 :', members_df_v3.filter(col('registered_via')==-1).count())"
   ]
  },
  {
   "cell_type": "code",
   "execution_count": 37,
   "metadata": {},
   "outputs": [],
   "source": [
    "members_df_v3_groupby_city = members_df_v3.groupBy(\"city\").count().select('*').orderBy('city')\n",
    "members_df_v3_groupby_bd = members_df_v3.groupBy(\"bd\").count().select('*').orderBy('bd')\n",
    "members_df_v3_groupby_registered_via = members_df_v3.groupBy(\"registered_via\").count().select('*').orderBy('registered_via')\n",
    "members_df_v3_groupby_registration_init_time = members_df_v3.groupBy(\"registration_init_time\").count().select('*').orderBy('registration_init_time')"
   ]
  },
  {
   "cell_type": "code",
   "execution_count": 49,
   "metadata": {},
   "outputs": [
    {
     "data": {
      "image/png": "[encoded data removed]",
      "text/plain": [
       "<Figure size 2000x500 with 4 Axes>"
      ]
     },
     "metadata": {},
     "output_type": "display_data"
    }
   ],
   "source": [
    "plt.figure(figsize=(20,5))\n",
    "plt.subplot(1,4,1)\n",
    "plt.bar(x=np.array(members_df_v3_groupby_city.select('city').collect()).reshape(-1),\n",
    "        height=np.array(members_df_v3_groupby_city.select('count').collect()).reshape(-1))\n",
    "plt.title(\"Count per City\")\n",
    "plt.subplot(1,4,2)\n",
    "plt.hist(x=np.array(members_df_v3.select('bd').collect()).reshape(-1))\n",
    "plt.title(\"Count per AGE\")\n",
    "plt.subplot(1,4,3)\n",
    "plt.bar(x=np.array(members_df_v3_groupby_registered_via.select('registered_via').collect()).reshape(-1),\n",
    "        height=np.array(members_df_v3_groupby_registered_via.select('count').collect()).reshape(-1))\n",
    "plt.title(\"Count per registered_via\")\n",
    "plt.subplot(1,4,4)\n",
    "plt.plot(np.array(members_df_v3_groupby_registration_init_time.select('registration_init_time').collect()).reshape(-1))\n",
    "plt.title(\"Count per registration_init_time\")\n",
    "plt.show()"
   ]
  },
  {
   "cell_type": "code",
   "execution_count": 73,
   "metadata": {},
   "outputs": [
    {
     "name": "stdout",
     "output_type": "stream",
     "text": [
      "+---------------------------+\n",
      "|min(registration_init_time)|\n",
      "+---------------------------+\n",
      "|                   20040326|\n",
      "+---------------------------+\n",
      "\n",
      "None\n",
      "+---------------------------+\n",
      "|max(registration_init_time)|\n",
      "+---------------------------+\n",
      "|                   20170429|\n",
      "+---------------------------+\n",
      "\n",
      "None\n"
     ]
    }
   ],
   "source": [
    "print(members_df_v3.select(min('registration_init_time')).show())\n",
    "print(members_df_v3.select(max('registration_init_time')).show())"
   ]
  },
  {
   "attachments": {},
   "cell_type": "markdown",
   "metadata": {},
   "source": [
    "### transaction_df 살펴보기"
   ]
  },
  {
   "cell_type": "code",
   "execution_count": 79,
   "metadata": {},
   "outputs": [
    {
     "name": "stdout",
     "output_type": "stream",
     "text": [
      "root\n",
      " |-- msno: string (nullable = true)\n",
      " |-- payment_method_id: integer (nullable = true)\n",
      " |-- payment_plan_days: integer (nullable = true)\n",
      " |-- plan_list_price: integer (nullable = true)\n",
      " |-- actual_amount_paid: integer (nullable = true)\n",
      " |-- is_auto_renew: integer (nullable = true)\n",
      " |-- transaction_date: integer (nullable = true)\n",
      " |-- membership_expire_date: integer (nullable = true)\n",
      " |-- is_cancel: integer (nullable = true)\n",
      "\n"
     ]
    }
   ],
   "source": [
    "transactions_df_merged.printSchema()"
   ]
  },
  {
   "cell_type": "code",
   "execution_count": 90,
   "metadata": {},
   "outputs": [
    {
     "data": {
      "text/plain": [
       "2426143"
      ]
     },
     "execution_count": 90,
     "metadata": {},
     "output_type": "execute_result"
    }
   ],
   "source": [
    "transactions_df_merged.select('msno').distinct().count()"
   ]
  },
  {
   "cell_type": "code",
   "execution_count": 111,
   "metadata": {},
   "outputs": [
    {
     "data": {
      "text/plain": [
       "Row(msno='YyO+tlZtAXYXoZhNr3Vg3+dfVQvrBVGO8j1mfqe4ZHc=', payment_method_id=41, payment_plan_days=30, plan_list_price=129, actual_amount_paid=129, is_auto_renew=1, transaction_date=20150930, membership_expire_date=20151101, is_cancel=0)"
      ]
     },
     "execution_count": 111,
     "metadata": {},
     "output_type": "execute_result"
    }
   ],
   "source": [
    "transactions_df_merged.head()"
   ]
  },
  {
   "cell_type": "code",
   "execution_count": 107,
   "metadata": {},
   "outputs": [
    {
     "name": "stdout",
     "output_type": "stream",
     "text": [
      "+--------------------+-----------------+-----------------+---------------+------------------+-------------+----------------+----------------------+---------+\n",
      "|                msno|payment_method_id|payment_plan_days|plan_list_price|actual_amount_paid|is_auto_renew|transaction_date|membership_expire_date|is_cancel|\n",
      "+--------------------+-----------------+-----------------+---------------+------------------+-------------+----------------+----------------------+---------+\n",
      "|hqWmt5OeZ3ab3MZdX...|               41|               30|            149|               149|            1|        20150101|              20171106|        0|\n",
      "|hqWmt5OeZ3ab3MZdX...|               41|               30|            149|               149|            1|        20150104|              20171207|        0|\n",
      "|hqWmt5OeZ3ab3MZdX...|               41|               30|            149|               119|            1|        20150123|              20180107|        0|\n",
      "|hqWmt5OeZ3ab3MZdX...|               41|               30|            149|               149|            1|        20150125|              20180207|        0|\n",
      "|hqWmt5OeZ3ab3MZdX...|               41|               30|            149|               149|            1|        20150201|              20180307|        0|\n",
      "|hqWmt5OeZ3ab3MZdX...|               41|               30|            149|               149|            1|        20150204|              20180404|        0|\n",
      "|hqWmt5OeZ3ab3MZdX...|               41|               30|            149|               119|            1|        20150223|              20180502|        0|\n",
      "|hqWmt5OeZ3ab3MZdX...|               41|               30|            149|               149|            1|        20150225|              20180530|        0|\n",
      "|hqWmt5OeZ3ab3MZdX...|               41|               30|            149|               149|            1|        20150301|              20180630|        0|\n",
      "|hqWmt5OeZ3ab3MZdX...|               41|               30|            149|               149|            1|        20150304|              20180731|        0|\n",
      "|hqWmt5OeZ3ab3MZdX...|               41|               30|            149|               119|            1|        20150323|              20180831|        0|\n",
      "|hqWmt5OeZ3ab3MZdX...|               41|               30|            149|               149|            1|        20150325|              20181001|        0|\n",
      "|hqWmt5OeZ3ab3MZdX...|               41|               30|            149|               149|            1|        20150401|              20181031|        0|\n",
      "|hqWmt5OeZ3ab3MZdX...|               41|               30|            149|               149|            1|        20150404|              20181130|        0|\n",
      "|hqWmt5OeZ3ab3MZdX...|               41|                0|              0|               119|            1|        20150423|              20181230|        0|\n",
      "|hqWmt5OeZ3ab3MZdX...|               41|                0|              0|               149|            1|        20150425|              20190129|        0|\n",
      "|hqWmt5OeZ3ab3MZdX...|               41|                0|              0|               149|            1|        20150501|              20190301|        0|\n",
      "|hqWmt5OeZ3ab3MZdX...|               41|                0|              0|               149|            1|        20150504|              20190401|        0|\n",
      "|hqWmt5OeZ3ab3MZdX...|               41|               30|            149|               119|            1|        20150523|              20190502|        0|\n",
      "|hqWmt5OeZ3ab3MZdX...|               41|               30|            149|               149|            1|        20150525|              20190602|        0|\n",
      "+--------------------+-----------------+-----------------+---------------+------------------+-------------+----------------+----------------------+---------+\n",
      "only showing top 20 rows\n",
      "\n"
     ]
    }
   ],
   "source": [
    "transactions_df_merged.filter(col('msno')=='hqWmt5OeZ3ab3MZdXmYlEdMtmsBkKH9/wuqzFYh26W8=').orderBy(col('transaction_date')).show()"
   ]
  },
  {
   "cell_type": "code",
   "execution_count": 110,
   "metadata": {},
   "outputs": [
    {
     "name": "stdout",
     "output_type": "stream",
     "text": [
      "+---------------------+\n",
      "|min(transaction_date)|\n",
      "+---------------------+\n",
      "|             20150101|\n",
      "+---------------------+\n",
      "\n",
      "+---------------------+\n",
      "|max(transaction_date)|\n",
      "+---------------------+\n",
      "|             20170228|\n",
      "+---------------------+\n",
      "\n",
      "+---------------------+\n",
      "|min(transaction_date)|\n",
      "+---------------------+\n",
      "|             20150101|\n",
      "+---------------------+\n",
      "\n",
      "+---------------------+\n",
      "|max(transaction_date)|\n",
      "+---------------------+\n",
      "|             20170331|\n",
      "+---------------------+\n",
      "\n",
      "None None None None\n"
     ]
    }
   ],
   "source": [
    "print(\n",
    "    transactions_df.select(min('transaction_date')).show(),\n",
    "    transactions_df.select(max('transaction_date')).show(),\n",
    "    transactions_df_v2.select(min('transaction_date')).show(),\n",
    "    transactions_df_v2.select(max('transaction_date')).show()\n",
    ")"
   ]
  },
  {
   "cell_type": "code",
   "execution_count": 115,
   "metadata": {},
   "outputs": [
    {
     "name": "stdout",
     "output_type": "stream",
     "text": [
      "+--------------------+-----------------+-----------------+---------------+------------------+-------------+----------------+----------------------+---------+\n",
      "|                msno|payment_method_id|payment_plan_days|plan_list_price|actual_amount_paid|is_auto_renew|transaction_date|membership_expire_date|is_cancel|\n",
      "+--------------------+-----------------+-----------------+---------------+------------------+-------------+----------------+----------------------+---------+\n",
      "|hqWmt5OeZ3ab3MZdX...|               41|               30|            149|               149|            1|        20151223|              20160123|        0|\n",
      "|hqWmt5OeZ3ab3MZdX...|               41|               30|            149|               149|            1|        20151224|              20130602|        1|\n",
      "|hqWmt5OeZ3ab3MZdX...|               41|               30|            149|               149|            1|        20151224|              20131226|        1|\n",
      "|hqWmt5OeZ3ab3MZdX...|               41|               30|            149|               149|            1|        20151224|              20141224|        1|\n",
      "|hqWmt5OeZ3ab3MZdX...|               41|               30|            149|               149|            1|        20160123|              20160223|        0|\n",
      "|hqWmt5OeZ3ab3MZdX...|               41|               30|            149|               149|            1|        20160223|              20160323|        0|\n",
      "|hqWmt5OeZ3ab3MZdX...|               41|               30|            149|               149|            1|        20160323|              20160423|        0|\n",
      "|hqWmt5OeZ3ab3MZdX...|               41|               30|            149|               149|            1|        20160423|              20160523|        0|\n",
      "|hqWmt5OeZ3ab3MZdX...|               41|               30|            149|               149|            1|        20160523|              20160623|        0|\n",
      "|hqWmt5OeZ3ab3MZdX...|               41|               30|            149|               149|            1|        20160623|              20160723|        0|\n",
      "|hqWmt5OeZ3ab3MZdX...|               41|               30|            149|               149|            1|        20160723|              20160823|        0|\n",
      "|hqWmt5OeZ3ab3MZdX...|               41|               30|            149|               149|            1|        20160823|              20160923|        0|\n",
      "|hqWmt5OeZ3ab3MZdX...|               41|               30|            149|               149|            1|        20160923|              20161023|        0|\n",
      "|hqWmt5OeZ3ab3MZdX...|               41|               30|            149|               149|            1|        20161008|              20161008|        1|\n",
      "|hqWmt5OeZ3ab3MZdX...|               38|                7|              0|                 0|            0|        20170105|              20170112|        0|\n",
      "+--------------------+-----------------+-----------------+---------------+------------------+-------------+----------------+----------------------+---------+\n",
      "\n",
      "+--------------------+-----------------+-----------------+---------------+------------------+-------------+----------------+----------------------+---------+\n",
      "|                msno|payment_method_id|payment_plan_days|plan_list_price|actual_amount_paid|is_auto_renew|transaction_date|membership_expire_date|is_cancel|\n",
      "+--------------------+-----------------+-----------------+---------------+------------------+-------------+----------------+----------------------+---------+\n",
      "|hqWmt5OeZ3ab3MZdX...|               41|               30|            149|               149|            1|        20150101|              20171106|        0|\n",
      "|hqWmt5OeZ3ab3MZdX...|               41|               30|            149|               149|            1|        20150104|              20171207|        0|\n",
      "|hqWmt5OeZ3ab3MZdX...|               41|               30|            149|               119|            1|        20150123|              20180107|        0|\n",
      "|hqWmt5OeZ3ab3MZdX...|               41|               30|            149|               149|            1|        20150125|              20180207|        0|\n",
      "|hqWmt5OeZ3ab3MZdX...|               41|               30|            149|               149|            1|        20150201|              20180307|        0|\n",
      "|hqWmt5OeZ3ab3MZdX...|               41|               30|            149|               149|            1|        20150204|              20180404|        0|\n",
      "|hqWmt5OeZ3ab3MZdX...|               41|               30|            149|               119|            1|        20150223|              20180502|        0|\n",
      "|hqWmt5OeZ3ab3MZdX...|               41|               30|            149|               149|            1|        20150225|              20180530|        0|\n",
      "|hqWmt5OeZ3ab3MZdX...|               41|               30|            149|               149|            1|        20150301|              20180630|        0|\n",
      "|hqWmt5OeZ3ab3MZdX...|               41|               30|            149|               149|            1|        20150304|              20180731|        0|\n",
      "|hqWmt5OeZ3ab3MZdX...|               41|               30|            149|               119|            1|        20150323|              20180831|        0|\n",
      "|hqWmt5OeZ3ab3MZdX...|               41|               30|            149|               149|            1|        20150325|              20181001|        0|\n",
      "|hqWmt5OeZ3ab3MZdX...|               41|               30|            149|               149|            1|        20150401|              20181031|        0|\n",
      "|hqWmt5OeZ3ab3MZdX...|               41|               30|            149|               149|            1|        20150404|              20181130|        0|\n",
      "|hqWmt5OeZ3ab3MZdX...|               41|                0|              0|               119|            1|        20150423|              20181230|        0|\n",
      "|hqWmt5OeZ3ab3MZdX...|               41|                0|              0|               149|            1|        20150425|              20190129|        0|\n",
      "|hqWmt5OeZ3ab3MZdX...|               41|                0|              0|               149|            1|        20150501|              20190301|        0|\n",
      "|hqWmt5OeZ3ab3MZdX...|               41|                0|              0|               149|            1|        20150504|              20190401|        0|\n",
      "|hqWmt5OeZ3ab3MZdX...|               41|               30|            149|               119|            1|        20150523|              20190502|        0|\n",
      "|hqWmt5OeZ3ab3MZdX...|               41|               30|            149|               149|            1|        20150525|              20190602|        0|\n",
      "+--------------------+-----------------+-----------------+---------------+------------------+-------------+----------------+----------------------+---------+\n",
      "only showing top 20 rows\n",
      "\n",
      "None None\n"
     ]
    }
   ],
   "source": [
    "print(\n",
    "    transactions_df.filter(col('msno')=='hqWmt5OeZ3ab3MZdXmYlEdMtmsBkKH9/wuqzFYh26W8=').orderBy(col('transaction_date')).show(),\n",
    "    transactions_df_v2.filter(col('msno')=='hqWmt5OeZ3ab3MZdXmYlEdMtmsBkKH9/wuqzFYh26W8=').orderBy(col('transaction_date')).show()\n",
    "    )"
   ]
  },
  {
   "cell_type": "code",
   "execution_count": 119,
   "metadata": {},
   "outputs": [
    {
     "name": "stdout",
     "output_type": "stream",
     "text": [
      "payment_method_id :  [Row(payment_method_id=1), Row(payment_method_id=2), Row(payment_method_id=3), Row(payment_method_id=4), Row(payment_method_id=5), Row(payment_method_id=6), Row(payment_method_id=7), Row(payment_method_id=8), Row(payment_method_id=10), Row(payment_method_id=11), Row(payment_method_id=12), Row(payment_method_id=13), Row(payment_method_id=14), Row(payment_method_id=15), Row(payment_method_id=16), Row(payment_method_id=17), Row(payment_method_id=18), Row(payment_method_id=19), Row(payment_method_id=20), Row(payment_method_id=21), Row(payment_method_id=22), Row(payment_method_id=23), Row(payment_method_id=24), Row(payment_method_id=25), Row(payment_method_id=26), Row(payment_method_id=27), Row(payment_method_id=28), Row(payment_method_id=29), Row(payment_method_id=30), Row(payment_method_id=31), Row(payment_method_id=32), Row(payment_method_id=33), Row(payment_method_id=34), Row(payment_method_id=35), Row(payment_method_id=36), Row(payment_method_id=37), Row(payment_method_id=38), Row(payment_method_id=39), Row(payment_method_id=40), Row(payment_method_id=41)] \n",
      " payment_plan_days :  [Row(payment_plan_days=0), Row(payment_plan_days=1), Row(payment_plan_days=2), Row(payment_plan_days=3), Row(payment_plan_days=7), Row(payment_plan_days=10), Row(payment_plan_days=14), Row(payment_plan_days=15), Row(payment_plan_days=21), Row(payment_plan_days=30), Row(payment_plan_days=31), Row(payment_plan_days=35), Row(payment_plan_days=45), Row(payment_plan_days=60), Row(payment_plan_days=66), Row(payment_plan_days=70), Row(payment_plan_days=80), Row(payment_plan_days=90), Row(payment_plan_days=95), Row(payment_plan_days=99), Row(payment_plan_days=100), Row(payment_plan_days=110), Row(payment_plan_days=120), Row(payment_plan_days=180), Row(payment_plan_days=195), Row(payment_plan_days=200), Row(payment_plan_days=230), Row(payment_plan_days=240), Row(payment_plan_days=270), Row(payment_plan_days=360), Row(payment_plan_days=365), Row(payment_plan_days=395), Row(payment_plan_days=400), Row(payment_plan_days=410), Row(payment_plan_days=415), Row(payment_plan_days=425), Row(payment_plan_days=450)] \n",
      " plan_list_price :  [Row(plan_list_price=0), Row(plan_list_price=1), Row(plan_list_price=10), Row(plan_list_price=15), Row(plan_list_price=30), Row(plan_list_price=35), Row(plan_list_price=44), Row(plan_list_price=50), Row(plan_list_price=70), Row(plan_list_price=99), Row(plan_list_price=100), Row(plan_list_price=105), Row(plan_list_price=119), Row(plan_list_price=120), Row(plan_list_price=124), Row(plan_list_price=126), Row(plan_list_price=129), Row(plan_list_price=131), Row(plan_list_price=134), Row(plan_list_price=143), Row(plan_list_price=149), Row(plan_list_price=150), Row(plan_list_price=180), Row(plan_list_price=210), Row(plan_list_price=265), Row(plan_list_price=298), Row(plan_list_price=300), Row(plan_list_price=350), Row(plan_list_price=400), Row(plan_list_price=447), Row(plan_list_price=450), Row(plan_list_price=477), Row(plan_list_price=480), Row(plan_list_price=500), Row(plan_list_price=536), Row(plan_list_price=596), Row(plan_list_price=600), Row(plan_list_price=699), Row(plan_list_price=760), Row(plan_list_price=799), Row(plan_list_price=800), Row(plan_list_price=894), Row(plan_list_price=930), Row(plan_list_price=1000), Row(plan_list_price=1150), Row(plan_list_price=1200), Row(plan_list_price=1260), Row(plan_list_price=1299), Row(plan_list_price=1300), Row(plan_list_price=1399), Row(plan_list_price=1520), Row(plan_list_price=1599), Row(plan_list_price=1788), Row(plan_list_price=1825), Row(plan_list_price=2000)] \n",
      " actual_amount_paid :  [Row(actual_amount_paid=0), Row(actual_amount_paid=1), Row(actual_amount_paid=10), Row(actual_amount_paid=15), Row(actual_amount_paid=30), Row(actual_amount_paid=35), Row(actual_amount_paid=41), Row(actual_amount_paid=45), Row(actual_amount_paid=50), Row(actual_amount_paid=70), Row(actual_amount_paid=99), Row(actual_amount_paid=100), Row(actual_amount_paid=105), Row(actual_amount_paid=119), Row(actual_amount_paid=120), Row(actual_amount_paid=124), Row(actual_amount_paid=127), Row(actual_amount_paid=129), Row(actual_amount_paid=131), Row(actual_amount_paid=134), Row(actual_amount_paid=143), Row(actual_amount_paid=149), Row(actual_amount_paid=150), Row(actual_amount_paid=180), Row(actual_amount_paid=210), Row(actual_amount_paid=265), Row(actual_amount_paid=298), Row(actual_amount_paid=300), Row(actual_amount_paid=350), Row(actual_amount_paid=400), Row(actual_amount_paid=447), Row(actual_amount_paid=450), Row(actual_amount_paid=477), Row(actual_amount_paid=480), Row(actual_amount_paid=500), Row(actual_amount_paid=536), Row(actual_amount_paid=596), Row(actual_amount_paid=600), Row(actual_amount_paid=699), Row(actual_amount_paid=760), Row(actual_amount_paid=799), Row(actual_amount_paid=800), Row(actual_amount_paid=849), Row(actual_amount_paid=890), Row(actual_amount_paid=894), Row(actual_amount_paid=897), Row(actual_amount_paid=930), Row(actual_amount_paid=984), Row(actual_amount_paid=1000), Row(actual_amount_paid=1150), Row(actual_amount_paid=1200), Row(actual_amount_paid=1260), Row(actual_amount_paid=1299), Row(actual_amount_paid=1300), Row(actual_amount_paid=1399), Row(actual_amount_paid=1520), Row(actual_amount_paid=1599), Row(actual_amount_paid=1778), Row(actual_amount_paid=1780), Row(actual_amount_paid=1788), Row(actual_amount_paid=1799), Row(actual_amount_paid=1800), Row(actual_amount_paid=1802), Row(actual_amount_paid=1825), Row(actual_amount_paid=2000)] \n",
      " is_auto_renew :  [Row(is_auto_renew=0), Row(is_auto_renew=1)]\n"
     ]
    }
   ],
   "source": [
    "print(\n",
    "    'payment_method_id : ', transactions_df_merged.select('payment_method_id').distinct().orderBy('payment_method_id').collect(), '\\n',\n",
    "    'payment_plan_days : ', transactions_df_merged.select('payment_plan_days').distinct().orderBy('payment_plan_days').collect(), '\\n',\n",
    "    'plan_list_price : ', transactions_df_merged.select('plan_list_price').distinct().orderBy('plan_list_price').collect(), '\\n',\n",
    "    'actual_amount_paid : ', transactions_df_merged.select('actual_amount_paid').distinct().orderBy('actual_amount_paid').collect(), '\\n',\n",
    "    'is_auto_renew : ', transactions_df_merged.select('is_auto_renew').distinct().orderBy('is_auto_renew').collect()\n",
    ")"
   ]
  },
  {
   "attachments": {},
   "cell_type": "markdown",
   "metadata": {},
   "source": [
    "### user_log 데이터 살펴보기"
   ]
  },
  {
   "cell_type": "code",
   "execution_count": 120,
   "metadata": {},
   "outputs": [
    {
     "data": {
      "text/plain": [
       "Row(msno='rxIP2f2aN0rYNp+toI0Obt/N/FYQX8hcO1fTmmy2h34=', date=20150513, num_25=0, num_50=0, num_75=0, num_985=0, num_100=1, num_unq=1, total_secs=280.335)"
      ]
     },
     "execution_count": 120,
     "metadata": {},
     "output_type": "execute_result"
    }
   ],
   "source": [
    "user_logs_df.head()"
   ]
  },
  {
   "cell_type": "code",
   "execution_count": 22,
   "metadata": {},
   "outputs": [],
   "source": [
    "user_logs_df_merged = user_logs_df.union(user_logs_df_v2)"
   ]
  },
  {
   "cell_type": "code",
   "execution_count": 127,
   "metadata": {},
   "outputs": [
    {
     "name": "stdout",
     "output_type": "stream",
     "text": [
      "+---------+\n",
      "|min(date)|\n",
      "+---------+\n",
      "| 20150101|\n",
      "+---------+\n",
      "\n"
     ]
    }
   ],
   "source": [
    "user_logs_df_merged.select(min('date')).show()"
   ]
  },
  {
   "cell_type": "code",
   "execution_count": 129,
   "metadata": {},
   "outputs": [
    {
     "name": "stdout",
     "output_type": "stream",
     "text": [
      "msno :  0 \n",
      " date :  0 \n",
      " num_25 :  0 \n",
      " num_50 :  0 \n",
      " num_75 :  0 \n",
      " num_985 :  0 \n",
      " num_100 :  0 \n",
      " num_unq :  0 \n",
      " total_secs :  0\n"
     ]
    }
   ],
   "source": [
    "print(\n",
    "    'msno : ', user_logs_df_merged.filter(col('msno').isNull()).count(), '\\n',\n",
    "    'date : ', user_logs_df_merged.filter(col('date').isNull()).count(),'\\n',\n",
    "    'num_25 : ', user_logs_df_merged.filter(col('num_25').isNull()).count(),'\\n',\n",
    "    'num_50 : ', user_logs_df_merged.filter(col('num_50').isNull()).count(),'\\n',\n",
    "    'num_75 : ', user_logs_df_merged.filter(col('num_75').isNull()).count(),'\\n',\n",
    "    'num_985 : ', user_logs_df_merged.filter(col('num_985').isNull()).count(),'\\n',\n",
    "    'num_100 : ', user_logs_df_merged.filter(col('num_100').isNull()).count(),'\\n',\n",
    "    'num_unq : ', user_logs_df_merged.filter(col('num_unq').isNull()).count(),'\\n',\n",
    "    'total_secs : ', user_logs_df_merged.filter(col('total_secs').isNull()).count()\n",
    ")\n"
   ]
  },
  {
   "cell_type": "code",
   "execution_count": 71,
   "metadata": {},
   "outputs": [
    {
     "data": {
      "text/plain": [
       "Index(['msno', 'payment_method_id', 'payment_plan_days', 'plan_list_price',\n",
       "       'actual_amount_paid', 'is_auto_renew', 'transaction_date',\n",
       "       'membership_expire_date', 'is_cancel'],\n",
       "      dtype='object')"
      ]
     },
     "execution_count": 71,
     "metadata": {},
     "output_type": "execute_result"
    }
   ],
   "source": [
    "transactions_df_merged.columns"
   ]
  },
  {
   "cell_type": "code",
   "execution_count": 73,
   "metadata": {},
   "outputs": [],
   "source": [
    "active_count =  user_logs_df_merged.groupBy(\"msno\")[['num_25']].agg('count').rename(columns={'num_25' : 'active_days'}).reset_index()\n",
    "paid_user = transactions_df_merged.groupBy(\"msno\")[['is_cancel']].agg('count').rename(columns={'is_cancel' : 'transaction_count'}).reset_index()"
   ]
  },
  {
   "cell_type": "code",
   "execution_count": 36,
   "metadata": {},
   "outputs": [
    {
     "data": {
      "text/plain": [
       "2426143"
      ]
     },
     "execution_count": 36,
     "metadata": {},
     "output_type": "execute_result"
    }
   ],
   "source": [
    "len(transactions_df_merged.select('msno').distinct())"
   ]
  },
  {
   "cell_type": "code",
   "execution_count": 74,
   "metadata": {},
   "outputs": [
    {
     "data": {
      "text/plain": [
       "(5339422, 2426143)"
      ]
     },
     "execution_count": 74,
     "metadata": {},
     "output_type": "execute_result"
    }
   ],
   "source": [
    "len(active_count), len(paid_user)"
   ]
  },
  {
   "cell_type": "code",
   "execution_count": 59,
   "metadata": {},
   "outputs": [
    {
     "data": {
      "text/plain": [
       "6769473"
      ]
     },
     "execution_count": 59,
     "metadata": {},
     "output_type": "execute_result"
    }
   ],
   "source": [
    "len(members_df_v3)"
   ]
  },
  {
   "cell_type": "code",
   "execution_count": null,
   "metadata": {},
   "outputs": [],
   "source": [
    "len(members_df_v3)"
   ]
  },
  {
   "cell_type": "code",
   "execution_count": 62,
   "metadata": {},
   "outputs": [
    {
     "data": {
      "text/html": [
       "<div>\n",
       "<style scoped>\n",
       "    .dataframe tbody tr th:only-of-type {\n",
       "        vertical-align: middle;\n",
       "    }\n",
       "\n",
       "    .dataframe tbody tr th {\n",
       "        vertical-align: top;\n",
       "    }\n",
       "\n",
       "    .dataframe thead th {\n",
       "        text-align: right;\n",
       "    }\n",
       "</style>\n",
       "<table border=\"1\" class=\"dataframe\">\n",
       "  <thead>\n",
       "    <tr style=\"text-align: right;\">\n",
       "      <th></th>\n",
       "      <th>msno</th>\n",
       "      <th>active_days</th>\n",
       "    </tr>\n",
       "  </thead>\n",
       "  <tbody>\n",
       "    <tr>\n",
       "      <th>0</th>\n",
       "      <td>rxIP2f2aN0rYNp+toI0Obt/N/FYQX8hcO1fTmmy2h34=</td>\n",
       "      <td>142</td>\n",
       "    </tr>\n",
       "    <tr>\n",
       "      <th>1</th>\n",
       "      <td>yxiEWwE9VR5utpUecLxVdQ5B7NysUPfrNtGINaM2zA8=</td>\n",
       "      <td>680</td>\n",
       "    </tr>\n",
       "    <tr>\n",
       "      <th>2</th>\n",
       "      <td>PNxIsSLWOJDCm7pNPFzRO/6Mmg2WeZA2nf6hw6t1x3g=</td>\n",
       "      <td>119</td>\n",
       "    </tr>\n",
       "    <tr>\n",
       "      <th>3</th>\n",
       "      <td>KXF9c/T66LZIzFq+xS64icWMhDQE6miCZAtdXRjZHX8=</td>\n",
       "      <td>198</td>\n",
       "    </tr>\n",
       "    <tr>\n",
       "      <th>4</th>\n",
       "      <td>oy2721XIrBu+MEh8XjPTlt5b7gCronoHf/oFN+YwIv8=</td>\n",
       "      <td>502</td>\n",
       "    </tr>\n",
       "    <tr>\n",
       "      <th>5</th>\n",
       "      <td>zD6AnHn/qhjoROJjnwmKUsKJ1Xj4nZ3fJzVShr+LISo=</td>\n",
       "      <td>742</td>\n",
       "    </tr>\n",
       "    <tr>\n",
       "      <th>6</th>\n",
       "      <td>OcZ3fKQzHrL1BuzuFRzUiwPr8l9P8JKCFpafdYf5sCY=</td>\n",
       "      <td>646</td>\n",
       "    </tr>\n",
       "    <tr>\n",
       "      <th>7</th>\n",
       "      <td>FnqNUBvN8mysLeKba1tBkGZDLM1DhvC5iloOKM1wiuQ=</td>\n",
       "      <td>575</td>\n",
       "    </tr>\n",
       "    <tr>\n",
       "      <th>8</th>\n",
       "      <td>dW5DQO92XaG024D2QYmktyUnLc2axil74zUPAhF8sEs=</td>\n",
       "      <td>612</td>\n",
       "    </tr>\n",
       "    <tr>\n",
       "      <th>9</th>\n",
       "      <td>6QoLmaBbt/q8hVY7VBT72CurH3dTd6TT/7rK3qfwxqg=</td>\n",
       "      <td>213</td>\n",
       "    </tr>\n",
       "  </tbody>\n",
       "</table>\n",
       "</div>"
      ],
      "text/plain": [
       "                                           msno  active_days\n",
       "0  rxIP2f2aN0rYNp+toI0Obt/N/FYQX8hcO1fTmmy2h34=          142\n",
       "1  yxiEWwE9VR5utpUecLxVdQ5B7NysUPfrNtGINaM2zA8=          680\n",
       "2  PNxIsSLWOJDCm7pNPFzRO/6Mmg2WeZA2nf6hw6t1x3g=          119\n",
       "3  KXF9c/T66LZIzFq+xS64icWMhDQE6miCZAtdXRjZHX8=          198\n",
       "4  oy2721XIrBu+MEh8XjPTlt5b7gCronoHf/oFN+YwIv8=          502\n",
       "5  zD6AnHn/qhjoROJjnwmKUsKJ1Xj4nZ3fJzVShr+LISo=          742\n",
       "6  OcZ3fKQzHrL1BuzuFRzUiwPr8l9P8JKCFpafdYf5sCY=          646\n",
       "7  FnqNUBvN8mysLeKba1tBkGZDLM1DhvC5iloOKM1wiuQ=          575\n",
       "8  dW5DQO92XaG024D2QYmktyUnLc2axil74zUPAhF8sEs=          612\n",
       "9  6QoLmaBbt/q8hVY7VBT72CurH3dTd6TT/7rK3qfwxqg=          213"
      ]
     },
     "execution_count": 62,
     "metadata": {},
     "output_type": "execute_result"
    }
   ],
   "source": [
    "active_count.head(10)"
   ]
  },
  {
   "cell_type": "code",
   "execution_count": 16,
   "metadata": {},
   "outputs": [
    {
     "name": "stdout",
     "output_type": "stream",
     "text": [
      "+--------------------+-----------------+-----------------+---------------+------------------+-------------+----------------+----------------------+---------+\n",
      "|                msno|payment_method_id|payment_plan_days|plan_list_price|actual_amount_paid|is_auto_renew|transaction_date|membership_expire_date|is_cancel|\n",
      "+--------------------+-----------------+-----------------+---------------+------------------+-------------+----------------+----------------------+---------+\n",
      "|ORUaiH4z66kfVaKGv...|               41|               30|             99|                99|            1|        20170322|              20170422|        0|\n",
      "+--------------------+-----------------+-----------------+---------------+------------------+-------------+----------------+----------------------+---------+\n",
      "\n"
     ]
    }
   ],
   "source": [
    "transactions_df_v2.filter(col('msno') == 'ORUaiH4z66kfVaKGvnC4qukcfhCLY9X9Y2LWcLncvYo=').show()"
   ]
  },
  {
   "attachments": {},
   "cell_type": "markdown",
   "metadata": {},
   "source": [
    "## 데이터 병합"
   ]
  },
  {
   "cell_type": "code",
   "execution_count": 56,
   "metadata": {},
   "outputs": [],
   "source": [
    "transaction_grouped = transactions_df_merged.groupBy('msno').count()\n",
    "logs_grouped = user_logs_df_merged.groupBy('msno').count()"
   ]
  },
  {
   "cell_type": "code",
   "execution_count": 57,
   "metadata": {},
   "outputs": [],
   "source": [
    "train_memeber = train_df_merged.join(members_df_v3, on='msno', how='left')\n",
    "train_transaction = train_df_merged.join(transaction_grouped, on='msno', how='left')\n",
    "train_log = train_df_merged.join(logs_grouped, on='msno', how='left')"
   ]
  },
  {
   "cell_type": "code",
   "execution_count": 58,
   "metadata": {},
   "outputs": [
    {
     "name": "stdout",
     "output_type": "stream",
     "text": [
      "961431 120759\n",
      "1082190 0\n",
      "955159 127031\n"
     ]
    }
   ],
   "source": [
    "print(train_memeber.filter(col('city').isNotNull()).count(), train_memeber.filter(col('city').isNull()).count())\n",
    "print(train_transaction.filter(col('count').isNotNull()).count(), train_transaction.filter(col('count').isNull()).count())\n",
    "print(train_log.filter(col('count').isNotNull()).count(), train_log.filter(col('count').isNull()).count())"
   ]
  },
  {
   "cell_type": "code",
   "execution_count": null,
   "metadata": {},
   "outputs": [],
   "source": [
    "df_target = train_df_merged.join(members_df_v3, on='msno', how='inner').join(transaction_grouped, on='msno', how='inner').join(logs_grouped, on='msno', how='inner')"
   ]
  },
  {
   "cell_type": "code",
   "execution_count": 62,
   "metadata": {},
   "outputs": [],
   "source": [
    "df_target = train_df_merged.join(members_df_v3, on='msno', how='left').join(transaction_grouped, on='msno', how='left').join(logs_grouped, on='msno', how='left')"
   ]
  },
  {
   "cell_type": "code",
   "execution_count": 64,
   "metadata": {},
   "outputs": [
    {
     "data": {
      "text/plain": [
       "1082190"
      ]
     },
     "execution_count": 64,
     "metadata": {},
     "output_type": "execute_result"
    }
   ],
   "source": [
    "df_target.count()"
   ]
  },
  {
   "cell_type": "code",
   "execution_count": 6,
   "metadata": {},
   "outputs": [],
   "source": [
    "transactions_df_merged = transactions_df_merged.withColumn('prev_expire_date', lag('membership_expire_date').over(Window.partitionBy('msno').orderBy('transaction_date','membership_expire_date')))"
   ]
  },
  {
   "cell_type": "code",
   "execution_count": 7,
   "metadata": {},
   "outputs": [],
   "source": [
    "transactions_df_merged = transactions_df_merged.withColumn('periods', when(transactions_df_merged.is_cancel == 0, datediff(transactions_df_merged['membership_expire_date'], transactions_df_merged['transaction_date']))\n",
    "                                             .otherwise(datediff(transactions_df_merged['membership_expire_date'], transactions_df_merged['prev_expire_date']))\n",
    "                                )"
   ]
  },
  {
   "cell_type": "code",
   "execution_count": 8,
   "metadata": {},
   "outputs": [],
   "source": [
    "transaction_total_periods_per_user = transactions_df_merged.groupBy(\"msno\").agg(sum('periods').alias('total_periods'))"
   ]
  },
  {
   "cell_type": "code",
   "execution_count": 15,
   "metadata": {},
   "outputs": [],
   "source": [
    "logs_grouped = user_logs_df_merged.groupBy('msno').count()\n",
    "logs_grouped = logs_grouped.join(transaction_total_periods_per_user, on='msno', how='left')\n",
    "logs_grouped = logs_grouped.withColumn('active_per_periods', col('count') / col('total_periods'))"
   ]
  },
  {
   "cell_type": "code",
   "execution_count": 17,
   "metadata": {},
   "outputs": [],
   "source": [
    "df_target = train_df_merged.join(members_df_v3, on='msno', how='inner').join(logs_grouped, on='msno', how='inner')"
   ]
  },
  {
   "cell_type": "code",
   "execution_count": 24,
   "metadata": {},
   "outputs": [
    {
     "data": {
      "text/plain": [
       "['msno', 'total_periods']"
      ]
     },
     "execution_count": 24,
     "metadata": {},
     "output_type": "execute_result"
    }
   ],
   "source": [
    "transaction_total_periods_per_user.columns"
   ]
  },
  {
   "cell_type": "code",
   "execution_count": 19,
   "metadata": {},
   "outputs": [],
   "source": [
    "df_target = df_target.drop('msno')"
   ]
  },
  {
   "cell_type": "code",
   "execution_count": 20,
   "metadata": {},
   "outputs": [
    {
     "data": {
      "text/plain": [
       "['is_churn',\n",
       " 'city',\n",
       " 'bd',\n",
       " 'gender',\n",
       " 'registered_via',\n",
       " 'registration_init_time',\n",
       " 'count',\n",
       " 'total_periods',\n",
       " 'active_per_periods']"
      ]
     },
     "execution_count": 20,
     "metadata": {},
     "output_type": "execute_result"
    }
   ],
   "source": [
    "df_target.columns"
   ]
  },
  {
   "cell_type": "code",
   "execution_count": 21,
   "metadata": {},
   "outputs": [],
   "source": [
    "df_target.toPandas().to_csv('D:/kkbox-churn-prediction-challenge/data/churn_comp_refresh/df_target2.csv')"
   ]
  },
  {
   "cell_type": "code",
   "execution_count": 23,
   "metadata": {},
   "outputs": [
    {
     "data": {
      "text/plain": [
       "955126"
      ]
     },
     "execution_count": 23,
     "metadata": {},
     "output_type": "execute_result"
    }
   ],
   "source": [
    "df_target.count()"
   ]
  },
  {
   "cell_type": "markdown",
   "metadata": {},
   "source": [
    "## 2023-04-08"
   ]
  },
  {
   "cell_type": "code",
   "execution_count": 26,
   "metadata": {},
   "outputs": [],
   "source": [
    "df20230408 = pd.read_csv('D:/kkbox-churn-prediction-challenge/data/churn_comp_refresh/df_target3.csv')"
   ]
  },
  {
   "cell_type": "code",
   "execution_count": 38,
   "metadata": {},
   "outputs": [
    {
     "data": {
      "text/plain": [
       "<AxesSubplot: xlabel='active_per_periods', ylabel='Density'>"
      ]
     },
     "execution_count": 38,
     "metadata": {},
     "output_type": "execute_result"
    },
    {
     "data": {
      "image/png": "[encoded data removed]",
      "text/plain": [
       "<Figure size 640x480 with 1 Axes>"
      ]
     },
     "metadata": {},
     "output_type": "display_data"
    }
   ],
   "source": [
    "sns.kdeplot(data=df20230408, x='active_per_periods', hue='is_churn')"
   ]
  },
  {
   "cell_type": "markdown",
   "metadata": {},
   "source": [
    "## 2023-04-10"
   ]
  },
  {
   "cell_type": "code",
   "execution_count": 24,
   "metadata": {},
   "outputs": [],
   "source": [
    "transactions_df_merged = jm.add_subscribe_period(transactions_df_merged)"
   ]
  },
  {
   "cell_type": "code",
   "execution_count": 34,
   "metadata": {},
   "outputs": [],
   "source": [
    "total_periods = transactions_df_merged.groupBy('msno').agg(sum('periods').alias('total_periods'))"
   ]
  },
  {
   "cell_type": "code",
   "execution_count": 73,
   "metadata": {},
   "outputs": [],
   "source": [
    "user_log_avg = (user_logs_df_merged\n",
    "                .groupBy('msno')\n",
    "                .agg(count('*').alias('count'), avg('num_25') ,avg('num_50'), avg('num_75'),avg('num_985'),avg('num_100'),avg('num_unq'),avg('total_secs'))\n",
    "                )"
   ]
  },
  {
   "cell_type": "code",
   "execution_count": null,
   "metadata": {},
   "outputs": [],
   "source": []
  }
 ],
 "metadata": {
  "kernelspec": {
   "display_name": "ds_study",
   "language": "python",
   "name": "python3"
  },
  "language_info": {
   "codemirror_mode": {
    "name": "ipython",
    "version": 3
   },
   "file_extension": ".py",
   "mimetype": "text/x-python",
   "name": "python",
   "nbconvert_exporter": "python",
   "pygments_lexer": "ipython3",
   "version": "3.9.13"
  },
  "orig_nbformat": 4,
  "vscode": {
   "interpreter": {
    "hash": "ee24105d9053af755242f68e5a57bab698c7b172ade319007fef3421f55023b2"
   }
  }
 },
 "nbformat": 4,
 "nbformat_minor": 2
}
