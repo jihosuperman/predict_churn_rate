{
 "cells": [
  {
   "cell_type": "code",
   "execution_count": 49,
   "metadata": {},
   "outputs": [],
   "source": [
    "import pandas as pd\n",
    "import matplotlib.pyplot as plt\n",
    "import seaborn as sns\n",
    "from sklearn.preprocessing import MinMaxScaler\n",
    "from sklearn.cluster import KMeans\n",
    "from sklearn.decomposition import PCA\n",
    "from sklearn.model_selection import GridSearchCV"
   ]
  },
  {
   "cell_type": "code",
   "execution_count": 41,
   "metadata": {},
   "outputs": [],
   "source": [
    "userlog_df = pd.read_parquet('D:/kkbox-churn-prediction-challenge/data/sample/sample_ratio_0.107/sample_user_logs.parquet/sample_user_logs (ratio=0.107).parquet')"
   ]
  },
  {
   "cell_type": "code",
   "execution_count": 42,
   "metadata": {},
   "outputs": [],
   "source": [
    "userlog_df['date'] = pd.to_datetime(userlog_df['date'])"
   ]
  },
  {
   "cell_type": "code",
   "execution_count": 7,
   "metadata": {},
   "outputs": [
    {
     "data": {
      "text/plain": [
       "29812117"
      ]
     },
     "execution_count": 7,
     "metadata": {},
     "output_type": "execute_result"
    }
   ],
   "source": [
    "len(userlog_df)"
   ]
  },
  {
   "cell_type": "code",
   "execution_count": 21,
   "metadata": {},
   "outputs": [
    {
     "data": {
      "text/plain": [
       "['date', 'num_25', 'num_50', 'num_75', 'num_985', 'num_100']"
      ]
     },
     "execution_count": 21,
     "metadata": {},
     "output_type": "execute_result"
    }
   ],
   "source": [
    "cols = list(userlog_df.columns)[1:7]\n",
    "cols"
   ]
  },
  {
   "attachments": {},
   "cell_type": "markdown",
   "metadata": {},
   "source": [
    "- 유저 로그 데이터 중 재생한 곡의 수는 특정 구간에 모여있지만 아웃라이어가 큰 경우도 발생"
   ]
  },
  {
   "cell_type": "code",
   "execution_count": 23,
   "metadata": {},
   "outputs": [
    {
     "data": {
      "text/plain": [
       "<AxesSubplot: >"
      ]
     },
     "execution_count": 23,
     "metadata": {},
     "output_type": "execute_result"
    },
    {
     "data": {
      "image/png": "[encoded data removed]",
      "text/plain": [
       "<Figure size 640x480 with 1 Axes>"
      ]
     },
     "metadata": {},
     "output_type": "display_data"
    }
   ],
   "source": [
    "sns.boxenplot(data=userlog_df[cols] ,orient='h')"
   ]
  },
  {
   "cell_type": "code",
   "execution_count": 36,
   "metadata": {},
   "outputs": [
    {
     "data": {
      "text/plain": [
       "<AxesSubplot: >"
      ]
     },
     "execution_count": 36,
     "metadata": {},
     "output_type": "execute_result"
    },
    {
     "data": {
      "image/png": "[encoded data removed]",
      "text/plain": [
       "<Figure size 640x480 with 1 Axes>"
      ]
     },
     "metadata": {},
     "output_type": "display_data"
    }
   ],
   "source": [
    "sns.boxplot(data=userlog_df['num_75'] ,orient='h')"
   ]
  },
  {
   "attachments": {},
   "cell_type": "markdown",
   "metadata": {},
   "source": [
    "- 일반적인 유저의 데이터를 사용하여 total_secs의 이상치를 추정하기 위해서 1~3분위수 사이의 데이터만 필터링하기로 결정"
   ]
  },
  {
   "cell_type": "code",
   "execution_count": 41,
   "metadata": {},
   "outputs": [
    {
     "data": {
      "text/html": [
       "<div>\n",
       "<style scoped>\n",
       "    .dataframe tbody tr th:only-of-type {\n",
       "        vertical-align: middle;\n",
       "    }\n",
       "\n",
       "    .dataframe tbody tr th {\n",
       "        vertical-align: top;\n",
       "    }\n",
       "\n",
       "    .dataframe thead th {\n",
       "        text-align: right;\n",
       "    }\n",
       "</style>\n",
       "<table border=\"1\" class=\"dataframe\">\n",
       "  <thead>\n",
       "    <tr style=\"text-align: right;\">\n",
       "      <th></th>\n",
       "      <th>msno_num</th>\n",
       "      <th>num_25</th>\n",
       "      <th>num_50</th>\n",
       "      <th>num_75</th>\n",
       "      <th>num_985</th>\n",
       "      <th>num_100</th>\n",
       "      <th>num_unq</th>\n",
       "      <th>total_secs</th>\n",
       "    </tr>\n",
       "  </thead>\n",
       "  <tbody>\n",
       "    <tr>\n",
       "      <th>count</th>\n",
       "      <td>2.981212e+07</td>\n",
       "      <td>2.981212e+07</td>\n",
       "      <td>2.981212e+07</td>\n",
       "      <td>2.981212e+07</td>\n",
       "      <td>2.981212e+07</td>\n",
       "      <td>2.981212e+07</td>\n",
       "      <td>2.981212e+07</td>\n",
       "      <td>2.981212e+07</td>\n",
       "    </tr>\n",
       "    <tr>\n",
       "      <th>mean</th>\n",
       "      <td>3.680169e+06</td>\n",
       "      <td>6.558747e+00</td>\n",
       "      <td>1.631598e+00</td>\n",
       "      <td>1.018966e+00</td>\n",
       "      <td>1.132481e+00</td>\n",
       "      <td>3.072097e+01</td>\n",
       "      <td>3.024115e+01</td>\n",
       "      <td>-1.242483e+12</td>\n",
       "    </tr>\n",
       "    <tr>\n",
       "      <th>std</th>\n",
       "      <td>2.123276e+06</td>\n",
       "      <td>1.398458e+01</td>\n",
       "      <td>4.222357e+00</td>\n",
       "      <td>2.136779e+00</td>\n",
       "      <td>2.827002e+00</td>\n",
       "      <td>4.113349e+01</td>\n",
       "      <td>3.352548e+01</td>\n",
       "      <td>1.071502e+14</td>\n",
       "    </tr>\n",
       "    <tr>\n",
       "      <th>min</th>\n",
       "      <td>2.200000e+01</td>\n",
       "      <td>0.000000e+00</td>\n",
       "      <td>0.000000e+00</td>\n",
       "      <td>0.000000e+00</td>\n",
       "      <td>0.000000e+00</td>\n",
       "      <td>0.000000e+00</td>\n",
       "      <td>1.000000e+00</td>\n",
       "      <td>-9.223372e+15</td>\n",
       "    </tr>\n",
       "    <tr>\n",
       "      <th>25%</th>\n",
       "      <td>1.849810e+06</td>\n",
       "      <td>0.000000e+00</td>\n",
       "      <td>0.000000e+00</td>\n",
       "      <td>0.000000e+00</td>\n",
       "      <td>0.000000e+00</td>\n",
       "      <td>7.000000e+00</td>\n",
       "      <td>8.000000e+00</td>\n",
       "      <td>1.970852e+03</td>\n",
       "    </tr>\n",
       "    <tr>\n",
       "      <th>50%</th>\n",
       "      <td>3.680100e+06</td>\n",
       "      <td>2.000000e+00</td>\n",
       "      <td>1.000000e+00</td>\n",
       "      <td>0.000000e+00</td>\n",
       "      <td>0.000000e+00</td>\n",
       "      <td>1.700000e+01</td>\n",
       "      <td>1.900000e+01</td>\n",
       "      <td>4.690526e+03</td>\n",
       "    </tr>\n",
       "    <tr>\n",
       "      <th>75%</th>\n",
       "      <td>5.507267e+06</td>\n",
       "      <td>7.000000e+00</td>\n",
       "      <td>2.000000e+00</td>\n",
       "      <td>1.000000e+00</td>\n",
       "      <td>1.000000e+00</td>\n",
       "      <td>3.800000e+01</td>\n",
       "      <td>4.000000e+01</td>\n",
       "      <td>1.024499e+04</td>\n",
       "    </tr>\n",
       "    <tr>\n",
       "      <th>max</th>\n",
       "      <td>7.376739e+06</td>\n",
       "      <td>7.104000e+03</td>\n",
       "      <td>1.088000e+03</td>\n",
       "      <td>7.490000e+02</td>\n",
       "      <td>2.516000e+03</td>\n",
       "      <td>9.958000e+03</td>\n",
       "      <td>2.798000e+03</td>\n",
       "      <td>9.223372e+15</td>\n",
       "    </tr>\n",
       "  </tbody>\n",
       "</table>\n",
       "</div>"
      ],
      "text/plain": [
       "           msno_num        num_25        num_50        num_75       num_985  \\\n",
       "count  2.981212e+07  2.981212e+07  2.981212e+07  2.981212e+07  2.981212e+07   \n",
       "mean   3.680169e+06  6.558747e+00  1.631598e+00  1.018966e+00  1.132481e+00   \n",
       "std    2.123276e+06  1.398458e+01  4.222357e+00  2.136779e+00  2.827002e+00   \n",
       "min    2.200000e+01  0.000000e+00  0.000000e+00  0.000000e+00  0.000000e+00   \n",
       "25%    1.849810e+06  0.000000e+00  0.000000e+00  0.000000e+00  0.000000e+00   \n",
       "50%    3.680100e+06  2.000000e+00  1.000000e+00  0.000000e+00  0.000000e+00   \n",
       "75%    5.507267e+06  7.000000e+00  2.000000e+00  1.000000e+00  1.000000e+00   \n",
       "max    7.376739e+06  7.104000e+03  1.088000e+03  7.490000e+02  2.516000e+03   \n",
       "\n",
       "            num_100       num_unq    total_secs  \n",
       "count  2.981212e+07  2.981212e+07  2.981212e+07  \n",
       "mean   3.072097e+01  3.024115e+01 -1.242483e+12  \n",
       "std    4.113349e+01  3.352548e+01  1.071502e+14  \n",
       "min    0.000000e+00  1.000000e+00 -9.223372e+15  \n",
       "25%    7.000000e+00  8.000000e+00  1.970852e+03  \n",
       "50%    1.700000e+01  1.900000e+01  4.690526e+03  \n",
       "75%    3.800000e+01  4.000000e+01  1.024499e+04  \n",
       "max    9.958000e+03  2.798000e+03  9.223372e+15  "
      ]
     },
     "execution_count": 41,
     "metadata": {},
     "output_type": "execute_result"
    }
   ],
   "source": [
    "userlog_df.describe()"
   ]
  },
  {
   "cell_type": "code",
   "execution_count": 28,
   "metadata": {},
   "outputs": [],
   "source": [
    "userlog_filter1 = (userlog_df['total_secs'] <= 86400)\n",
    "userlog_filter2 = (userlog_df['total_secs'] > 0)\n",
    "userlog_filter3 = ((userlog_df['num_25'] > 0) &\n",
    "                              (userlog_df['num_50'] > 0) &\n",
    "                              (userlog_df['num_75'] > 0) &\n",
    "                              (userlog_df['num_985'] > 0) &\n",
    "                              (userlog_df['num_100'] > 7)\n",
    "                              )\n",
    "userlog_filter4 = ((userlog_df['num_25'] < 7) &\n",
    "                              (userlog_df['num_50'] < 2) &\n",
    "                              (userlog_df['num_75'] < 1) &\n",
    "                              (userlog_df['num_985'] <1) &\n",
    "                              (userlog_df['num_100'] < 38)\n",
    "                              )"
   ]
  },
  {
   "attachments": {},
   "cell_type": "markdown",
   "metadata": {},
   "source": [
    "- 그러나 해당 조건에 모두 맞는 사람은 없었음...\n",
    "- 유저의 사용 패턴이 제각각 너무 달라서 그런 것이라고 생각"
   ]
  },
  {
   "cell_type": "code",
   "execution_count": 8,
   "metadata": {},
   "outputs": [
    {
     "data": {
      "text/html": [
       "<div>\n",
       "<style scoped>\n",
       "    .dataframe tbody tr th:only-of-type {\n",
       "        vertical-align: middle;\n",
       "    }\n",
       "\n",
       "    .dataframe tbody tr th {\n",
       "        vertical-align: top;\n",
       "    }\n",
       "\n",
       "    .dataframe thead th {\n",
       "        text-align: right;\n",
       "    }\n",
       "</style>\n",
       "<table border=\"1\" class=\"dataframe\">\n",
       "  <thead>\n",
       "    <tr style=\"text-align: right;\">\n",
       "      <th></th>\n",
       "      <th>msno_num</th>\n",
       "      <th>date</th>\n",
       "      <th>num_25</th>\n",
       "      <th>num_50</th>\n",
       "      <th>num_75</th>\n",
       "      <th>num_985</th>\n",
       "      <th>num_100</th>\n",
       "      <th>num_unq</th>\n",
       "      <th>total_secs</th>\n",
       "    </tr>\n",
       "  </thead>\n",
       "  <tbody>\n",
       "  </tbody>\n",
       "</table>\n",
       "</div>"
      ],
      "text/plain": [
       "Empty DataFrame\n",
       "Columns: [msno_num, date, num_25, num_50, num_75, num_985, num_100, num_unq, total_secs]\n",
       "Index: []"
      ]
     },
     "execution_count": 8,
     "metadata": {},
     "output_type": "execute_result"
    }
   ],
   "source": [
    "userlog_df[userlog_filter1&userlog_filter2&userlog_filter3&userlog_filter4]"
   ]
  },
  {
   "cell_type": "code",
   "execution_count": null,
   "metadata": {},
   "outputs": [],
   "source": [
    "userlog_df[]"
   ]
  },
  {
   "cell_type": "code",
   "execution_count": 33,
   "metadata": {},
   "outputs": [
    {
     "data": {
      "text/html": [
       "<div>\n",
       "<style scoped>\n",
       "    .dataframe tbody tr th:only-of-type {\n",
       "        vertical-align: middle;\n",
       "    }\n",
       "\n",
       "    .dataframe tbody tr th {\n",
       "        vertical-align: top;\n",
       "    }\n",
       "\n",
       "    .dataframe thead th {\n",
       "        text-align: right;\n",
       "    }\n",
       "</style>\n",
       "<table border=\"1\" class=\"dataframe\">\n",
       "  <thead>\n",
       "    <tr style=\"text-align: right;\">\n",
       "      <th></th>\n",
       "      <th>msno_num</th>\n",
       "      <th>date</th>\n",
       "      <th>num_25</th>\n",
       "      <th>num_50</th>\n",
       "      <th>num_75</th>\n",
       "      <th>num_985</th>\n",
       "      <th>num_100</th>\n",
       "      <th>num_unq</th>\n",
       "      <th>total_secs</th>\n",
       "    </tr>\n",
       "  </thead>\n",
       "  <tbody>\n",
       "    <tr>\n",
       "      <th>19235</th>\n",
       "      <td>1168863</td>\n",
       "      <td>2016-12-08</td>\n",
       "      <td>84</td>\n",
       "      <td>20</td>\n",
       "      <td>19</td>\n",
       "      <td>27</td>\n",
       "      <td>1532</td>\n",
       "      <td>158</td>\n",
       "      <td>409138.154</td>\n",
       "    </tr>\n",
       "    <tr>\n",
       "      <th>19324</th>\n",
       "      <td>1168863</td>\n",
       "      <td>2016-09-01</td>\n",
       "      <td>24</td>\n",
       "      <td>6</td>\n",
       "      <td>3</td>\n",
       "      <td>5</td>\n",
       "      <td>488</td>\n",
       "      <td>83</td>\n",
       "      <td>128319.363</td>\n",
       "    </tr>\n",
       "    <tr>\n",
       "      <th>21598</th>\n",
       "      <td>1380401</td>\n",
       "      <td>2015-07-18</td>\n",
       "      <td>6</td>\n",
       "      <td>2</td>\n",
       "      <td>2</td>\n",
       "      <td>5</td>\n",
       "      <td>610</td>\n",
       "      <td>211</td>\n",
       "      <td>145010.322</td>\n",
       "    </tr>\n",
       "    <tr>\n",
       "      <th>25958</th>\n",
       "      <td>1522029</td>\n",
       "      <td>2017-01-09</td>\n",
       "      <td>2</td>\n",
       "      <td>0</td>\n",
       "      <td>0</td>\n",
       "      <td>2</td>\n",
       "      <td>1764</td>\n",
       "      <td>519</td>\n",
       "      <td>394385.919</td>\n",
       "    </tr>\n",
       "    <tr>\n",
       "      <th>26057</th>\n",
       "      <td>1522029</td>\n",
       "      <td>2015-07-03</td>\n",
       "      <td>1</td>\n",
       "      <td>0</td>\n",
       "      <td>1</td>\n",
       "      <td>0</td>\n",
       "      <td>526</td>\n",
       "      <td>130</td>\n",
       "      <td>129401.869</td>\n",
       "    </tr>\n",
       "    <tr>\n",
       "      <th>...</th>\n",
       "      <td>...</td>\n",
       "      <td>...</td>\n",
       "      <td>...</td>\n",
       "      <td>...</td>\n",
       "      <td>...</td>\n",
       "      <td>...</td>\n",
       "      <td>...</td>\n",
       "      <td>...</td>\n",
       "      <td>...</td>\n",
       "    </tr>\n",
       "    <tr>\n",
       "      <th>29632474</th>\n",
       "      <td>6119484</td>\n",
       "      <td>2015-05-14</td>\n",
       "      <td>14</td>\n",
       "      <td>13</td>\n",
       "      <td>7</td>\n",
       "      <td>5</td>\n",
       "      <td>515</td>\n",
       "      <td>202</td>\n",
       "      <td>135680.189</td>\n",
       "    </tr>\n",
       "    <tr>\n",
       "      <th>29740334</th>\n",
       "      <td>4129278</td>\n",
       "      <td>2016-02-08</td>\n",
       "      <td>51</td>\n",
       "      <td>4</td>\n",
       "      <td>7</td>\n",
       "      <td>6</td>\n",
       "      <td>529</td>\n",
       "      <td>302</td>\n",
       "      <td>139760.441</td>\n",
       "    </tr>\n",
       "    <tr>\n",
       "      <th>29742945</th>\n",
       "      <td>4174818</td>\n",
       "      <td>2016-12-16</td>\n",
       "      <td>8</td>\n",
       "      <td>3</td>\n",
       "      <td>0</td>\n",
       "      <td>1</td>\n",
       "      <td>509</td>\n",
       "      <td>303</td>\n",
       "      <td>121890.902</td>\n",
       "    </tr>\n",
       "    <tr>\n",
       "      <th>29742979</th>\n",
       "      <td>4174818</td>\n",
       "      <td>2016-12-08</td>\n",
       "      <td>9</td>\n",
       "      <td>12</td>\n",
       "      <td>6</td>\n",
       "      <td>3</td>\n",
       "      <td>658</td>\n",
       "      <td>431</td>\n",
       "      <td>163876.021</td>\n",
       "    </tr>\n",
       "    <tr>\n",
       "      <th>29743120</th>\n",
       "      <td>4174818</td>\n",
       "      <td>2017-01-11</td>\n",
       "      <td>2</td>\n",
       "      <td>2</td>\n",
       "      <td>2</td>\n",
       "      <td>3</td>\n",
       "      <td>542</td>\n",
       "      <td>193</td>\n",
       "      <td>128392.203</td>\n",
       "    </tr>\n",
       "  </tbody>\n",
       "</table>\n",
       "<p>4858 rows × 9 columns</p>\n",
       "</div>"
      ],
      "text/plain": [
       "          msno_num       date  num_25  num_50  num_75  num_985  num_100  \\\n",
       "19235      1168863 2016-12-08      84      20      19       27     1532   \n",
       "19324      1168863 2016-09-01      24       6       3        5      488   \n",
       "21598      1380401 2015-07-18       6       2       2        5      610   \n",
       "25958      1522029 2017-01-09       2       0       0        2     1764   \n",
       "26057      1522029 2015-07-03       1       0       1        0      526   \n",
       "...            ...        ...     ...     ...     ...      ...      ...   \n",
       "29632474   6119484 2015-05-14      14      13       7        5      515   \n",
       "29740334   4129278 2016-02-08      51       4       7        6      529   \n",
       "29742945   4174818 2016-12-16       8       3       0        1      509   \n",
       "29742979   4174818 2016-12-08       9      12       6        3      658   \n",
       "29743120   4174818 2017-01-11       2       2       2        3      542   \n",
       "\n",
       "          num_unq  total_secs  \n",
       "19235         158  409138.154  \n",
       "19324          83  128319.363  \n",
       "21598         211  145010.322  \n",
       "25958         519  394385.919  \n",
       "26057         130  129401.869  \n",
       "...           ...         ...  \n",
       "29632474      202  135680.189  \n",
       "29740334      302  139760.441  \n",
       "29742945      303  121890.902  \n",
       "29742979      431  163876.021  \n",
       "29743120      193  128392.203  \n",
       "\n",
       "[4858 rows x 9 columns]"
      ]
     },
     "execution_count": 33,
     "metadata": {},
     "output_type": "execute_result"
    }
   ],
   "source": [
    "userlog_df[userlog_df['num_100'] > 480]"
   ]
  },
  {
   "cell_type": "code",
   "execution_count": 35,
   "metadata": {},
   "outputs": [
    {
     "data": {
      "text/plain": [
       "<AxesSubplot: >"
      ]
     },
     "execution_count": 35,
     "metadata": {},
     "output_type": "execute_result"
    },
    {
     "data": {
      "image/png": "[encoded data removed]",
      "text/plain": [
       "<Figure size 640x480 with 1 Axes>"
      ]
     },
     "metadata": {},
     "output_type": "display_data"
    }
   ],
   "source": [
    "sns.boxplot(data=userlog_df[userlog_df['num_100'] > 480][cols] ,orient='h')"
   ]
  },
  {
   "cell_type": "code",
   "execution_count": 24,
   "metadata": {},
   "outputs": [
    {
     "data": {
      "text/plain": [
       "<AxesSubplot: >"
      ]
     },
     "execution_count": 24,
     "metadata": {},
     "output_type": "execute_result"
    },
    {
     "data": {
      "image/png": "[encoded data removed]",
      "text/plain": [
       "<Figure size 640x480 with 1 Axes>"
      ]
     },
     "metadata": {},
     "output_type": "display_data"
    }
   ],
   "source": [
    "sns.boxenplot(data=userlog_df['total_secs'] ,orient='h')"
   ]
  },
  {
   "cell_type": "code",
   "execution_count": 25,
   "metadata": {},
   "outputs": [
    {
     "data": {
      "text/html": [
       "<div>\n",
       "<style scoped>\n",
       "    .dataframe tbody tr th:only-of-type {\n",
       "        vertical-align: middle;\n",
       "    }\n",
       "\n",
       "    .dataframe tbody tr th {\n",
       "        vertical-align: top;\n",
       "    }\n",
       "\n",
       "    .dataframe thead th {\n",
       "        text-align: right;\n",
       "    }\n",
       "</style>\n",
       "<table border=\"1\" class=\"dataframe\">\n",
       "  <thead>\n",
       "    <tr style=\"text-align: right;\">\n",
       "      <th></th>\n",
       "      <th>msno_num</th>\n",
       "      <th>date</th>\n",
       "      <th>num_25</th>\n",
       "      <th>num_50</th>\n",
       "      <th>num_75</th>\n",
       "      <th>num_985</th>\n",
       "      <th>num_100</th>\n",
       "      <th>num_unq</th>\n",
       "      <th>total_secs</th>\n",
       "    </tr>\n",
       "  </thead>\n",
       "  <tbody>\n",
       "    <tr>\n",
       "      <th>13794</th>\n",
       "      <td>697708</td>\n",
       "      <td>2015-07-17</td>\n",
       "      <td>13</td>\n",
       "      <td>1</td>\n",
       "      <td>4</td>\n",
       "      <td>4</td>\n",
       "      <td>74</td>\n",
       "      <td>40</td>\n",
       "      <td>-9.223372e+15</td>\n",
       "    </tr>\n",
       "    <tr>\n",
       "      <th>15320</th>\n",
       "      <td>796953</td>\n",
       "      <td>2015-07-12</td>\n",
       "      <td>6</td>\n",
       "      <td>0</td>\n",
       "      <td>0</td>\n",
       "      <td>0</td>\n",
       "      <td>105</td>\n",
       "      <td>104</td>\n",
       "      <td>-9.223372e+15</td>\n",
       "    </tr>\n",
       "    <tr>\n",
       "      <th>15327</th>\n",
       "      <td>796953</td>\n",
       "      <td>2015-07-14</td>\n",
       "      <td>2</td>\n",
       "      <td>0</td>\n",
       "      <td>0</td>\n",
       "      <td>1</td>\n",
       "      <td>15</td>\n",
       "      <td>16</td>\n",
       "      <td>-9.223372e+15</td>\n",
       "    </tr>\n",
       "    <tr>\n",
       "      <th>35466</th>\n",
       "      <td>1927276</td>\n",
       "      <td>2015-09-01</td>\n",
       "      <td>4</td>\n",
       "      <td>2</td>\n",
       "      <td>2</td>\n",
       "      <td>5</td>\n",
       "      <td>17</td>\n",
       "      <td>30</td>\n",
       "      <td>-9.223372e+15</td>\n",
       "    </tr>\n",
       "    <tr>\n",
       "      <th>35830</th>\n",
       "      <td>1927276</td>\n",
       "      <td>2015-08-07</td>\n",
       "      <td>1</td>\n",
       "      <td>2</td>\n",
       "      <td>1</td>\n",
       "      <td>4</td>\n",
       "      <td>52</td>\n",
       "      <td>57</td>\n",
       "      <td>-9.223372e+15</td>\n",
       "    </tr>\n",
       "    <tr>\n",
       "      <th>...</th>\n",
       "      <td>...</td>\n",
       "      <td>...</td>\n",
       "      <td>...</td>\n",
       "      <td>...</td>\n",
       "      <td>...</td>\n",
       "      <td>...</td>\n",
       "      <td>...</td>\n",
       "      <td>...</td>\n",
       "      <td>...</td>\n",
       "    </tr>\n",
       "    <tr>\n",
       "      <th>29748460</th>\n",
       "      <td>4392079</td>\n",
       "      <td>2015-09-30</td>\n",
       "      <td>2</td>\n",
       "      <td>0</td>\n",
       "      <td>0</td>\n",
       "      <td>0</td>\n",
       "      <td>51</td>\n",
       "      <td>52</td>\n",
       "      <td>-9.223372e+15</td>\n",
       "    </tr>\n",
       "    <tr>\n",
       "      <th>29790724</th>\n",
       "      <td>6460491</td>\n",
       "      <td>2015-06-28</td>\n",
       "      <td>4</td>\n",
       "      <td>0</td>\n",
       "      <td>1</td>\n",
       "      <td>0</td>\n",
       "      <td>45</td>\n",
       "      <td>47</td>\n",
       "      <td>-9.223372e+15</td>\n",
       "    </tr>\n",
       "    <tr>\n",
       "      <th>29791059</th>\n",
       "      <td>6460491</td>\n",
       "      <td>2015-06-01</td>\n",
       "      <td>1</td>\n",
       "      <td>0</td>\n",
       "      <td>0</td>\n",
       "      <td>1</td>\n",
       "      <td>18</td>\n",
       "      <td>19</td>\n",
       "      <td>-9.223372e+15</td>\n",
       "    </tr>\n",
       "    <tr>\n",
       "      <th>29791174</th>\n",
       "      <td>6460491</td>\n",
       "      <td>2015-06-09</td>\n",
       "      <td>4</td>\n",
       "      <td>1</td>\n",
       "      <td>3</td>\n",
       "      <td>0</td>\n",
       "      <td>46</td>\n",
       "      <td>51</td>\n",
       "      <td>-9.223372e+15</td>\n",
       "    </tr>\n",
       "    <tr>\n",
       "      <th>29791370</th>\n",
       "      <td>6460491</td>\n",
       "      <td>2015-08-12</td>\n",
       "      <td>6</td>\n",
       "      <td>2</td>\n",
       "      <td>1</td>\n",
       "      <td>2</td>\n",
       "      <td>20</td>\n",
       "      <td>31</td>\n",
       "      <td>-9.223372e+15</td>\n",
       "    </tr>\n",
       "  </tbody>\n",
       "</table>\n",
       "<p>4020 rows × 9 columns</p>\n",
       "</div>"
      ],
      "text/plain": [
       "          msno_num       date  num_25  num_50  num_75  num_985  num_100  \\\n",
       "13794       697708 2015-07-17      13       1       4        4       74   \n",
       "15320       796953 2015-07-12       6       0       0        0      105   \n",
       "15327       796953 2015-07-14       2       0       0        1       15   \n",
       "35466      1927276 2015-09-01       4       2       2        5       17   \n",
       "35830      1927276 2015-08-07       1       2       1        4       52   \n",
       "...            ...        ...     ...     ...     ...      ...      ...   \n",
       "29748460   4392079 2015-09-30       2       0       0        0       51   \n",
       "29790724   6460491 2015-06-28       4       0       1        0       45   \n",
       "29791059   6460491 2015-06-01       1       0       0        1       18   \n",
       "29791174   6460491 2015-06-09       4       1       3        0       46   \n",
       "29791370   6460491 2015-08-12       6       2       1        2       20   \n",
       "\n",
       "          num_unq    total_secs  \n",
       "13794          40 -9.223372e+15  \n",
       "15320         104 -9.223372e+15  \n",
       "15327          16 -9.223372e+15  \n",
       "35466          30 -9.223372e+15  \n",
       "35830          57 -9.223372e+15  \n",
       "...           ...           ...  \n",
       "29748460       52 -9.223372e+15  \n",
       "29790724       47 -9.223372e+15  \n",
       "29791059       19 -9.223372e+15  \n",
       "29791174       51 -9.223372e+15  \n",
       "29791370       31 -9.223372e+15  \n",
       "\n",
       "[4020 rows x 9 columns]"
      ]
     },
     "execution_count": 25,
     "metadata": {},
     "output_type": "execute_result"
    }
   ],
   "source": [
    "userlog_df[userlog_df['total_secs'] < 0]"
   ]
  },
  {
   "cell_type": "code",
   "execution_count": 29,
   "metadata": {},
   "outputs": [],
   "source": [
    "userlog_filtered = userlog_df[userlog_filter1 & userlog_filter2]"
   ]
  },
  {
   "cell_type": "markdown",
   "metadata": {},
   "source": [
    "- 선형적인 모습이 보이는지 확인하기 위해서 시각화를 진행했으나, 선형적인 데이터 분포는 아니었음"
   ]
  },
  {
   "cell_type": "code",
   "execution_count": 31,
   "metadata": {},
   "outputs": [
    {
     "data": {
      "text/plain": [
       "<AxesSubplot: ylabel='total_secs'>"
      ]
     },
     "execution_count": 31,
     "metadata": {},
     "output_type": "execute_result"
    },
    {
     "data": {
      "image/png": "[encoded data removed]",
      "text/plain": [
       "<Figure size 640x480 with 1 Axes>"
      ]
     },
     "metadata": {},
     "output_type": "display_data"
    }
   ],
   "source": [
    "sns.scatterplot(data=userlog_filtered, \n",
    "                x=(userlog_filtered['num_25']+userlog_filtered['num_50']+userlog_filtered['num_75']+userlog_filtered['num_985']+userlog_filtered['num_100']),\n",
    "                y=userlog_filtered['total_secs'])"
   ]
  },
  {
   "cell_type": "code",
   "execution_count": 32,
   "metadata": {},
   "outputs": [
    {
     "data": {
      "text/plain": [
       "<AxesSubplot: xlabel='num_100', ylabel='total_secs'>"
      ]
     },
     "execution_count": 32,
     "metadata": {},
     "output_type": "execute_result"
    },
    {
     "data": {
      "image/png": "[encoded data removed]",
      "text/plain": [
       "<Figure size 640x480 with 1 Axes>"
      ]
     },
     "metadata": {},
     "output_type": "display_data"
    }
   ],
   "source": [
    "sns.scatterplot(data=userlog_filtered, \n",
    "                x=userlog_filtered['num_100'],\n",
    "                y=userlog_filtered['total_secs'])"
   ]
  },
  {
   "cell_type": "code",
   "execution_count": 11,
   "metadata": {},
   "outputs": [
    {
     "data": {
      "text/html": [
       "<div>\n",
       "<style scoped>\n",
       "    .dataframe tbody tr th:only-of-type {\n",
       "        vertical-align: middle;\n",
       "    }\n",
       "\n",
       "    .dataframe tbody tr th {\n",
       "        vertical-align: top;\n",
       "    }\n",
       "\n",
       "    .dataframe thead th {\n",
       "        text-align: right;\n",
       "    }\n",
       "</style>\n",
       "<table border=\"1\" class=\"dataframe\">\n",
       "  <thead>\n",
       "    <tr style=\"text-align: right;\">\n",
       "      <th></th>\n",
       "      <th>msno_num</th>\n",
       "      <th>date</th>\n",
       "      <th>num_25</th>\n",
       "      <th>num_50</th>\n",
       "      <th>num_75</th>\n",
       "      <th>num_985</th>\n",
       "      <th>num_100</th>\n",
       "      <th>num_unq</th>\n",
       "      <th>total_secs</th>\n",
       "    </tr>\n",
       "  </thead>\n",
       "  <tbody>\n",
       "    <tr>\n",
       "      <th>19324</th>\n",
       "      <td>1168863</td>\n",
       "      <td>2016-09-01</td>\n",
       "      <td>24</td>\n",
       "      <td>6</td>\n",
       "      <td>3</td>\n",
       "      <td>5</td>\n",
       "      <td>488</td>\n",
       "      <td>83</td>\n",
       "      <td>128319.363</td>\n",
       "    </tr>\n",
       "    <tr>\n",
       "      <th>19235</th>\n",
       "      <td>1168863</td>\n",
       "      <td>2016-12-08</td>\n",
       "      <td>84</td>\n",
       "      <td>20</td>\n",
       "      <td>19</td>\n",
       "      <td>27</td>\n",
       "      <td>1532</td>\n",
       "      <td>158</td>\n",
       "      <td>409138.154</td>\n",
       "    </tr>\n",
       "  </tbody>\n",
       "</table>\n",
       "</div>"
      ],
      "text/plain": [
       "       msno_num        date  num_25  num_50  num_75  num_985  num_100  \\\n",
       "19324   1168863  2016-09-01      24       6       3        5      488   \n",
       "19235   1168863  2016-12-08      84      20      19       27     1532   \n",
       "\n",
       "       num_unq  total_secs  \n",
       "19324       83  128319.363  \n",
       "19235      158  409138.154  "
      ]
     },
     "execution_count": 11,
     "metadata": {},
     "output_type": "execute_result"
    }
   ],
   "source": [
    "userlog_df[(userlog_df['msno_num'] == 1168863) & (userlog_df['total_secs'] > 86400)].sort_values('date')"
   ]
  },
  {
   "cell_type": "code",
   "execution_count": 17,
   "metadata": {},
   "outputs": [
    {
     "data": {
      "text/html": [
       "<div>\n",
       "<style scoped>\n",
       "    .dataframe tbody tr th:only-of-type {\n",
       "        vertical-align: middle;\n",
       "    }\n",
       "\n",
       "    .dataframe tbody tr th {\n",
       "        vertical-align: top;\n",
       "    }\n",
       "\n",
       "    .dataframe thead th {\n",
       "        text-align: right;\n",
       "    }\n",
       "</style>\n",
       "<table border=\"1\" class=\"dataframe\">\n",
       "  <thead>\n",
       "    <tr style=\"text-align: right;\">\n",
       "      <th></th>\n",
       "      <th>msno_num</th>\n",
       "      <th>date</th>\n",
       "      <th>num_25</th>\n",
       "      <th>num_50</th>\n",
       "      <th>num_75</th>\n",
       "      <th>num_985</th>\n",
       "      <th>num_100</th>\n",
       "      <th>num_unq</th>\n",
       "      <th>total_secs</th>\n",
       "    </tr>\n",
       "  </thead>\n",
       "  <tbody>\n",
       "    <tr>\n",
       "      <th>19235</th>\n",
       "      <td>1168863</td>\n",
       "      <td>2016-12-08</td>\n",
       "      <td>84</td>\n",
       "      <td>20</td>\n",
       "      <td>19</td>\n",
       "      <td>27</td>\n",
       "      <td>1532</td>\n",
       "      <td>158</td>\n",
       "      <td>409138.154</td>\n",
       "    </tr>\n",
       "    <tr>\n",
       "      <th>19242</th>\n",
       "      <td>1168863</td>\n",
       "      <td>2016-12-09</td>\n",
       "      <td>8</td>\n",
       "      <td>3</td>\n",
       "      <td>3</td>\n",
       "      <td>4</td>\n",
       "      <td>58</td>\n",
       "      <td>51</td>\n",
       "      <td>16357.139</td>\n",
       "    </tr>\n",
       "    <tr>\n",
       "      <th>19249</th>\n",
       "      <td>1168863</td>\n",
       "      <td>2016-12-10</td>\n",
       "      <td>2</td>\n",
       "      <td>0</td>\n",
       "      <td>1</td>\n",
       "      <td>2</td>\n",
       "      <td>91</td>\n",
       "      <td>84</td>\n",
       "      <td>22154.288</td>\n",
       "    </tr>\n",
       "    <tr>\n",
       "      <th>19256</th>\n",
       "      <td>1168863</td>\n",
       "      <td>2016-12-11</td>\n",
       "      <td>1</td>\n",
       "      <td>1</td>\n",
       "      <td>0</td>\n",
       "      <td>0</td>\n",
       "      <td>30</td>\n",
       "      <td>30</td>\n",
       "      <td>7299.008</td>\n",
       "    </tr>\n",
       "    <tr>\n",
       "      <th>19263</th>\n",
       "      <td>1168863</td>\n",
       "      <td>2016-12-12</td>\n",
       "      <td>1</td>\n",
       "      <td>1</td>\n",
       "      <td>0</td>\n",
       "      <td>3</td>\n",
       "      <td>15</td>\n",
       "      <td>16</td>\n",
       "      <td>4718.683</td>\n",
       "    </tr>\n",
       "    <tr>\n",
       "      <th>...</th>\n",
       "      <td>...</td>\n",
       "      <td>...</td>\n",
       "      <td>...</td>\n",
       "      <td>...</td>\n",
       "      <td>...</td>\n",
       "      <td>...</td>\n",
       "      <td>...</td>\n",
       "      <td>...</td>\n",
       "      <td>...</td>\n",
       "    </tr>\n",
       "    <tr>\n",
       "      <th>19346</th>\n",
       "      <td>1168863</td>\n",
       "      <td>2017-03-27</td>\n",
       "      <td>9</td>\n",
       "      <td>2</td>\n",
       "      <td>1</td>\n",
       "      <td>4</td>\n",
       "      <td>40</td>\n",
       "      <td>40</td>\n",
       "      <td>10849.741</td>\n",
       "    </tr>\n",
       "    <tr>\n",
       "      <th>19350</th>\n",
       "      <td>1168863</td>\n",
       "      <td>2017-03-28</td>\n",
       "      <td>9</td>\n",
       "      <td>1</td>\n",
       "      <td>2</td>\n",
       "      <td>5</td>\n",
       "      <td>61</td>\n",
       "      <td>55</td>\n",
       "      <td>17333.113</td>\n",
       "    </tr>\n",
       "    <tr>\n",
       "      <th>19329</th>\n",
       "      <td>1168863</td>\n",
       "      <td>2017-03-29</td>\n",
       "      <td>4</td>\n",
       "      <td>2</td>\n",
       "      <td>0</td>\n",
       "      <td>2</td>\n",
       "      <td>72</td>\n",
       "      <td>50</td>\n",
       "      <td>18149.720</td>\n",
       "    </tr>\n",
       "    <tr>\n",
       "      <th>19338</th>\n",
       "      <td>1168863</td>\n",
       "      <td>2017-03-30</td>\n",
       "      <td>2</td>\n",
       "      <td>1</td>\n",
       "      <td>0</td>\n",
       "      <td>4</td>\n",
       "      <td>52</td>\n",
       "      <td>45</td>\n",
       "      <td>13763.908</td>\n",
       "    </tr>\n",
       "    <tr>\n",
       "      <th>19347</th>\n",
       "      <td>1168863</td>\n",
       "      <td>2017-03-31</td>\n",
       "      <td>0</td>\n",
       "      <td>0</td>\n",
       "      <td>0</td>\n",
       "      <td>1</td>\n",
       "      <td>6</td>\n",
       "      <td>7</td>\n",
       "      <td>1767.434</td>\n",
       "    </tr>\n",
       "  </tbody>\n",
       "</table>\n",
       "<p>113 rows × 9 columns</p>\n",
       "</div>"
      ],
      "text/plain": [
       "       msno_num       date  num_25  num_50  num_75  num_985  num_100  num_unq  \\\n",
       "19235   1168863 2016-12-08      84      20      19       27     1532      158   \n",
       "19242   1168863 2016-12-09       8       3       3        4       58       51   \n",
       "19249   1168863 2016-12-10       2       0       1        2       91       84   \n",
       "19256   1168863 2016-12-11       1       1       0        0       30       30   \n",
       "19263   1168863 2016-12-12       1       1       0        3       15       16   \n",
       "...         ...        ...     ...     ...     ...      ...      ...      ...   \n",
       "19346   1168863 2017-03-27       9       2       1        4       40       40   \n",
       "19350   1168863 2017-03-28       9       1       2        5       61       55   \n",
       "19329   1168863 2017-03-29       4       2       0        2       72       50   \n",
       "19338   1168863 2017-03-30       2       1       0        4       52       45   \n",
       "19347   1168863 2017-03-31       0       0       0        1        6        7   \n",
       "\n",
       "       total_secs  \n",
       "19235  409138.154  \n",
       "19242   16357.139  \n",
       "19249   22154.288  \n",
       "19256    7299.008  \n",
       "19263    4718.683  \n",
       "...           ...  \n",
       "19346   10849.741  \n",
       "19350   17333.113  \n",
       "19329   18149.720  \n",
       "19338   13763.908  \n",
       "19347    1767.434  \n",
       "\n",
       "[113 rows x 9 columns]"
      ]
     },
     "execution_count": 17,
     "metadata": {},
     "output_type": "execute_result"
    }
   ],
   "source": [
    "userlog_df[(userlog_df['msno_num'] == 1168863) & (userlog_df['date'] >= '2016-12-08\t')].sort_values('date')"
   ]
  },
  {
   "cell_type": "markdown",
   "metadata": {},
   "source": [
    "- PCA TEST 1 극단치에 있는 유저 로그를 골라냄"
   ]
  },
  {
   "cell_type": "code",
   "execution_count": 5,
   "metadata": {},
   "outputs": [
    {
     "data": {
      "text/plain": [
       "Index(['num_25', 'num_50', 'num_75', 'num_985', 'num_100', 'num_unq',\n",
       "       'total_secs'],\n",
       "      dtype='object')"
      ]
     },
     "execution_count": 5,
     "metadata": {},
     "output_type": "execute_result"
    }
   ],
   "source": [
    "userlog_df.columns[2:9]"
   ]
  },
  {
   "cell_type": "code",
   "execution_count": 34,
   "metadata": {},
   "outputs": [],
   "source": [
    "cols = userlog_df.columns[2:9]"
   ]
  },
  {
   "cell_type": "code",
   "execution_count": 7,
   "metadata": {},
   "outputs": [],
   "source": [
    "df_targ = userlog_df[cols]"
   ]
  },
  {
   "cell_type": "code",
   "execution_count": 8,
   "metadata": {},
   "outputs": [],
   "source": [
    "scaler = MinMaxScaler()\n",
    "df_targ_scaled = scaler.fit_transform(df_targ)"
   ]
  },
  {
   "cell_type": "code",
   "execution_count": 17,
   "metadata": {},
   "outputs": [],
   "source": [
    "pca = PCA(n_components=2)\n",
    "user_log_pca = pca.fit_transform(df_targ_scaled)"
   ]
  },
  {
   "cell_type": "code",
   "execution_count": 19,
   "metadata": {},
   "outputs": [],
   "source": [
    "df_user_log_pca=pd.DataFrame(user_log_pca, columns=['pca_x', 'pca_y'])"
   ]
  },
  {
   "cell_type": "code",
   "execution_count": 21,
   "metadata": {},
   "outputs": [
    {
     "data": {
      "text/plain": [
       "<matplotlib.collections.PathCollection at 0x16a72d211c0>"
      ]
     },
     "execution_count": 21,
     "metadata": {},
     "output_type": "execute_result"
    },
    {
     "data": {
      "image/png": "[encoded data removed]",
      "text/plain": [
       "<Figure size 640x480 with 1 Axes>"
      ]
     },
     "metadata": {},
     "output_type": "display_data"
    }
   ],
   "source": [
    "plt.scatter(x=df_user_log_pca['pca_x'], y=df_user_log_pca['pca_y'])"
   ]
  },
  {
   "cell_type": "code",
   "execution_count": 23,
   "metadata": {},
   "outputs": [],
   "source": [
    "userlog_df['pca_x'] = df_user_log_pca['pca_x']\n",
    "userlog_df['pca_y'] = df_user_log_pca['pca_y']"
   ]
  },
  {
   "cell_type": "code",
   "execution_count": 25,
   "metadata": {},
   "outputs": [
    {
     "data": {
      "text/html": [
       "<div>\n",
       "<style scoped>\n",
       "    .dataframe tbody tr th:only-of-type {\n",
       "        vertical-align: middle;\n",
       "    }\n",
       "\n",
       "    .dataframe tbody tr th {\n",
       "        vertical-align: top;\n",
       "    }\n",
       "\n",
       "    .dataframe thead th {\n",
       "        text-align: right;\n",
       "    }\n",
       "</style>\n",
       "<table border=\"1\" class=\"dataframe\">\n",
       "  <thead>\n",
       "    <tr style=\"text-align: right;\">\n",
       "      <th></th>\n",
       "      <th>msno_num</th>\n",
       "      <th>date</th>\n",
       "      <th>num_25</th>\n",
       "      <th>num_50</th>\n",
       "      <th>num_75</th>\n",
       "      <th>num_985</th>\n",
       "      <th>num_100</th>\n",
       "      <th>num_unq</th>\n",
       "      <th>total_secs</th>\n",
       "      <th>cluster</th>\n",
       "      <th>pca_x</th>\n",
       "      <th>pca_y</th>\n",
       "    </tr>\n",
       "  </thead>\n",
       "  <tbody>\n",
       "    <tr>\n",
       "      <th>13794</th>\n",
       "      <td>697708</td>\n",
       "      <td>2015-07-17</td>\n",
       "      <td>13</td>\n",
       "      <td>1</td>\n",
       "      <td>4</td>\n",
       "      <td>4</td>\n",
       "      <td>74</td>\n",
       "      <td>40</td>\n",
       "      <td>-9.223372e+15</td>\n",
       "      <td>4</td>\n",
       "      <td>0.008075</td>\n",
       "      <td>0.499887</td>\n",
       "    </tr>\n",
       "    <tr>\n",
       "      <th>15320</th>\n",
       "      <td>796953</td>\n",
       "      <td>2015-07-12</td>\n",
       "      <td>6</td>\n",
       "      <td>0</td>\n",
       "      <td>0</td>\n",
       "      <td>0</td>\n",
       "      <td>105</td>\n",
       "      <td>104</td>\n",
       "      <td>-9.223372e+15</td>\n",
       "      <td>4</td>\n",
       "      <td>0.029902</td>\n",
       "      <td>0.499747</td>\n",
       "    </tr>\n",
       "    <tr>\n",
       "      <th>15327</th>\n",
       "      <td>796953</td>\n",
       "      <td>2015-07-14</td>\n",
       "      <td>2</td>\n",
       "      <td>0</td>\n",
       "      <td>0</td>\n",
       "      <td>1</td>\n",
       "      <td>15</td>\n",
       "      <td>16</td>\n",
       "      <td>-9.223372e+15</td>\n",
       "      <td>4</td>\n",
       "      <td>-0.002339</td>\n",
       "      <td>0.499959</td>\n",
       "    </tr>\n",
       "    <tr>\n",
       "      <th>35466</th>\n",
       "      <td>1927276</td>\n",
       "      <td>2015-09-01</td>\n",
       "      <td>4</td>\n",
       "      <td>2</td>\n",
       "      <td>2</td>\n",
       "      <td>5</td>\n",
       "      <td>17</td>\n",
       "      <td>30</td>\n",
       "      <td>-9.223372e+15</td>\n",
       "      <td>4</td>\n",
       "      <td>0.003019</td>\n",
       "      <td>0.499924</td>\n",
       "    </tr>\n",
       "    <tr>\n",
       "      <th>35830</th>\n",
       "      <td>1927276</td>\n",
       "      <td>2015-08-07</td>\n",
       "      <td>1</td>\n",
       "      <td>2</td>\n",
       "      <td>1</td>\n",
       "      <td>4</td>\n",
       "      <td>52</td>\n",
       "      <td>57</td>\n",
       "      <td>-9.223372e+15</td>\n",
       "      <td>4</td>\n",
       "      <td>0.012920</td>\n",
       "      <td>0.499859</td>\n",
       "    </tr>\n",
       "    <tr>\n",
       "      <th>...</th>\n",
       "      <td>...</td>\n",
       "      <td>...</td>\n",
       "      <td>...</td>\n",
       "      <td>...</td>\n",
       "      <td>...</td>\n",
       "      <td>...</td>\n",
       "      <td>...</td>\n",
       "      <td>...</td>\n",
       "      <td>...</td>\n",
       "      <td>...</td>\n",
       "      <td>...</td>\n",
       "      <td>...</td>\n",
       "    </tr>\n",
       "    <tr>\n",
       "      <th>29748460</th>\n",
       "      <td>4392079</td>\n",
       "      <td>2015-09-30</td>\n",
       "      <td>2</td>\n",
       "      <td>0</td>\n",
       "      <td>0</td>\n",
       "      <td>0</td>\n",
       "      <td>51</td>\n",
       "      <td>52</td>\n",
       "      <td>-9.223372e+15</td>\n",
       "      <td>4</td>\n",
       "      <td>0.010805</td>\n",
       "      <td>0.499872</td>\n",
       "    </tr>\n",
       "    <tr>\n",
       "      <th>29790724</th>\n",
       "      <td>6460491</td>\n",
       "      <td>2015-06-28</td>\n",
       "      <td>4</td>\n",
       "      <td>0</td>\n",
       "      <td>1</td>\n",
       "      <td>0</td>\n",
       "      <td>45</td>\n",
       "      <td>47</td>\n",
       "      <td>-9.223372e+15</td>\n",
       "      <td>4</td>\n",
       "      <td>0.009098</td>\n",
       "      <td>0.499884</td>\n",
       "    </tr>\n",
       "    <tr>\n",
       "      <th>29791059</th>\n",
       "      <td>6460491</td>\n",
       "      <td>2015-06-01</td>\n",
       "      <td>1</td>\n",
       "      <td>0</td>\n",
       "      <td>0</td>\n",
       "      <td>1</td>\n",
       "      <td>18</td>\n",
       "      <td>19</td>\n",
       "      <td>-9.223372e+15</td>\n",
       "      <td>4</td>\n",
       "      <td>-0.001253</td>\n",
       "      <td>0.499951</td>\n",
       "    </tr>\n",
       "    <tr>\n",
       "      <th>29791174</th>\n",
       "      <td>6460491</td>\n",
       "      <td>2015-06-09</td>\n",
       "      <td>4</td>\n",
       "      <td>1</td>\n",
       "      <td>3</td>\n",
       "      <td>0</td>\n",
       "      <td>46</td>\n",
       "      <td>51</td>\n",
       "      <td>-9.223372e+15</td>\n",
       "      <td>4</td>\n",
       "      <td>0.010846</td>\n",
       "      <td>0.499873</td>\n",
       "    </tr>\n",
       "    <tr>\n",
       "      <th>29791370</th>\n",
       "      <td>6460491</td>\n",
       "      <td>2015-08-12</td>\n",
       "      <td>6</td>\n",
       "      <td>2</td>\n",
       "      <td>1</td>\n",
       "      <td>2</td>\n",
       "      <td>20</td>\n",
       "      <td>31</td>\n",
       "      <td>-9.223372e+15</td>\n",
       "      <td>4</td>\n",
       "      <td>0.003302</td>\n",
       "      <td>0.499922</td>\n",
       "    </tr>\n",
       "  </tbody>\n",
       "</table>\n",
       "<p>4020 rows × 12 columns</p>\n",
       "</div>"
      ],
      "text/plain": [
       "          msno_num        date  num_25  num_50  num_75  num_985  num_100  \\\n",
       "13794       697708  2015-07-17      13       1       4        4       74   \n",
       "15320       796953  2015-07-12       6       0       0        0      105   \n",
       "15327       796953  2015-07-14       2       0       0        1       15   \n",
       "35466      1927276  2015-09-01       4       2       2        5       17   \n",
       "35830      1927276  2015-08-07       1       2       1        4       52   \n",
       "...            ...         ...     ...     ...     ...      ...      ...   \n",
       "29748460   4392079  2015-09-30       2       0       0        0       51   \n",
       "29790724   6460491  2015-06-28       4       0       1        0       45   \n",
       "29791059   6460491  2015-06-01       1       0       0        1       18   \n",
       "29791174   6460491  2015-06-09       4       1       3        0       46   \n",
       "29791370   6460491  2015-08-12       6       2       1        2       20   \n",
       "\n",
       "          num_unq    total_secs  cluster     pca_x     pca_y  \n",
       "13794          40 -9.223372e+15        4  0.008075  0.499887  \n",
       "15320         104 -9.223372e+15        4  0.029902  0.499747  \n",
       "15327          16 -9.223372e+15        4 -0.002339  0.499959  \n",
       "35466          30 -9.223372e+15        4  0.003019  0.499924  \n",
       "35830          57 -9.223372e+15        4  0.012920  0.499859  \n",
       "...           ...           ...      ...       ...       ...  \n",
       "29748460       52 -9.223372e+15        4  0.010805  0.499872  \n",
       "29790724       47 -9.223372e+15        4  0.009098  0.499884  \n",
       "29791059       19 -9.223372e+15        4 -0.001253  0.499951  \n",
       "29791174       51 -9.223372e+15        4  0.010846  0.499873  \n",
       "29791370       31 -9.223372e+15        4  0.003302  0.499922  \n",
       "\n",
       "[4020 rows x 12 columns]"
      ]
     },
     "execution_count": 25,
     "metadata": {},
     "output_type": "execute_result"
    }
   ],
   "source": [
    "userlog_df[userlog_df['pca_y'] > 0.2].index"
   ]
  },
  {
   "cell_type": "code",
   "execution_count": 26,
   "metadata": {},
   "outputs": [
    {
     "data": {
      "text/html": [
       "<div>\n",
       "<style scoped>\n",
       "    .dataframe tbody tr th:only-of-type {\n",
       "        vertical-align: middle;\n",
       "    }\n",
       "\n",
       "    .dataframe tbody tr th {\n",
       "        vertical-align: top;\n",
       "    }\n",
       "\n",
       "    .dataframe thead th {\n",
       "        text-align: right;\n",
       "    }\n",
       "</style>\n",
       "<table border=\"1\" class=\"dataframe\">\n",
       "  <thead>\n",
       "    <tr style=\"text-align: right;\">\n",
       "      <th></th>\n",
       "      <th>msno_num</th>\n",
       "      <th>date</th>\n",
       "      <th>num_25</th>\n",
       "      <th>num_50</th>\n",
       "      <th>num_75</th>\n",
       "      <th>num_985</th>\n",
       "      <th>num_100</th>\n",
       "      <th>num_unq</th>\n",
       "      <th>total_secs</th>\n",
       "      <th>cluster</th>\n",
       "      <th>pca_x</th>\n",
       "      <th>pca_y</th>\n",
       "    </tr>\n",
       "  </thead>\n",
       "  <tbody>\n",
       "    <tr>\n",
       "      <th>4161943</th>\n",
       "      <td>6592924</td>\n",
       "      <td>2015-06-28</td>\n",
       "      <td>0</td>\n",
       "      <td>0</td>\n",
       "      <td>0</td>\n",
       "      <td>0</td>\n",
       "      <td>1</td>\n",
       "      <td>1</td>\n",
       "      <td>9.223372e+15</td>\n",
       "      <td>0</td>\n",
       "      <td>-0.014368</td>\n",
       "      <td>-0.499984</td>\n",
       "    </tr>\n",
       "    <tr>\n",
       "      <th>6207701</th>\n",
       "      <td>5678277</td>\n",
       "      <td>2015-08-13</td>\n",
       "      <td>0</td>\n",
       "      <td>0</td>\n",
       "      <td>0</td>\n",
       "      <td>0</td>\n",
       "      <td>1</td>\n",
       "      <td>1</td>\n",
       "      <td>9.223372e+15</td>\n",
       "      <td>0</td>\n",
       "      <td>-0.014368</td>\n",
       "      <td>-0.499984</td>\n",
       "    </tr>\n",
       "    <tr>\n",
       "      <th>24166098</th>\n",
       "      <td>5122385</td>\n",
       "      <td>2015-05-25</td>\n",
       "      <td>0</td>\n",
       "      <td>0</td>\n",
       "      <td>0</td>\n",
       "      <td>0</td>\n",
       "      <td>3</td>\n",
       "      <td>1</td>\n",
       "      <td>9.223372e+15</td>\n",
       "      <td>0</td>\n",
       "      <td>-0.014318</td>\n",
       "      <td>-0.499984</td>\n",
       "    </tr>\n",
       "    <tr>\n",
       "      <th>27438485</th>\n",
       "      <td>2199597</td>\n",
       "      <td>2015-05-04</td>\n",
       "      <td>0</td>\n",
       "      <td>0</td>\n",
       "      <td>0</td>\n",
       "      <td>0</td>\n",
       "      <td>1</td>\n",
       "      <td>1</td>\n",
       "      <td>9.223372e+15</td>\n",
       "      <td>0</td>\n",
       "      <td>-0.014368</td>\n",
       "      <td>-0.499984</td>\n",
       "    </tr>\n",
       "  </tbody>\n",
       "</table>\n",
       "</div>"
      ],
      "text/plain": [
       "          msno_num        date  num_25  num_50  num_75  num_985  num_100  \\\n",
       "4161943    6592924  2015-06-28       0       0       0        0        1   \n",
       "6207701    5678277  2015-08-13       0       0       0        0        1   \n",
       "24166098   5122385  2015-05-25       0       0       0        0        3   \n",
       "27438485   2199597  2015-05-04       0       0       0        0        1   \n",
       "\n",
       "          num_unq    total_secs  cluster     pca_x     pca_y  \n",
       "4161943         1  9.223372e+15        0 -0.014368 -0.499984  \n",
       "6207701         1  9.223372e+15        0 -0.014368 -0.499984  \n",
       "24166098        1  9.223372e+15        0 -0.014318 -0.499984  \n",
       "27438485        1  9.223372e+15        0 -0.014368 -0.499984  "
      ]
     },
     "execution_count": 26,
     "metadata": {},
     "output_type": "execute_result"
    }
   ],
   "source": [
    "userlog_df[userlog_df['pca_y'] < -0.2]"
   ]
  },
  {
   "attachments": {},
   "cell_type": "markdown",
   "metadata": {},
   "source": [
    "- PCA TEST2. total_secs가 0~86400인 경우만 필터링하여 다시 PCA"
   ]
  },
  {
   "cell_type": "code",
   "execution_count": 44,
   "metadata": {},
   "outputs": [
    {
     "data": {
      "text/plain": [
       "<matplotlib.collections.PathCollection at 0x16addf19d90>"
      ]
     },
     "execution_count": 44,
     "metadata": {},
     "output_type": "execute_result"
    },
    {
     "data": {
      "image/png": "[encoded data removed]",
      "text/plain": [
       "<Figure size 640x480 with 1 Axes>"
      ]
     },
     "metadata": {},
     "output_type": "display_data"
    }
   ],
   "source": [
    "userlog_filtered = userlog_df[userlog_filter1 & userlog_filter2]\n",
    "\n",
    "userlog_filtered = userlog_filtered[cols]\n",
    "\n",
    "userlog_filtered_scaled = scaler.fit_transform(userlog_filtered)\n",
    "\n",
    "\n",
    "pca2 = PCA(n_components=2)\n",
    "user_log_filtered_pca = pca2.fit_transform(userlog_filtered_scaled)\n",
    "\n",
    "df_user_log_filtered_pca=pd.DataFrame(user_log_filtered_pca, columns=['pca_x', 'pca_y'])\n",
    "\n",
    "plt.scatter(x=df_user_log_filtered_pca['pca_x'], y=df_user_log_filtered_pca['pca_y'])"
   ]
  },
  {
   "cell_type": "code",
   "execution_count": 36,
   "metadata": {},
   "outputs": [
    {
     "name": "stderr",
     "output_type": "stream",
     "text": [
      "C:\\Users\\jiho\\AppData\\Local\\Temp\\ipykernel_21336\\1175758428.py:1: SettingWithCopyWarning: \n",
      "A value is trying to be set on a copy of a slice from a DataFrame.\n",
      "Try using .loc[row_indexer,col_indexer] = value instead\n",
      "\n",
      "See the caveats in the documentation: https://pandas.pydata.org/pandas-docs/stable/user_guide/indexing.html#returning-a-view-versus-a-copy\n",
      "  userlog_filtered['pca_y'] = df_user_log_filtered_pca['pca_y']\n"
     ]
    }
   ],
   "source": [
    "userlog_filtered['pca_y'] = df_user_log_filtered_pca['pca_y']"
   ]
  },
  {
   "cell_type": "code",
   "execution_count": 45,
   "metadata": {},
   "outputs": [
    {
     "data": {
      "text/html": [
       "<div>\n",
       "<style scoped>\n",
       "    .dataframe tbody tr th:only-of-type {\n",
       "        vertical-align: middle;\n",
       "    }\n",
       "\n",
       "    .dataframe tbody tr th {\n",
       "        vertical-align: top;\n",
       "    }\n",
       "\n",
       "    .dataframe thead th {\n",
       "        text-align: right;\n",
       "    }\n",
       "</style>\n",
       "<table border=\"1\" class=\"dataframe\">\n",
       "  <thead>\n",
       "    <tr style=\"text-align: right;\">\n",
       "      <th></th>\n",
       "      <th>pca_x</th>\n",
       "      <th>pca_y</th>\n",
       "    </tr>\n",
       "  </thead>\n",
       "  <tbody>\n",
       "    <tr>\n",
       "      <th>0</th>\n",
       "      <td>-0.032912</td>\n",
       "      <td>-0.001846</td>\n",
       "    </tr>\n",
       "    <tr>\n",
       "      <th>1</th>\n",
       "      <td>-0.038993</td>\n",
       "      <td>-0.002628</td>\n",
       "    </tr>\n",
       "    <tr>\n",
       "      <th>2</th>\n",
       "      <td>-0.042618</td>\n",
       "      <td>0.007989</td>\n",
       "    </tr>\n",
       "    <tr>\n",
       "      <th>3</th>\n",
       "      <td>-0.083122</td>\n",
       "      <td>-0.003400</td>\n",
       "    </tr>\n",
       "    <tr>\n",
       "      <th>4</th>\n",
       "      <td>-0.020534</td>\n",
       "      <td>-0.002801</td>\n",
       "    </tr>\n",
       "    <tr>\n",
       "      <th>...</th>\n",
       "      <td>...</td>\n",
       "      <td>...</td>\n",
       "    </tr>\n",
       "    <tr>\n",
       "      <th>29798554</th>\n",
       "      <td>-0.082686</td>\n",
       "      <td>-0.004581</td>\n",
       "    </tr>\n",
       "    <tr>\n",
       "      <th>29798555</th>\n",
       "      <td>-0.071387</td>\n",
       "      <td>-0.002949</td>\n",
       "    </tr>\n",
       "    <tr>\n",
       "      <th>29798556</th>\n",
       "      <td>-0.055193</td>\n",
       "      <td>-0.004277</td>\n",
       "    </tr>\n",
       "    <tr>\n",
       "      <th>29798557</th>\n",
       "      <td>-0.086654</td>\n",
       "      <td>-0.003963</td>\n",
       "    </tr>\n",
       "    <tr>\n",
       "      <th>29798558</th>\n",
       "      <td>-0.041270</td>\n",
       "      <td>-0.003706</td>\n",
       "    </tr>\n",
       "  </tbody>\n",
       "</table>\n",
       "<p>29798559 rows × 2 columns</p>\n",
       "</div>"
      ],
      "text/plain": [
       "             pca_x     pca_y\n",
       "0        -0.032912 -0.001846\n",
       "1        -0.038993 -0.002628\n",
       "2        -0.042618  0.007989\n",
       "3        -0.083122 -0.003400\n",
       "4        -0.020534 -0.002801\n",
       "...            ...       ...\n",
       "29798554 -0.082686 -0.004581\n",
       "29798555 -0.071387 -0.002949\n",
       "29798556 -0.055193 -0.004277\n",
       "29798557 -0.086654 -0.003963\n",
       "29798558 -0.041270 -0.003706\n",
       "\n",
       "[29798559 rows x 2 columns]"
      ]
     },
     "execution_count": 45,
     "metadata": {},
     "output_type": "execute_result"
    }
   ],
   "source": [
    "df_user_log_filtered_pca"
   ]
  },
  {
   "cell_type": "code",
   "execution_count": 47,
   "metadata": {},
   "outputs": [],
   "source": [
    "userlog_filtered['pca_x'] = df_user_log_filtered_pca['pca_x']\n",
    "userlog_filtered['pca_y'] = df_user_log_filtered_pca['pca_y']"
   ]
  },
  {
   "cell_type": "code",
   "execution_count": 48,
   "metadata": {},
   "outputs": [
    {
     "data": {
      "text/html": [
       "<div>\n",
       "<style scoped>\n",
       "    .dataframe tbody tr th:only-of-type {\n",
       "        vertical-align: middle;\n",
       "    }\n",
       "\n",
       "    .dataframe tbody tr th {\n",
       "        vertical-align: top;\n",
       "    }\n",
       "\n",
       "    .dataframe thead th {\n",
       "        text-align: right;\n",
       "    }\n",
       "</style>\n",
       "<table border=\"1\" class=\"dataframe\">\n",
       "  <thead>\n",
       "    <tr style=\"text-align: right;\">\n",
       "      <th></th>\n",
       "      <th>pca_x</th>\n",
       "      <th>pca_y</th>\n",
       "    </tr>\n",
       "  </thead>\n",
       "  <tbody>\n",
       "    <tr>\n",
       "      <th>0</th>\n",
       "      <td>-0.032912</td>\n",
       "      <td>-0.001846</td>\n",
       "    </tr>\n",
       "    <tr>\n",
       "      <th>1</th>\n",
       "      <td>-0.038993</td>\n",
       "      <td>-0.002628</td>\n",
       "    </tr>\n",
       "    <tr>\n",
       "      <th>2</th>\n",
       "      <td>-0.042618</td>\n",
       "      <td>0.007989</td>\n",
       "    </tr>\n",
       "    <tr>\n",
       "      <th>3</th>\n",
       "      <td>-0.083122</td>\n",
       "      <td>-0.003400</td>\n",
       "    </tr>\n",
       "    <tr>\n",
       "      <th>4</th>\n",
       "      <td>-0.020534</td>\n",
       "      <td>-0.002801</td>\n",
       "    </tr>\n",
       "    <tr>\n",
       "      <th>...</th>\n",
       "      <td>...</td>\n",
       "      <td>...</td>\n",
       "    </tr>\n",
       "    <tr>\n",
       "      <th>29798554</th>\n",
       "      <td>-0.082686</td>\n",
       "      <td>-0.004581</td>\n",
       "    </tr>\n",
       "    <tr>\n",
       "      <th>29798555</th>\n",
       "      <td>-0.071387</td>\n",
       "      <td>-0.002949</td>\n",
       "    </tr>\n",
       "    <tr>\n",
       "      <th>29798556</th>\n",
       "      <td>-0.055193</td>\n",
       "      <td>-0.004277</td>\n",
       "    </tr>\n",
       "    <tr>\n",
       "      <th>29798557</th>\n",
       "      <td>-0.086654</td>\n",
       "      <td>-0.003963</td>\n",
       "    </tr>\n",
       "    <tr>\n",
       "      <th>29798558</th>\n",
       "      <td>-0.041270</td>\n",
       "      <td>-0.003706</td>\n",
       "    </tr>\n",
       "  </tbody>\n",
       "</table>\n",
       "<p>29798559 rows × 2 columns</p>\n",
       "</div>"
      ],
      "text/plain": [
       "             pca_x     pca_y\n",
       "0        -0.032912 -0.001846\n",
       "1        -0.038993 -0.002628\n",
       "2        -0.042618  0.007989\n",
       "3        -0.083122 -0.003400\n",
       "4        -0.020534 -0.002801\n",
       "...            ...       ...\n",
       "29798554 -0.082686 -0.004581\n",
       "29798555 -0.071387 -0.002949\n",
       "29798556 -0.055193 -0.004277\n",
       "29798557 -0.086654 -0.003963\n",
       "29798558 -0.041270 -0.003706\n",
       "\n",
       "[29798559 rows x 2 columns]"
      ]
     },
     "execution_count": 48,
     "metadata": {},
     "output_type": "execute_result"
    }
   ],
   "source": [
    "df_user_log_filtered_pca"
   ]
  },
  {
   "cell_type": "code",
   "execution_count": 52,
   "metadata": {},
   "outputs": [
    {
     "name": "stdout",
     "output_type": "stream",
     "text": [
      "Fitting 5 folds for each of 6 candidates, totalling 30 fits\n"
     ]
    },
    {
     "name": "stderr",
     "output_type": "stream",
     "text": [
      "c:\\Users\\jiho\\anaconda3\\envs\\ds_study\\lib\\site-packages\\sklearn\\cluster\\_kmeans.py:870: FutureWarning: The default value of `n_init` will change from 10 to 'auto' in 1.4. Set the value of `n_init` explicitly to suppress the warning\n",
      "  warnings.warn(\n"
     ]
    },
    {
     "name": "stdout",
     "output_type": "stream",
     "text": [
      "[CV] END .......................................n_clusters=2; total time=  55.1s\n"
     ]
    },
    {
     "name": "stderr",
     "output_type": "stream",
     "text": [
      "c:\\Users\\jiho\\anaconda3\\envs\\ds_study\\lib\\site-packages\\sklearn\\cluster\\_kmeans.py:870: FutureWarning: The default value of `n_init` will change from 10 to 'auto' in 1.4. Set the value of `n_init` explicitly to suppress the warning\n",
      "  warnings.warn(\n"
     ]
    },
    {
     "name": "stdout",
     "output_type": "stream",
     "text": [
      "[CV] END .......................................n_clusters=2; total time=  51.7s\n"
     ]
    },
    {
     "name": "stderr",
     "output_type": "stream",
     "text": [
      "c:\\Users\\jiho\\anaconda3\\envs\\ds_study\\lib\\site-packages\\sklearn\\cluster\\_kmeans.py:870: FutureWarning: The default value of `n_init` will change from 10 to 'auto' in 1.4. Set the value of `n_init` explicitly to suppress the warning\n",
      "  warnings.warn(\n"
     ]
    },
    {
     "name": "stdout",
     "output_type": "stream",
     "text": [
      "[CV] END .......................................n_clusters=2; total time=  51.3s\n"
     ]
    },
    {
     "name": "stderr",
     "output_type": "stream",
     "text": [
      "c:\\Users\\jiho\\anaconda3\\envs\\ds_study\\lib\\site-packages\\sklearn\\cluster\\_kmeans.py:870: FutureWarning: The default value of `n_init` will change from 10 to 'auto' in 1.4. Set the value of `n_init` explicitly to suppress the warning\n",
      "  warnings.warn(\n"
     ]
    },
    {
     "name": "stdout",
     "output_type": "stream",
     "text": [
      "[CV] END .......................................n_clusters=2; total time=  54.6s\n"
     ]
    },
    {
     "name": "stderr",
     "output_type": "stream",
     "text": [
      "c:\\Users\\jiho\\anaconda3\\envs\\ds_study\\lib\\site-packages\\sklearn\\cluster\\_kmeans.py:870: FutureWarning: The default value of `n_init` will change from 10 to 'auto' in 1.4. Set the value of `n_init` explicitly to suppress the warning\n",
      "  warnings.warn(\n"
     ]
    },
    {
     "name": "stdout",
     "output_type": "stream",
     "text": [
      "[CV] END .......................................n_clusters=2; total time=  49.6s\n"
     ]
    },
    {
     "name": "stderr",
     "output_type": "stream",
     "text": [
      "c:\\Users\\jiho\\anaconda3\\envs\\ds_study\\lib\\site-packages\\sklearn\\cluster\\_kmeans.py:870: FutureWarning: The default value of `n_init` will change from 10 to 'auto' in 1.4. Set the value of `n_init` explicitly to suppress the warning\n",
      "  warnings.warn(\n"
     ]
    },
    {
     "name": "stdout",
     "output_type": "stream",
     "text": [
      "[CV] END .......................................n_clusters=3; total time= 1.5min\n"
     ]
    },
    {
     "name": "stderr",
     "output_type": "stream",
     "text": [
      "c:\\Users\\jiho\\anaconda3\\envs\\ds_study\\lib\\site-packages\\sklearn\\cluster\\_kmeans.py:870: FutureWarning: The default value of `n_init` will change from 10 to 'auto' in 1.4. Set the value of `n_init` explicitly to suppress the warning\n",
      "  warnings.warn(\n"
     ]
    },
    {
     "name": "stdout",
     "output_type": "stream",
     "text": [
      "[CV] END .......................................n_clusters=3; total time= 1.5min\n"
     ]
    },
    {
     "name": "stderr",
     "output_type": "stream",
     "text": [
      "c:\\Users\\jiho\\anaconda3\\envs\\ds_study\\lib\\site-packages\\sklearn\\cluster\\_kmeans.py:870: FutureWarning: The default value of `n_init` will change from 10 to 'auto' in 1.4. Set the value of `n_init` explicitly to suppress the warning\n",
      "  warnings.warn(\n"
     ]
    },
    {
     "name": "stdout",
     "output_type": "stream",
     "text": [
      "[CV] END .......................................n_clusters=3; total time= 1.4min\n"
     ]
    },
    {
     "name": "stderr",
     "output_type": "stream",
     "text": [
      "c:\\Users\\jiho\\anaconda3\\envs\\ds_study\\lib\\site-packages\\sklearn\\cluster\\_kmeans.py:870: FutureWarning: The default value of `n_init` will change from 10 to 'auto' in 1.4. Set the value of `n_init` explicitly to suppress the warning\n",
      "  warnings.warn(\n"
     ]
    },
    {
     "name": "stdout",
     "output_type": "stream",
     "text": [
      "[CV] END .......................................n_clusters=3; total time= 1.3min\n"
     ]
    },
    {
     "name": "stderr",
     "output_type": "stream",
     "text": [
      "c:\\Users\\jiho\\anaconda3\\envs\\ds_study\\lib\\site-packages\\sklearn\\cluster\\_kmeans.py:870: FutureWarning: The default value of `n_init` will change from 10 to 'auto' in 1.4. Set the value of `n_init` explicitly to suppress the warning\n",
      "  warnings.warn(\n"
     ]
    },
    {
     "name": "stdout",
     "output_type": "stream",
     "text": [
      "[CV] END .......................................n_clusters=3; total time= 1.4min\n"
     ]
    },
    {
     "name": "stderr",
     "output_type": "stream",
     "text": [
      "c:\\Users\\jiho\\anaconda3\\envs\\ds_study\\lib\\site-packages\\sklearn\\cluster\\_kmeans.py:870: FutureWarning: The default value of `n_init` will change from 10 to 'auto' in 1.4. Set the value of `n_init` explicitly to suppress the warning\n",
      "  warnings.warn(\n"
     ]
    },
    {
     "name": "stdout",
     "output_type": "stream",
     "text": [
      "[CV] END .......................................n_clusters=4; total time= 1.9min\n"
     ]
    },
    {
     "name": "stderr",
     "output_type": "stream",
     "text": [
      "c:\\Users\\jiho\\anaconda3\\envs\\ds_study\\lib\\site-packages\\sklearn\\cluster\\_kmeans.py:870: FutureWarning: The default value of `n_init` will change from 10 to 'auto' in 1.4. Set the value of `n_init` explicitly to suppress the warning\n",
      "  warnings.warn(\n"
     ]
    },
    {
     "name": "stdout",
     "output_type": "stream",
     "text": [
      "[CV] END .......................................n_clusters=4; total time= 2.1min\n"
     ]
    },
    {
     "name": "stderr",
     "output_type": "stream",
     "text": [
      "c:\\Users\\jiho\\anaconda3\\envs\\ds_study\\lib\\site-packages\\sklearn\\cluster\\_kmeans.py:870: FutureWarning: The default value of `n_init` will change from 10 to 'auto' in 1.4. Set the value of `n_init` explicitly to suppress the warning\n",
      "  warnings.warn(\n"
     ]
    },
    {
     "name": "stdout",
     "output_type": "stream",
     "text": [
      "[CV] END .......................................n_clusters=4; total time= 2.1min\n"
     ]
    },
    {
     "name": "stderr",
     "output_type": "stream",
     "text": [
      "c:\\Users\\jiho\\anaconda3\\envs\\ds_study\\lib\\site-packages\\sklearn\\cluster\\_kmeans.py:870: FutureWarning: The default value of `n_init` will change from 10 to 'auto' in 1.4. Set the value of `n_init` explicitly to suppress the warning\n",
      "  warnings.warn(\n"
     ]
    },
    {
     "name": "stdout",
     "output_type": "stream",
     "text": [
      "[CV] END .......................................n_clusters=4; total time= 2.4min\n"
     ]
    },
    {
     "name": "stderr",
     "output_type": "stream",
     "text": [
      "c:\\Users\\jiho\\anaconda3\\envs\\ds_study\\lib\\site-packages\\sklearn\\cluster\\_kmeans.py:870: FutureWarning: The default value of `n_init` will change from 10 to 'auto' in 1.4. Set the value of `n_init` explicitly to suppress the warning\n",
      "  warnings.warn(\n"
     ]
    },
    {
     "name": "stdout",
     "output_type": "stream",
     "text": [
      "[CV] END .......................................n_clusters=4; total time= 2.0min\n"
     ]
    },
    {
     "name": "stderr",
     "output_type": "stream",
     "text": [
      "c:\\Users\\jiho\\anaconda3\\envs\\ds_study\\lib\\site-packages\\sklearn\\cluster\\_kmeans.py:870: FutureWarning: The default value of `n_init` will change from 10 to 'auto' in 1.4. Set the value of `n_init` explicitly to suppress the warning\n",
      "  warnings.warn(\n"
     ]
    },
    {
     "name": "stdout",
     "output_type": "stream",
     "text": [
      "[CV] END .......................................n_clusters=5; total time= 2.8min\n"
     ]
    },
    {
     "name": "stderr",
     "output_type": "stream",
     "text": [
      "c:\\Users\\jiho\\anaconda3\\envs\\ds_study\\lib\\site-packages\\sklearn\\cluster\\_kmeans.py:870: FutureWarning: The default value of `n_init` will change from 10 to 'auto' in 1.4. Set the value of `n_init` explicitly to suppress the warning\n",
      "  warnings.warn(\n"
     ]
    },
    {
     "name": "stdout",
     "output_type": "stream",
     "text": [
      "[CV] END .......................................n_clusters=5; total time= 2.9min\n"
     ]
    },
    {
     "name": "stderr",
     "output_type": "stream",
     "text": [
      "c:\\Users\\jiho\\anaconda3\\envs\\ds_study\\lib\\site-packages\\sklearn\\cluster\\_kmeans.py:870: FutureWarning: The default value of `n_init` will change from 10 to 'auto' in 1.4. Set the value of `n_init` explicitly to suppress the warning\n",
      "  warnings.warn(\n"
     ]
    },
    {
     "name": "stdout",
     "output_type": "stream",
     "text": [
      "[CV] END .......................................n_clusters=5; total time= 3.0min\n"
     ]
    },
    {
     "name": "stderr",
     "output_type": "stream",
     "text": [
      "c:\\Users\\jiho\\anaconda3\\envs\\ds_study\\lib\\site-packages\\sklearn\\cluster\\_kmeans.py:870: FutureWarning: The default value of `n_init` will change from 10 to 'auto' in 1.4. Set the value of `n_init` explicitly to suppress the warning\n",
      "  warnings.warn(\n"
     ]
    },
    {
     "name": "stdout",
     "output_type": "stream",
     "text": [
      "[CV] END .......................................n_clusters=5; total time= 2.6min\n"
     ]
    },
    {
     "name": "stderr",
     "output_type": "stream",
     "text": [
      "c:\\Users\\jiho\\anaconda3\\envs\\ds_study\\lib\\site-packages\\sklearn\\cluster\\_kmeans.py:870: FutureWarning: The default value of `n_init` will change from 10 to 'auto' in 1.4. Set the value of `n_init` explicitly to suppress the warning\n",
      "  warnings.warn(\n"
     ]
    },
    {
     "name": "stdout",
     "output_type": "stream",
     "text": [
      "[CV] END .......................................n_clusters=5; total time= 3.2min\n"
     ]
    },
    {
     "name": "stderr",
     "output_type": "stream",
     "text": [
      "c:\\Users\\jiho\\anaconda3\\envs\\ds_study\\lib\\site-packages\\sklearn\\cluster\\_kmeans.py:870: FutureWarning: The default value of `n_init` will change from 10 to 'auto' in 1.4. Set the value of `n_init` explicitly to suppress the warning\n",
      "  warnings.warn(\n"
     ]
    },
    {
     "name": "stdout",
     "output_type": "stream",
     "text": [
      "[CV] END .......................................n_clusters=6; total time= 3.0min\n"
     ]
    },
    {
     "name": "stderr",
     "output_type": "stream",
     "text": [
      "c:\\Users\\jiho\\anaconda3\\envs\\ds_study\\lib\\site-packages\\sklearn\\cluster\\_kmeans.py:870: FutureWarning: The default value of `n_init` will change from 10 to 'auto' in 1.4. Set the value of `n_init` explicitly to suppress the warning\n",
      "  warnings.warn(\n"
     ]
    },
    {
     "name": "stdout",
     "output_type": "stream",
     "text": [
      "[CV] END .......................................n_clusters=6; total time= 3.5min\n"
     ]
    },
    {
     "name": "stderr",
     "output_type": "stream",
     "text": [
      "c:\\Users\\jiho\\anaconda3\\envs\\ds_study\\lib\\site-packages\\sklearn\\cluster\\_kmeans.py:870: FutureWarning: The default value of `n_init` will change from 10 to 'auto' in 1.4. Set the value of `n_init` explicitly to suppress the warning\n",
      "  warnings.warn(\n"
     ]
    },
    {
     "name": "stdout",
     "output_type": "stream",
     "text": [
      "[CV] END .......................................n_clusters=6; total time= 2.8min\n"
     ]
    },
    {
     "name": "stderr",
     "output_type": "stream",
     "text": [
      "c:\\Users\\jiho\\anaconda3\\envs\\ds_study\\lib\\site-packages\\sklearn\\cluster\\_kmeans.py:870: FutureWarning: The default value of `n_init` will change from 10 to 'auto' in 1.4. Set the value of `n_init` explicitly to suppress the warning\n",
      "  warnings.warn(\n"
     ]
    },
    {
     "name": "stdout",
     "output_type": "stream",
     "text": [
      "[CV] END .......................................n_clusters=6; total time= 2.9min\n"
     ]
    },
    {
     "name": "stderr",
     "output_type": "stream",
     "text": [
      "c:\\Users\\jiho\\anaconda3\\envs\\ds_study\\lib\\site-packages\\sklearn\\cluster\\_kmeans.py:870: FutureWarning: The default value of `n_init` will change from 10 to 'auto' in 1.4. Set the value of `n_init` explicitly to suppress the warning\n",
      "  warnings.warn(\n"
     ]
    },
    {
     "name": "stdout",
     "output_type": "stream",
     "text": [
      "[CV] END .......................................n_clusters=6; total time= 3.4min\n"
     ]
    },
    {
     "name": "stderr",
     "output_type": "stream",
     "text": [
      "c:\\Users\\jiho\\anaconda3\\envs\\ds_study\\lib\\site-packages\\sklearn\\cluster\\_kmeans.py:870: FutureWarning: The default value of `n_init` will change from 10 to 'auto' in 1.4. Set the value of `n_init` explicitly to suppress the warning\n",
      "  warnings.warn(\n"
     ]
    },
    {
     "name": "stdout",
     "output_type": "stream",
     "text": [
      "[CV] END .......................................n_clusters=7; total time= 3.6min\n"
     ]
    },
    {
     "name": "stderr",
     "output_type": "stream",
     "text": [
      "c:\\Users\\jiho\\anaconda3\\envs\\ds_study\\lib\\site-packages\\sklearn\\cluster\\_kmeans.py:870: FutureWarning: The default value of `n_init` will change from 10 to 'auto' in 1.4. Set the value of `n_init` explicitly to suppress the warning\n",
      "  warnings.warn(\n"
     ]
    },
    {
     "name": "stdout",
     "output_type": "stream",
     "text": [
      "[CV] END .......................................n_clusters=7; total time= 2.7min\n"
     ]
    },
    {
     "name": "stderr",
     "output_type": "stream",
     "text": [
      "c:\\Users\\jiho\\anaconda3\\envs\\ds_study\\lib\\site-packages\\sklearn\\cluster\\_kmeans.py:870: FutureWarning: The default value of `n_init` will change from 10 to 'auto' in 1.4. Set the value of `n_init` explicitly to suppress the warning\n",
      "  warnings.warn(\n"
     ]
    },
    {
     "name": "stdout",
     "output_type": "stream",
     "text": [
      "[CV] END .......................................n_clusters=7; total time= 3.5min\n"
     ]
    },
    {
     "name": "stderr",
     "output_type": "stream",
     "text": [
      "c:\\Users\\jiho\\anaconda3\\envs\\ds_study\\lib\\site-packages\\sklearn\\cluster\\_kmeans.py:870: FutureWarning: The default value of `n_init` will change from 10 to 'auto' in 1.4. Set the value of `n_init` explicitly to suppress the warning\n",
      "  warnings.warn(\n"
     ]
    },
    {
     "name": "stdout",
     "output_type": "stream",
     "text": [
      "[CV] END .......................................n_clusters=7; total time= 3.0min\n"
     ]
    },
    {
     "name": "stderr",
     "output_type": "stream",
     "text": [
      "c:\\Users\\jiho\\anaconda3\\envs\\ds_study\\lib\\site-packages\\sklearn\\cluster\\_kmeans.py:870: FutureWarning: The default value of `n_init` will change from 10 to 'auto' in 1.4. Set the value of `n_init` explicitly to suppress the warning\n",
      "  warnings.warn(\n"
     ]
    },
    {
     "name": "stdout",
     "output_type": "stream",
     "text": [
      "[CV] END .......................................n_clusters=7; total time= 2.9min\n"
     ]
    },
    {
     "name": "stderr",
     "output_type": "stream",
     "text": [
      "c:\\Users\\jiho\\anaconda3\\envs\\ds_study\\lib\\site-packages\\sklearn\\cluster\\_kmeans.py:870: FutureWarning: The default value of `n_init` will change from 10 to 'auto' in 1.4. Set the value of `n_init` explicitly to suppress the warning\n",
      "  warnings.warn(\n"
     ]
    },
    {
     "data": {
      "text/html": [
       "<style>#sk-container-id-3 {color: black;background-color: white;}#sk-container-id-3 pre{padding: 0;}#sk-container-id-3 div.sk-toggleable {background-color: white;}#sk-container-id-3 label.sk-toggleable__label {cursor: pointer;display: block;width: 100%;margin-bottom: 0;padding: 0.3em;box-sizing: border-box;text-align: center;}#sk-container-id-3 label.sk-toggleable__label-arrow:before {content: \"▸\";float: left;margin-right: 0.25em;color: #696969;}#sk-container-id-3 label.sk-toggleable__label-arrow:hover:before {color: black;}#sk-container-id-3 div.sk-estimator:hover label.sk-toggleable__label-arrow:before {color: black;}#sk-container-id-3 div.sk-toggleable__content {max-height: 0;max-width: 0;overflow: hidden;text-align: left;background-color: #f0f8ff;}#sk-container-id-3 div.sk-toggleable__content pre {margin: 0.2em;color: black;border-radius: 0.25em;background-color: #f0f8ff;}#sk-container-id-3 input.sk-toggleable__control:checked~div.sk-toggleable__content {max-height: 200px;max-width: 100%;overflow: auto;}#sk-container-id-3 input.sk-toggleable__control:checked~label.sk-toggleable__label-arrow:before {content: \"▾\";}#sk-container-id-3 div.sk-estimator input.sk-toggleable__control:checked~label.sk-toggleable__label {background-color: #d4ebff;}#sk-container-id-3 div.sk-label input.sk-toggleable__control:checked~label.sk-toggleable__label {background-color: #d4ebff;}#sk-container-id-3 input.sk-hidden--visually {border: 0;clip: rect(1px 1px 1px 1px);clip: rect(1px, 1px, 1px, 1px);height: 1px;margin: -1px;overflow: hidden;padding: 0;position: absolute;width: 1px;}#sk-container-id-3 div.sk-estimator {font-family: monospace;background-color: #f0f8ff;border: 1px dotted black;border-radius: 0.25em;box-sizing: border-box;margin-bottom: 0.5em;}#sk-container-id-3 div.sk-estimator:hover {background-color: #d4ebff;}#sk-container-id-3 div.sk-parallel-item::after {content: \"\";width: 100%;border-bottom: 1px solid gray;flex-grow: 1;}#sk-container-id-3 div.sk-label:hover label.sk-toggleable__label {background-color: #d4ebff;}#sk-container-id-3 div.sk-serial::before {content: \"\";position: absolute;border-left: 1px solid gray;box-sizing: border-box;top: 0;bottom: 0;left: 50%;z-index: 0;}#sk-container-id-3 div.sk-serial {display: flex;flex-direction: column;align-items: center;background-color: white;padding-right: 0.2em;padding-left: 0.2em;position: relative;}#sk-container-id-3 div.sk-item {position: relative;z-index: 1;}#sk-container-id-3 div.sk-parallel {display: flex;align-items: stretch;justify-content: center;background-color: white;position: relative;}#sk-container-id-3 div.sk-item::before, #sk-container-id-3 div.sk-parallel-item::before {content: \"\";position: absolute;border-left: 1px solid gray;box-sizing: border-box;top: 0;bottom: 0;left: 50%;z-index: -1;}#sk-container-id-3 div.sk-parallel-item {display: flex;flex-direction: column;z-index: 1;position: relative;background-color: white;}#sk-container-id-3 div.sk-parallel-item:first-child::after {align-self: flex-end;width: 50%;}#sk-container-id-3 div.sk-parallel-item:last-child::after {align-self: flex-start;width: 50%;}#sk-container-id-3 div.sk-parallel-item:only-child::after {width: 0;}#sk-container-id-3 div.sk-dashed-wrapped {border: 1px dashed gray;margin: 0 0.4em 0.5em 0.4em;box-sizing: border-box;padding-bottom: 0.4em;background-color: white;}#sk-container-id-3 div.sk-label label {font-family: monospace;font-weight: bold;display: inline-block;line-height: 1.2em;}#sk-container-id-3 div.sk-label-container {text-align: center;}#sk-container-id-3 div.sk-container {/* jupyter's `normalize.less` sets `[hidden] { display: none; }` but bootstrap.min.css set `[hidden] { display: none !important; }` so we also need the `!important` here to be able to override the default hidden behavior on the sphinx rendered scikit-learn.org. See: https://github.com/scikit-learn/scikit-learn/issues/21755 */display: inline-block !important;position: relative;}#sk-container-id-3 div.sk-text-repr-fallback {display: none;}</style><div id=\"sk-container-id-3\" class=\"sk-top-container\"><div class=\"sk-text-repr-fallback\"><pre>GridSearchCV(estimator=KMeans(), param_grid={&#x27;n_clusters&#x27;: [2, 3, 4, 5, 6, 7]},\n",
       "             verbose=2)</pre><b>In a Jupyter environment, please rerun this cell to show the HTML representation or trust the notebook. <br />On GitHub, the HTML representation is unable to render, please try loading this page with nbviewer.org.</b></div><div class=\"sk-container\" hidden><div class=\"sk-item sk-dashed-wrapped\"><div class=\"sk-label-container\"><div class=\"sk-label sk-toggleable\"><input class=\"sk-toggleable__control sk-hidden--visually\" id=\"sk-estimator-id-3\" type=\"checkbox\" ><label for=\"sk-estimator-id-3\" class=\"sk-toggleable__label sk-toggleable__label-arrow\">GridSearchCV</label><div class=\"sk-toggleable__content\"><pre>GridSearchCV(estimator=KMeans(), param_grid={&#x27;n_clusters&#x27;: [2, 3, 4, 5, 6, 7]},\n",
       "             verbose=2)</pre></div></div></div><div class=\"sk-parallel\"><div class=\"sk-parallel-item\"><div class=\"sk-item\"><div class=\"sk-label-container\"><div class=\"sk-label sk-toggleable\"><input class=\"sk-toggleable__control sk-hidden--visually\" id=\"sk-estimator-id-4\" type=\"checkbox\" ><label for=\"sk-estimator-id-4\" class=\"sk-toggleable__label sk-toggleable__label-arrow\">estimator: KMeans</label><div class=\"sk-toggleable__content\"><pre>KMeans()</pre></div></div></div><div class=\"sk-serial\"><div class=\"sk-item\"><div class=\"sk-estimator sk-toggleable\"><input class=\"sk-toggleable__control sk-hidden--visually\" id=\"sk-estimator-id-5\" type=\"checkbox\" ><label for=\"sk-estimator-id-5\" class=\"sk-toggleable__label sk-toggleable__label-arrow\">KMeans</label><div class=\"sk-toggleable__content\"><pre>KMeans()</pre></div></div></div></div></div></div></div></div></div></div>"
      ],
      "text/plain": [
       "GridSearchCV(estimator=KMeans(), param_grid={'n_clusters': [2, 3, 4, 5, 6, 7]},\n",
       "             verbose=2)"
      ]
     },
     "execution_count": 52,
     "metadata": {},
     "output_type": "execute_result"
    }
   ],
   "source": [
    "params = {'n_clusters' : [2,3,4,5,6,7]}\n",
    "\n",
    "grid_kmeans = GridSearchCV(KMeans(), param_grid=params, verbose=2)\n",
    "\n",
    "grid_kmeans.fit(df_user_log_filtered_pca)"
   ]
  },
  {
   "cell_type": "code",
   "execution_count": 54,
   "metadata": {},
   "outputs": [],
   "source": [
    "best_kmeans = grid_kmeans.best_estimator_"
   ]
  },
  {
   "cell_type": "code",
   "execution_count": 56,
   "metadata": {},
   "outputs": [],
   "source": [
    "df_user_log_filtered_pca['cluster'] = best_kmeans.predict(df_user_log_filtered_pca)"
   ]
  },
  {
   "cell_type": "code",
   "execution_count": 67,
   "metadata": {},
   "outputs": [
    {
     "data": {
      "text/plain": [
       "[{'n_clusters': 2},\n",
       " {'n_clusters': 3},\n",
       " {'n_clusters': 4},\n",
       " {'n_clusters': 5},\n",
       " {'n_clusters': 6},\n",
       " {'n_clusters': 7}]"
      ]
     },
     "execution_count": 67,
     "metadata": {},
     "output_type": "execute_result"
    }
   ],
   "source": [
    "grid_kmeans.cv_results_['params']"
   ]
  },
  {
   "cell_type": "code",
   "execution_count": 81,
   "metadata": {},
   "outputs": [
    {
     "data": {
      "text/plain": [
       "['grid_kmeans.joblib']"
      ]
     },
     "execution_count": 81,
     "metadata": {},
     "output_type": "execute_result"
    }
   ],
   "source": [
    "import joblib\n",
    "\n",
    "joblib.dump(grid_kmeans, 'grid_kmeans.joblib')"
   ]
  },
  {
   "cell_type": "code",
   "execution_count": 58,
   "metadata": {},
   "outputs": [
    {
     "data": {
      "text/html": [
       "<div>\n",
       "<style scoped>\n",
       "    .dataframe tbody tr th:only-of-type {\n",
       "        vertical-align: middle;\n",
       "    }\n",
       "\n",
       "    .dataframe tbody tr th {\n",
       "        vertical-align: top;\n",
       "    }\n",
       "\n",
       "    .dataframe thead th {\n",
       "        text-align: right;\n",
       "    }\n",
       "</style>\n",
       "<table border=\"1\" class=\"dataframe\">\n",
       "  <thead>\n",
       "    <tr style=\"text-align: right;\">\n",
       "      <th></th>\n",
       "      <th>pca_x</th>\n",
       "      <th>pca_y</th>\n",
       "    </tr>\n",
       "    <tr>\n",
       "      <th>cluster</th>\n",
       "      <th></th>\n",
       "      <th></th>\n",
       "    </tr>\n",
       "  </thead>\n",
       "  <tbody>\n",
       "    <tr>\n",
       "      <th>0</th>\n",
       "      <td>7868476</td>\n",
       "      <td>7868476</td>\n",
       "    </tr>\n",
       "    <tr>\n",
       "      <th>1</th>\n",
       "      <td>2334672</td>\n",
       "      <td>2334672</td>\n",
       "    </tr>\n",
       "    <tr>\n",
       "      <th>2</th>\n",
       "      <td>740635</td>\n",
       "      <td>740635</td>\n",
       "    </tr>\n",
       "    <tr>\n",
       "      <th>3</th>\n",
       "      <td>1446133</td>\n",
       "      <td>1446133</td>\n",
       "    </tr>\n",
       "    <tr>\n",
       "      <th>4</th>\n",
       "      <td>12956377</td>\n",
       "      <td>12956377</td>\n",
       "    </tr>\n",
       "    <tr>\n",
       "      <th>5</th>\n",
       "      <td>120915</td>\n",
       "      <td>120915</td>\n",
       "    </tr>\n",
       "    <tr>\n",
       "      <th>6</th>\n",
       "      <td>4331351</td>\n",
       "      <td>4331351</td>\n",
       "    </tr>\n",
       "  </tbody>\n",
       "</table>\n",
       "</div>"
      ],
      "text/plain": [
       "            pca_x     pca_y\n",
       "cluster                    \n",
       "0         7868476   7868476\n",
       "1         2334672   2334672\n",
       "2          740635    740635\n",
       "3         1446133   1446133\n",
       "4        12956377  12956377\n",
       "5          120915    120915\n",
       "6         4331351   4331351"
      ]
     },
     "execution_count": 58,
     "metadata": {},
     "output_type": "execute_result"
    }
   ],
   "source": [
    "df_user_log_filtered_pca.groupby('cluster').count()"
   ]
  },
  {
   "cell_type": "code",
   "execution_count": 12,
   "metadata": {},
   "outputs": [],
   "source": [
    "userlog_df['cluster'] = kmeans_model.predict(df_targ_scaled)"
   ]
  },
  {
   "cell_type": "code",
   "execution_count": 13,
   "metadata": {},
   "outputs": [
    {
     "data": {
      "text/html": [
       "<div>\n",
       "<style scoped>\n",
       "    .dataframe tbody tr th:only-of-type {\n",
       "        vertical-align: middle;\n",
       "    }\n",
       "\n",
       "    .dataframe tbody tr th {\n",
       "        vertical-align: top;\n",
       "    }\n",
       "\n",
       "    .dataframe thead th {\n",
       "        text-align: right;\n",
       "    }\n",
       "</style>\n",
       "<table border=\"1\" class=\"dataframe\">\n",
       "  <thead>\n",
       "    <tr style=\"text-align: right;\">\n",
       "      <th></th>\n",
       "      <th>msno_num</th>\n",
       "      <th>date</th>\n",
       "      <th>num_25</th>\n",
       "      <th>num_50</th>\n",
       "      <th>num_75</th>\n",
       "      <th>num_985</th>\n",
       "      <th>num_100</th>\n",
       "      <th>num_unq</th>\n",
       "      <th>total_secs</th>\n",
       "      <th>cluster</th>\n",
       "    </tr>\n",
       "  </thead>\n",
       "  <tbody>\n",
       "    <tr>\n",
       "      <th>0</th>\n",
       "      <td>3609</td>\n",
       "      <td>2015-02-19</td>\n",
       "      <td>0</td>\n",
       "      <td>1</td>\n",
       "      <td>0</td>\n",
       "      <td>0</td>\n",
       "      <td>21</td>\n",
       "      <td>22</td>\n",
       "      <td>5263.376</td>\n",
       "      <td>0</td>\n",
       "    </tr>\n",
       "    <tr>\n",
       "      <th>1</th>\n",
       "      <td>3609</td>\n",
       "      <td>2015-05-06</td>\n",
       "      <td>4</td>\n",
       "      <td>0</td>\n",
       "      <td>0</td>\n",
       "      <td>0</td>\n",
       "      <td>19</td>\n",
       "      <td>20</td>\n",
       "      <td>4745.286</td>\n",
       "      <td>0</td>\n",
       "    </tr>\n",
       "    <tr>\n",
       "      <th>2</th>\n",
       "      <td>3609</td>\n",
       "      <td>2015-07-12</td>\n",
       "      <td>12</td>\n",
       "      <td>5</td>\n",
       "      <td>2</td>\n",
       "      <td>2</td>\n",
       "      <td>11</td>\n",
       "      <td>31</td>\n",
       "      <td>4389.907</td>\n",
       "      <td>1</td>\n",
       "    </tr>\n",
       "    <tr>\n",
       "      <th>3</th>\n",
       "      <td>3609</td>\n",
       "      <td>2015-09-08</td>\n",
       "      <td>1</td>\n",
       "      <td>0</td>\n",
       "      <td>0</td>\n",
       "      <td>0</td>\n",
       "      <td>4</td>\n",
       "      <td>5</td>\n",
       "      <td>978.743</td>\n",
       "      <td>0</td>\n",
       "    </tr>\n",
       "    <tr>\n",
       "      <th>4</th>\n",
       "      <td>3609</td>\n",
       "      <td>2015-11-15</td>\n",
       "      <td>0</td>\n",
       "      <td>0</td>\n",
       "      <td>0</td>\n",
       "      <td>0</td>\n",
       "      <td>27</td>\n",
       "      <td>25</td>\n",
       "      <td>6322.493</td>\n",
       "      <td>0</td>\n",
       "    </tr>\n",
       "    <tr>\n",
       "      <th>...</th>\n",
       "      <td>...</td>\n",
       "      <td>...</td>\n",
       "      <td>...</td>\n",
       "      <td>...</td>\n",
       "      <td>...</td>\n",
       "      <td>...</td>\n",
       "      <td>...</td>\n",
       "      <td>...</td>\n",
       "      <td>...</td>\n",
       "      <td>...</td>\n",
       "    </tr>\n",
       "    <tr>\n",
       "      <th>29812112</th>\n",
       "      <td>7374450</td>\n",
       "      <td>2017-03-01</td>\n",
       "      <td>1</td>\n",
       "      <td>0</td>\n",
       "      <td>0</td>\n",
       "      <td>0</td>\n",
       "      <td>4</td>\n",
       "      <td>1</td>\n",
       "      <td>1030.690</td>\n",
       "      <td>0</td>\n",
       "    </tr>\n",
       "    <tr>\n",
       "      <th>29812113</th>\n",
       "      <td>7374450</td>\n",
       "      <td>2017-03-02</td>\n",
       "      <td>0</td>\n",
       "      <td>1</td>\n",
       "      <td>1</td>\n",
       "      <td>0</td>\n",
       "      <td>7</td>\n",
       "      <td>2</td>\n",
       "      <td>2001.529</td>\n",
       "      <td>0</td>\n",
       "    </tr>\n",
       "    <tr>\n",
       "      <th>29812114</th>\n",
       "      <td>7374450</td>\n",
       "      <td>2017-03-15</td>\n",
       "      <td>0</td>\n",
       "      <td>1</td>\n",
       "      <td>1</td>\n",
       "      <td>0</td>\n",
       "      <td>13</td>\n",
       "      <td>2</td>\n",
       "      <td>3402.203</td>\n",
       "      <td>0</td>\n",
       "    </tr>\n",
       "    <tr>\n",
       "      <th>29812115</th>\n",
       "      <td>7374450</td>\n",
       "      <td>2017-03-10</td>\n",
       "      <td>0</td>\n",
       "      <td>0</td>\n",
       "      <td>0</td>\n",
       "      <td>1</td>\n",
       "      <td>2</td>\n",
       "      <td>2</td>\n",
       "      <td>684.929</td>\n",
       "      <td>0</td>\n",
       "    </tr>\n",
       "    <tr>\n",
       "      <th>29812116</th>\n",
       "      <td>7374450</td>\n",
       "      <td>2017-03-06</td>\n",
       "      <td>4</td>\n",
       "      <td>2</td>\n",
       "      <td>1</td>\n",
       "      <td>0</td>\n",
       "      <td>18</td>\n",
       "      <td>5</td>\n",
       "      <td>4594.609</td>\n",
       "      <td>0</td>\n",
       "    </tr>\n",
       "  </tbody>\n",
       "</table>\n",
       "<p>29812117 rows × 10 columns</p>\n",
       "</div>"
      ],
      "text/plain": [
       "          msno_num        date  num_25  num_50  num_75  num_985  num_100  \\\n",
       "0             3609  2015-02-19       0       1       0        0       21   \n",
       "1             3609  2015-05-06       4       0       0        0       19   \n",
       "2             3609  2015-07-12      12       5       2        2       11   \n",
       "3             3609  2015-09-08       1       0       0        0        4   \n",
       "4             3609  2015-11-15       0       0       0        0       27   \n",
       "...            ...         ...     ...     ...     ...      ...      ...   \n",
       "29812112   7374450  2017-03-01       1       0       0        0        4   \n",
       "29812113   7374450  2017-03-02       0       1       1        0        7   \n",
       "29812114   7374450  2017-03-15       0       1       1        0       13   \n",
       "29812115   7374450  2017-03-10       0       0       0        1        2   \n",
       "29812116   7374450  2017-03-06       4       2       1        0       18   \n",
       "\n",
       "          num_unq  total_secs  cluster  \n",
       "0              22    5263.376        0  \n",
       "1              20    4745.286        0  \n",
       "2              31    4389.907        1  \n",
       "3               5     978.743        0  \n",
       "4              25    6322.493        0  \n",
       "...           ...         ...      ...  \n",
       "29812112        1    1030.690        0  \n",
       "29812113        2    2001.529        0  \n",
       "29812114        2    3402.203        0  \n",
       "29812115        2     684.929        0  \n",
       "29812116        5    4594.609        0  \n",
       "\n",
       "[29812117 rows x 10 columns]"
      ]
     },
     "execution_count": 13,
     "metadata": {},
     "output_type": "execute_result"
    }
   ],
   "source": [
    "userlog_df"
   ]
  },
  {
   "cell_type": "code",
   "execution_count": 14,
   "metadata": {},
   "outputs": [
    {
     "data": {
      "image/png": "[encoded data removed]",
      "text/plain": [
       "<Figure size 800x800 with 1 Axes>"
      ]
     },
     "metadata": {},
     "output_type": "display_data"
    }
   ],
   "source": [
    "plt.figure(figsize = (8, 8))\n",
    "\n",
    "k = 5\n",
    "for i in range(k):\n",
    "    plt.scatter(userlog_df.loc[userlog_df['cluster'] == i, 'total_secs'], userlog_df.loc[userlog_df['cluster'] == i, 'num_100'], \n",
    "                label = 'cluster ' + str(i))\n",
    "\n",
    "plt.legend()\n",
    "plt.title('K = %d results'%k , size = 15)\n",
    "plt.xlabel('Annual Income', size = 12)\n",
    "plt.ylabel('Spending Score', size = 12)\n",
    "plt.show()"
   ]
  }
 ],
 "metadata": {
  "kernelspec": {
   "display_name": "ds_study",
   "language": "python",
   "name": "python3"
  },
  "language_info": {
   "codemirror_mode": {
    "name": "ipython",
    "version": 3
   },
   "file_extension": ".py",
   "mimetype": "text/x-python",
   "name": "python",
   "nbconvert_exporter": "python",
   "pygments_lexer": "ipython3",
   "version": "3.9.13"
  },
  "orig_nbformat": 4
 },
 "nbformat": 4,
 "nbformat_minor": 2
}
