{
  "nbformat": 4,
  "nbformat_minor": 0,
  "metadata": {
    "colab": {
      "provenance": [],
      "mount_file_id": "1EV4R7a9215yVyvNtJdRLYhw2Thuybx2-",
      "authorship_tag": "ABX9TyOjdhuUe9ePIP32BvJLk2lh",
      "include_colab_link": true
    },
    "kernelspec": {
      "name": "python3",
      "display_name": "Python 3"
    },
    "language_info": {
      "name": "python"
    }
  },
  "cells": [
    {
      "cell_type": "markdown",
      "metadata": {
        "id": "view-in-github",
        "colab_type": "text"
      },
      "source": [
        "<a href=\"https://colab.research.google.com/github/jihosuperman/predict_churn_rate/blob/main/sampling_module.ipynb\" target=\"_parent\"><img src=\"https://colab.research.google.com/assets/colab-badge.svg\" alt=\"Open In Colab\"/></a>"
      ]
    },
    {
      "cell_type": "code",
      "execution_count": 2,
      "metadata": {
        "colab": {
          "base_uri": "https://localhost:8080/"
        },
        "id": "ZzyhY9ujFUzb",
        "outputId": "ba2c148e-3cab-4b49-c641-f1f8520d1c6b"
      },
      "outputs": [
        {
          "output_type": "stream",
          "name": "stdout",
          "text": [
            "Looking in indexes: https://pypi.org/simple, https://us-python.pkg.dev/colab-wheels/public/simple/\n",
            "Collecting pyspark\n",
            "  Downloading pyspark-3.3.2.tar.gz (281.4 MB)\n",
            "\u001b[2K     \u001b[90m━━━━━━━━━━━━━━━━━━━━━━━━━━━━━━━━━━━━━━━\u001b[0m \u001b[32m281.4/281.4 MB\u001b[0m \u001b[31m4.9 MB/s\u001b[0m eta \u001b[36m0:00:00\u001b[0m\n",
            "\u001b[?25h  Preparing metadata (setup.py) ... \u001b[?25l\u001b[?25hdone\n",
            "Collecting py4j==0.10.9.5\n",
            "  Downloading py4j-0.10.9.5-py2.py3-none-any.whl (199 kB)\n",
            "\u001b[2K     \u001b[90m━━━━━━━━━━━━━━━━━━━━━━━━━━━━━━━━━━━━━━\u001b[0m \u001b[32m199.7/199.7 kB\u001b[0m \u001b[31m21.0 MB/s\u001b[0m eta \u001b[36m0:00:00\u001b[0m\n",
            "\u001b[?25hBuilding wheels for collected packages: pyspark\n",
            "  Building wheel for pyspark (setup.py) ... \u001b[?25l\u001b[?25hdone\n",
            "  Created wheel for pyspark: filename=pyspark-3.3.2-py2.py3-none-any.whl size=281824028 sha256=cbd6e573f5869e596f4a8051fc1cfb8ea7695dd403edbaac380f446fa8e036a8\n",
            "  Stored in directory: /root/.cache/pip/wheels/6c/e3/9b/0525ce8a69478916513509d43693511463c6468db0de237c86\n",
            "Successfully built pyspark\n",
            "Installing collected packages: py4j, pyspark\n",
            "  Attempting uninstall: py4j\n",
            "    Found existing installation: py4j 0.10.9.7\n",
            "    Uninstalling py4j-0.10.9.7:\n",
            "      Successfully uninstalled py4j-0.10.9.7\n",
            "Successfully installed py4j-0.10.9.5 pyspark-3.3.2\n"
          ]
        }
      ],
      "source": [
        "pip install pyspark"
      ]
    },
    {
      "cell_type": "code",
      "source": [
        "# Spark Session 열기\n",
        "\n",
        "from pyspark.sql import *\n",
        "from pyspark.sql.functions import *\n",
        "\n",
        "spark = SparkSession.builder.appName('ds_study').getOrCreate()\n",
        "spark"
      ],
      "metadata": {
        "id": "PZVMC041FcHF"
      },
      "execution_count": null,
      "outputs": []
    },
    {
      "cell_type": "code",
      "source": [
        "# Parquet 파일 읽어오기\n",
        "\n",
        "path = 'D:/kkbox-churn-prediction-challenge/data/churn_comp_refresh/id_encoding/data'\n",
        "\n",
        "members = spark.read.option('inferSchema', 'true').option('header', 'true').parquet(path+'/new_members/new_members.parquet')\n",
        "train = spark.read.option('inferSchema', 'true').option('header', 'tdrue').parquet(path+'/new_train/new_train.parquet')\n",
        "transactions = spark.read.option('inferSchema', 'true').option('header', 'true').parquet(path+'/new_transactions/new_transactions.parquet')\n",
        "user_logs = spark.read.option('inferSchema', 'true').option('header', 'true').parquet(path+'/new_user_logs/new_user_logs-001.parquet')"
      ],
      "metadata": {
        "id": "sH0-Lmq0FdE3"
      },
      "execution_count": null,
      "outputs": []
    },
    {
      "cell_type": "code",
      "source": [
        "# 날짜 데이터를 가지는 열의 값 형식을 Date로 바꾸어주기 (현재는 모두 Integer)\n",
        "# members - registration_init_time\n",
        "# transactions - transaction_date, membership_expire_date\n",
        "# user_logs - date\n",
        "\n",
        "\n",
        "date_dict = {members : ['new_members', ['registration_init_time']],\n",
        "             transactions : ['new_transactions', ['transaction_date', 'membership_expire_date']],\n",
        "             user_logs : ['new_user_logs', ['date']]}\n",
        "\n",
        "for key, value in date_dict.items():\n",
        "  for d_col in value[1]:\n",
        "    key = key.withColumn(d_col, col(d_col).cast('string')).select('*')\n",
        "    key = key.withColumn(d_col, to_date(concat(col(d_col).substr(1, 4),\n",
        "                                               lit('-'),\n",
        "                                               col(d_col).substr(5, 2),\n",
        "                                               lit('-'),\n",
        "                                               col(d_col).substr(7, 2)))).select('*')\n",
        "  value[0] = key \n",
        "\n",
        "members = date_dict[members][0]\n",
        "transactions = date_dict[transactions][0]\n",
        "user_logs = date_dict[user_logs][0]"
      ],
      "metadata": {
        "id": "SktTUhMpFeEG"
      },
      "execution_count": null,
      "outputs": []
    },
    {
      "cell_type": "code",
      "source": [
        "# sampling 가능한 msno 리스트 확보하기\n",
        "\n",
        "A = members.groupBy('msno_num').count()\n",
        "B = train.groupBy('msno_num').count()\n",
        "C = transactions.groupBy('msno_num').count()\n",
        "D = user_logs.groupBy('msno_num').count()\n",
        "\n",
        "sample_target_msno_all = A.join(B, on = 'msno_num', how = 'inner')\\\n",
        "                          .join(C, on = 'msno_num', how = 'inner')\\\n",
        "                          .join(D, on = 'msno_num', how = 'inner').distinct().drop('count')\n",
        "\n",
        "total_pool = sample_target_msno_all.count()\n",
        "print('샘플링이 가능한(4개 데이터셋에서 모두 존재하는) 이용자는 총 {}명입니다.'.format(total_pool))"
      ],
      "metadata": {
        "id": "a7cg-F1KFhSu"
      },
      "execution_count": null,
      "outputs": []
    },
    {
      "cell_type": "code",
      "source": [
        "minor_df = sample_target_msno_all.filter(col(\"is_churn\") == 1)\n",
        "major_df = sample_target_msno_all.filter(col(\"is_churn\") == 0)\n",
        "ratio = round(major_df.count()/minor_df.count(), 4)"
      ],
      "metadata": {
        "id": "ywbGSjZVFiv7"
      },
      "execution_count": null,
      "outputs": []
    },
    {
      "cell_type": "code",
      "source": [
        "sampled_majority_df = major_df.sample(1/ratio)\n",
        "combined_df_2 = sampled_majority_df.unionAll(minor_df)"
      ],
      "metadata": {
        "id": "ciasjZ2DFlDR"
      },
      "execution_count": null,
      "outputs": []
    },
    {
      "cell_type": "code",
      "source": [
        "# sample 비율 정하기\n",
        "sample_ratio = 0.107\n",
        "\n",
        "sample_target_msno = sample_target_msno_all.sample(sample_ratio).toPandas()\n",
        "print('{}명 중 {}%를 샘플링하여 총 {}명을 train 및 test 데이터로 확정합니다.'.format(total_pool, sample_ratio*100, len(sample_target_msno['msno_num'])))"
      ],
      "metadata": {
        "id": "kgse56nJFmW0"
      },
      "execution_count": null,
      "outputs": []
    },
    {
      "cell_type": "code",
      "source": [
        "# sample data 저장하기\n",
        "\n",
        "table_dict = {train : 'sample_train.parquet', members : 'sample_members.parquet', \n",
        "              transactions : 'sample_transactions.parquet', user_logs : 'sample_user_logs.parquet'}\n",
        "\n",
        "new_table_dict = []\n",
        "\n",
        "for key, value in table_dict.items():\n",
        "    key.filter(col('msno_num').isin(list(sample_target_msno['msno_num'])))\\\n",
        "       .coalesce(1).write.mode(\"overwrite\").option(\"header\", \"true\").parquet('./data/sample (ratio = 0.107)/' + value)"
      ],
      "metadata": {
        "id": "YmQE3PrZFnwj"
      },
      "execution_count": null,
      "outputs": []
    }
  ]
}