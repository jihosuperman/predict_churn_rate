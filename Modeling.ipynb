{
 "cells": [
  {
   "cell_type": "code",
   "execution_count": 2,
   "metadata": {},
   "outputs": [
    {
     "name": "stderr",
     "output_type": "stream",
     "text": [
      "<frozen importlib._bootstrap>:228: RuntimeWarning: numpy.ufunc size changed, may indicate binary incompatibility. Expected 216 from C header, got 232 from PyObject\n"
     ]
    }
   ],
   "source": [
    "import pandas as pd\n",
    "import xgboost\n",
    "import lightgbm\n",
    "import catboost\n",
    "from sklearn.metrics import accuracy_score, precision_score, recall_score, f1_score\n",
    "from sklearn.tree import DecisionTreeClassifier\n",
    "from sklearn.ensemble import RandomForestClassifier\n",
    "from sklearn.linear_model import LogisticRegression\n",
    "from sklearn.svm import SVC\n",
    "from sklearn.pipeline import Pipeline\n",
    "from sklearn.model_selection import train_test_split, GridSearchCV, ParameterGrid, KFold, train_test_split\n",
    "from sklearn.preprocessing import StandardScaler\n",
    "import imblearn"
   ]
  },
  {
   "attachments": {},
   "cell_type": "markdown",
   "metadata": {},
   "source": [
    "- 파이프라인 셋 / 업데이트\n",
    "- 파라미터 셋 / 업데이트"
   ]
  },
  {
   "cell_type": "code",
   "execution_count": 2,
   "metadata": {},
   "outputs": [],
   "source": [
    "class Test:\n",
    "    def __init__(self):\n",
    "        params_rf ={\n",
    "            'n_estimators' : [100],\n",
    "            'max_depth':[2,8,10,30],\n",
    "            'min_samples_leaf':[2,8,12,20],\n",
    "            'min_samples_split':[8,16,20]\n",
    "        }\n",
    "        params_xgb = {\n",
    "            \"max_depth\": [10,30,50],\n",
    "            \"min_child_weight\" : [1,3,6,10],\n",
    "            \"n_estimators\": [200,300,500,1000],\n",
    "            'learning_rate': [0.01]\n",
    "        }\n",
    "        params_lgb = {\n",
    "            \"learning_rate\" : [0.01,0.1,0.2,0.3,0.4,0.5],\n",
    "            \"max_depth\" : [25, 50, 75],\n",
    "            \"num_leaves\" : [100,300,500,900,1200],\n",
    "            \"n_estimators\" : [100, 200, 300,500,800,1000],\n",
    "            \"learning_rate\" : [0.01,0.1,0.2,0.3,0.4,0.5]\n",
    "        }\n",
    "        params_cat = {\n",
    "            \"learning_rate\" : '',\n",
    "            \"random_strength\" : '',\n",
    "            \"L2_regulariser \" : ''\n",
    "        }\n",
    "\n"
   ]
  },
  {
   "cell_type": "code",
   "execution_count": 3,
   "metadata": {},
   "outputs": [],
   "source": [
    "df = pd.read_csv('D:/kkbox-churn-prediction-challenge/data/churn_comp_refresh/df_target3.csv')"
   ]
  },
  {
   "cell_type": "code",
   "execution_count": 5,
   "metadata": {},
   "outputs": [],
   "source": [
    "df.drop(columns=['Unnamed: 0'], inplace=True)\n",
    "\n",
    "y = df['is_churn']\n",
    "X = df.iloc[:,1:]\n",
    "\n",
    "X = X.fillna(-1)\n",
    "y = y.fillna(-1)\n",
    "\n",
    "X = pd.get_dummies(X, columns=['city', 'gender', 'registered_via'])\n",
    "\n",
    "X_train, X_test, y_train, y_test = train_test_split(X, y, test_size=0.2, stratify=y)"
   ]
  },
  {
   "cell_type": "code",
   "execution_count": 6,
   "metadata": {},
   "outputs": [
    {
     "data": {
      "text/plain": [
       "(955126, 9)"
      ]
     },
     "execution_count": 6,
     "metadata": {},
     "output_type": "execute_result"
    }
   ],
   "source": [
    "df.shape"
   ]
  },
  {
   "cell_type": "code",
   "execution_count": 8,
   "metadata": {},
   "outputs": [],
   "source": [
    "xgb = xgboost.XGBClassifier()\n",
    "\n",
    "params_xgb = {\n",
    "            \"max_depth\": [6,10,30,50],\n",
    "            \"min_child_weight\" : [1,3,6,10],\n",
    "            \"n_estimators\": [10,50,100,300],\n",
    "            'learning_rate': [0.01]\n",
    "        }\n",
    "\n",
    "gs = GridSearchCV(estimator=xgb, param_grid=params_xgb, scoring='roc_auc', n_jobs=-1)"
   ]
  },
  {
   "cell_type": "code",
   "execution_count": 9,
   "metadata": {},
   "outputs": [],
   "source": [
    "gs.fit(X_train, y_train)"
   ]
  },
  {
   "cell_type": "code",
   "execution_count": null,
   "metadata": {},
   "outputs": [],
   "source": [
    "print('best parameters : ', gs.best_params_)\n",
    "print('best score : ', gs.best_score_)\n",
    "em = gs.best_estimator_\n",
    "pred = em.predict(X_test)\n",
    "accuracy_score(y_test, pred)"
   ]
  },
  {
   "cell_type": "code",
   "execution_count": null,
   "metadata": {},
   "outputs": [],
   "source": []
  }
 ],
 "metadata": {
  "kernelspec": {
   "display_name": "ds_study",
   "language": "python",
   "name": "python3"
  },
  "language_info": {
   "codemirror_mode": {
    "name": "ipython",
    "version": 3
   },
   "file_extension": ".py",
   "mimetype": "text/x-python",
   "name": "python",
   "nbconvert_exporter": "python",
   "pygments_lexer": "ipython3",
   "version": "3.9.13"
  },
  "orig_nbformat": 4
 },
 "nbformat": 4,
 "nbformat_minor": 2
}
