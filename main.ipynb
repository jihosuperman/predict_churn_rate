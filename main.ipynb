{
 "cells": [
  {
   "attachments": {},
   "cell_type": "markdown",
   "metadata": {},
   "source": [
    "# **음악 스트리밍 서비스 kkbox의 고객 이탈률 예측**</br>\n",
    "\n",
    "\n",
    "## **프로젝트의 필요성**</br>\n",
    "> </br>\n",
    "> 기업의 입장에서, 매출을 발생시키는 고객을 신규 유입시키는 데 발생하는 비용보다 기존 고객을 이탈하지 않도록 유지하는 비용이 더 낮음.\n",
    ">\n",
    "> 특히 음악 스트리밍과 같은 구독형 비즈니스 모델을 가진 서비스의 경우 기존 고객이 이탈하지 않도록 유지하는 것은 현재의 매출만이 아닌 미래의 현금 흐름 창출에도 중요한 요소로 작용.\n",
    "> \n",
    "> 또한 고객의 이탈 데이터를 분석하여 현재 서비스 개선에 대한 의사결정의 근거를 마련할 수 있음.</br>\n",
    "> </br>\n",
    "\n",
    "## **목표**</br>\n",
    "> </br>\n",
    "> - 1차 : 머신 러닝을 통한 고객 전환 예측</br></br>\n",
    "> - 2차 : 대쉬보드 생성</br></br>\n",
    "> - 3차 : Slack을 통해 이탈 가능성이 높은 고객의 정보를 자동으로 전달할 수 있도록 시스템 구축</br>\n",
    "></br>\n"
   ]
  },
  {
   "cell_type": "code",
   "execution_count": 3,
   "metadata": {},
   "outputs": [],
   "source": [
    "import matplotlib.pyplot as plt\n",
    "import pandas as pd"
   ]
  },
  {
   "cell_type": "code",
   "execution_count": 4,
   "metadata": {},
   "outputs": [],
   "source": [
    "train_df = pd.read_csv('D:/kkbox-churn-prediction-challenge/data/churn_comp_refresh/train_v2.csv')\n",
    "members_df = pd.read_csv('D:/kkbox-churn-prediction-challenge/data/churn_comp_refresh/members_v3.csv')\n",
    "transactions_df = pd.read_csv('D:/kkbox-churn-prediction-challenge/data/churn_comp_refresh/transactions_v2.csv')\n",
    "user_logs_df = pd.read_csv('D:/kkbox-churn-prediction-challenge/data/churn_comp_refresh/user_logs_v2.csv')"
   ]
  },
  {
   "cell_type": "code",
   "execution_count": 6,
   "metadata": {},
   "outputs": [
    {
     "name": "stdout",
     "output_type": "stream",
     "text": [
      "train_df :  (970960, 2)\n",
      "members_df :  (6769473, 6)\n",
      "transactions_df :  (1431009, 9)\n",
      "user_logs_df :  (18396362, 9)\n"
     ]
    }
   ],
   "source": [
    "print('train_df : ', train_df.shape)\n",
    "print('members_df : ', members_df.shape)\n",
    "print('transactions_df : ', transactions_df.shape)\n",
    "print('user_logs_df : ', user_logs_df.shape)"
   ]
  },
  {
   "cell_type": "code",
   "execution_count": 14,
   "metadata": {},
   "outputs": [
    {
     "name": "stdout",
     "output_type": "stream",
     "text": [
      "Index(['msno', 'is_churn'], dtype='object')\n",
      "Index(['msno', 'city', 'bd', 'gender', 'registered_via',\n",
      "       'registration_init_time'],\n",
      "      dtype='object')\n",
      "Index(['msno', 'payment_method_id', 'payment_plan_days', 'plan_list_price',\n",
      "       'actual_amount_paid', 'is_auto_renew', 'transaction_date',\n",
      "       'membership_expire_date', 'is_cancel'],\n",
      "      dtype='object')\n",
      "Index(['msno', 'date', 'num_25', 'num_50', 'num_75', 'num_985', 'num_100',\n",
      "       'num_unq', 'total_secs'],\n",
      "      dtype='object')\n"
     ]
    }
   ],
   "source": [
    "print(train_df.columns)\n",
    "print(members_df.columns)\n",
    "print(transactions_df.columns)\n",
    "print(user_logs_df.columns)"
   ]
  },
  {
   "attachments": {},
   "cell_type": "markdown",
   "metadata": {},
   "source": [
    "### train_df 살펴보기"
   ]
  },
  {
   "cell_type": "code",
   "execution_count": 8,
   "metadata": {},
   "outputs": [
    {
     "data": {
      "text/plain": [
       "(883630, 87330)"
      ]
     },
     "execution_count": 8,
     "metadata": {},
     "output_type": "execute_result"
    }
   ],
   "source": [
    "(train_df['is_churn'] == 0).sum(), (train_df['is_churn'] == 1).sum()"
   ]
  },
  {
   "cell_type": "code",
   "execution_count": 10,
   "metadata": {},
   "outputs": [
    {
     "data": {
      "text/plain": [
       "msno        0\n",
       "is_churn    0\n",
       "dtype: int64"
      ]
     },
     "execution_count": 10,
     "metadata": {},
     "output_type": "execute_result"
    }
   ],
   "source": [
    "train_df.isnull().sum()"
   ]
  },
  {
   "cell_type": "code",
   "execution_count": 12,
   "metadata": {},
   "outputs": [
    {
     "data": {
      "text/plain": [
       "970960"
      ]
     },
     "execution_count": 12,
     "metadata": {},
     "output_type": "execute_result"
    }
   ],
   "source": [
    "len(train_df['msno'].unique())"
   ]
  },
  {
   "cell_type": "code",
   "execution_count": null,
   "metadata": {},
   "outputs": [],
   "source": []
  }
 ],
 "metadata": {
  "kernelspec": {
   "display_name": "ds_study",
   "language": "python",
   "name": "python3"
  },
  "language_info": {
   "codemirror_mode": {
    "name": "ipython",
    "version": 3
   },
   "file_extension": ".py",
   "mimetype": "text/x-python",
   "name": "python",
   "nbconvert_exporter": "python",
   "pygments_lexer": "ipython3",
   "version": "3.9.13"
  },
  "orig_nbformat": 4,
  "vscode": {
   "interpreter": {
    "hash": "ee24105d9053af755242f68e5a57bab698c7b172ade319007fef3421f55023b2"
   }
  }
 },
 "nbformat": 4,
 "nbformat_minor": 2
}
